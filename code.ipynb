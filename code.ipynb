{
 "cells": [
  {
   "cell_type": "markdown",
   "metadata": {},
   "source": [
    "# Things to do\n",
    "    - add humidity column\n",
    "    - add weekday column\n",
    "    - one hot encoder cbwd and weekday columns\n",
    "    - fill NaN with not NaN before\n",
    "    - outliers\n",
    "    - add past data columns"
   ]
  },
  {
   "cell_type": "markdown",
   "metadata": {},
   "source": [
    "### Rút kinh nghiệm sau vài lần chọn features cho model:  \n",
    "    - Cột cbwd và thứ trong tuần không quá ảnh hưởng đến model nên không dùng nữa\n",
    "    - Cột Ir và Is không ảnh hưởng nhiều đến model\n",
    "    - Cột pres không ảnh hưởng nhiều dến model"
   ]
  },
  {
   "cell_type": "markdown",
   "metadata": {},
   "source": [
    "- Thử phương pháp vét cạn, chọn trường hợp tối ưu nhất trong số tất cả cách chọn -> 2^(số cột)"
   ]
  },
  {
   "cell_type": "code",
   "execution_count": 1,
   "metadata": {},
   "outputs": [],
   "source": [
    "import pandas as pd\n",
    "import numpy as np\n",
    "from math import exp, isnan\n",
    "from datetime import datetime\n",
    "from matplotlib import pyplot as plt\n",
    "from sklearn.ensemble import RandomForestRegressor\n",
    "from sklearn.metrics import r2_score, mean_absolute_error\n",
    "from sklearn.model_selection import train_test_split"
   ]
  },
  {
   "cell_type": "code",
   "execution_count": 2,
   "metadata": {},
   "outputs": [],
   "source": [
    "plt.rcParams[\"figure.figsize\"] = 15, 10"
   ]
  },
  {
   "cell_type": "code",
   "execution_count": 3,
   "metadata": {
    "scrolled": false
   },
   "outputs": [
    {
     "data": {
      "text/html": [
       "<div>\n",
       "<style scoped>\n",
       "    .dataframe tbody tr th:only-of-type {\n",
       "        vertical-align: middle;\n",
       "    }\n",
       "\n",
       "    .dataframe tbody tr th {\n",
       "        vertical-align: top;\n",
       "    }\n",
       "\n",
       "    .dataframe thead th {\n",
       "        text-align: right;\n",
       "    }\n",
       "</style>\n",
       "<table border=\"1\" class=\"dataframe\">\n",
       "  <thead>\n",
       "    <tr style=\"text-align: right;\">\n",
       "      <th></th>\n",
       "      <th>No</th>\n",
       "      <th>year</th>\n",
       "      <th>month</th>\n",
       "      <th>day</th>\n",
       "      <th>hour</th>\n",
       "      <th>pm2.5</th>\n",
       "      <th>DEWP</th>\n",
       "      <th>TEMP</th>\n",
       "      <th>PRES</th>\n",
       "      <th>cbwd</th>\n",
       "      <th>Iws</th>\n",
       "      <th>Is</th>\n",
       "      <th>Ir</th>\n",
       "    </tr>\n",
       "  </thead>\n",
       "  <tbody>\n",
       "    <tr>\n",
       "      <th>0</th>\n",
       "      <td>1</td>\n",
       "      <td>2010</td>\n",
       "      <td>1</td>\n",
       "      <td>1</td>\n",
       "      <td>0</td>\n",
       "      <td>NaN</td>\n",
       "      <td>-21</td>\n",
       "      <td>-11.0</td>\n",
       "      <td>1021.0</td>\n",
       "      <td>NW</td>\n",
       "      <td>1.79</td>\n",
       "      <td>0</td>\n",
       "      <td>0</td>\n",
       "    </tr>\n",
       "    <tr>\n",
       "      <th>1</th>\n",
       "      <td>2</td>\n",
       "      <td>2010</td>\n",
       "      <td>1</td>\n",
       "      <td>1</td>\n",
       "      <td>1</td>\n",
       "      <td>NaN</td>\n",
       "      <td>-21</td>\n",
       "      <td>-12.0</td>\n",
       "      <td>1020.0</td>\n",
       "      <td>NW</td>\n",
       "      <td>4.92</td>\n",
       "      <td>0</td>\n",
       "      <td>0</td>\n",
       "    </tr>\n",
       "    <tr>\n",
       "      <th>2</th>\n",
       "      <td>3</td>\n",
       "      <td>2010</td>\n",
       "      <td>1</td>\n",
       "      <td>1</td>\n",
       "      <td>2</td>\n",
       "      <td>NaN</td>\n",
       "      <td>-21</td>\n",
       "      <td>-11.0</td>\n",
       "      <td>1019.0</td>\n",
       "      <td>NW</td>\n",
       "      <td>6.71</td>\n",
       "      <td>0</td>\n",
       "      <td>0</td>\n",
       "    </tr>\n",
       "    <tr>\n",
       "      <th>3</th>\n",
       "      <td>4</td>\n",
       "      <td>2010</td>\n",
       "      <td>1</td>\n",
       "      <td>1</td>\n",
       "      <td>3</td>\n",
       "      <td>NaN</td>\n",
       "      <td>-21</td>\n",
       "      <td>-14.0</td>\n",
       "      <td>1019.0</td>\n",
       "      <td>NW</td>\n",
       "      <td>9.84</td>\n",
       "      <td>0</td>\n",
       "      <td>0</td>\n",
       "    </tr>\n",
       "    <tr>\n",
       "      <th>4</th>\n",
       "      <td>5</td>\n",
       "      <td>2010</td>\n",
       "      <td>1</td>\n",
       "      <td>1</td>\n",
       "      <td>4</td>\n",
       "      <td>NaN</td>\n",
       "      <td>-20</td>\n",
       "      <td>-12.0</td>\n",
       "      <td>1018.0</td>\n",
       "      <td>NW</td>\n",
       "      <td>12.97</td>\n",
       "      <td>0</td>\n",
       "      <td>0</td>\n",
       "    </tr>\n",
       "    <tr>\n",
       "      <th>...</th>\n",
       "      <td>...</td>\n",
       "      <td>...</td>\n",
       "      <td>...</td>\n",
       "      <td>...</td>\n",
       "      <td>...</td>\n",
       "      <td>...</td>\n",
       "      <td>...</td>\n",
       "      <td>...</td>\n",
       "      <td>...</td>\n",
       "      <td>...</td>\n",
       "      <td>...</td>\n",
       "      <td>...</td>\n",
       "      <td>...</td>\n",
       "    </tr>\n",
       "    <tr>\n",
       "      <th>43819</th>\n",
       "      <td>43820</td>\n",
       "      <td>2014</td>\n",
       "      <td>12</td>\n",
       "      <td>31</td>\n",
       "      <td>19</td>\n",
       "      <td>8.0</td>\n",
       "      <td>-23</td>\n",
       "      <td>-2.0</td>\n",
       "      <td>1034.0</td>\n",
       "      <td>NW</td>\n",
       "      <td>231.97</td>\n",
       "      <td>0</td>\n",
       "      <td>0</td>\n",
       "    </tr>\n",
       "    <tr>\n",
       "      <th>43820</th>\n",
       "      <td>43821</td>\n",
       "      <td>2014</td>\n",
       "      <td>12</td>\n",
       "      <td>31</td>\n",
       "      <td>20</td>\n",
       "      <td>10.0</td>\n",
       "      <td>-22</td>\n",
       "      <td>-3.0</td>\n",
       "      <td>1034.0</td>\n",
       "      <td>NW</td>\n",
       "      <td>237.78</td>\n",
       "      <td>0</td>\n",
       "      <td>0</td>\n",
       "    </tr>\n",
       "    <tr>\n",
       "      <th>43821</th>\n",
       "      <td>43822</td>\n",
       "      <td>2014</td>\n",
       "      <td>12</td>\n",
       "      <td>31</td>\n",
       "      <td>21</td>\n",
       "      <td>10.0</td>\n",
       "      <td>-22</td>\n",
       "      <td>-3.0</td>\n",
       "      <td>1034.0</td>\n",
       "      <td>NW</td>\n",
       "      <td>242.70</td>\n",
       "      <td>0</td>\n",
       "      <td>0</td>\n",
       "    </tr>\n",
       "    <tr>\n",
       "      <th>43822</th>\n",
       "      <td>43823</td>\n",
       "      <td>2014</td>\n",
       "      <td>12</td>\n",
       "      <td>31</td>\n",
       "      <td>22</td>\n",
       "      <td>8.0</td>\n",
       "      <td>-22</td>\n",
       "      <td>-4.0</td>\n",
       "      <td>1034.0</td>\n",
       "      <td>NW</td>\n",
       "      <td>246.72</td>\n",
       "      <td>0</td>\n",
       "      <td>0</td>\n",
       "    </tr>\n",
       "    <tr>\n",
       "      <th>43823</th>\n",
       "      <td>43824</td>\n",
       "      <td>2014</td>\n",
       "      <td>12</td>\n",
       "      <td>31</td>\n",
       "      <td>23</td>\n",
       "      <td>12.0</td>\n",
       "      <td>-21</td>\n",
       "      <td>-3.0</td>\n",
       "      <td>1034.0</td>\n",
       "      <td>NW</td>\n",
       "      <td>249.85</td>\n",
       "      <td>0</td>\n",
       "      <td>0</td>\n",
       "    </tr>\n",
       "  </tbody>\n",
       "</table>\n",
       "<p>43824 rows × 13 columns</p>\n",
       "</div>"
      ],
      "text/plain": [
       "          No  year  month  day  hour  pm2.5  DEWP  TEMP    PRES cbwd     Iws  \\\n",
       "0          1  2010      1    1     0    NaN   -21 -11.0  1021.0   NW    1.79   \n",
       "1          2  2010      1    1     1    NaN   -21 -12.0  1020.0   NW    4.92   \n",
       "2          3  2010      1    1     2    NaN   -21 -11.0  1019.0   NW    6.71   \n",
       "3          4  2010      1    1     3    NaN   -21 -14.0  1019.0   NW    9.84   \n",
       "4          5  2010      1    1     4    NaN   -20 -12.0  1018.0   NW   12.97   \n",
       "...      ...   ...    ...  ...   ...    ...   ...   ...     ...  ...     ...   \n",
       "43819  43820  2014     12   31    19    8.0   -23  -2.0  1034.0   NW  231.97   \n",
       "43820  43821  2014     12   31    20   10.0   -22  -3.0  1034.0   NW  237.78   \n",
       "43821  43822  2014     12   31    21   10.0   -22  -3.0  1034.0   NW  242.70   \n",
       "43822  43823  2014     12   31    22    8.0   -22  -4.0  1034.0   NW  246.72   \n",
       "43823  43824  2014     12   31    23   12.0   -21  -3.0  1034.0   NW  249.85   \n",
       "\n",
       "       Is  Ir  \n",
       "0       0   0  \n",
       "1       0   0  \n",
       "2       0   0  \n",
       "3       0   0  \n",
       "4       0   0  \n",
       "...    ..  ..  \n",
       "43819   0   0  \n",
       "43820   0   0  \n",
       "43821   0   0  \n",
       "43822   0   0  \n",
       "43823   0   0  \n",
       "\n",
       "[43824 rows x 13 columns]"
      ]
     },
     "execution_count": 3,
     "metadata": {},
     "output_type": "execute_result"
    }
   ],
   "source": [
    "df = pd.read_csv('data.csv')\n",
    "df"
   ]
  },
  {
   "cell_type": "markdown",
   "metadata": {},
   "source": [
    "## Add humidity column"
   ]
  },
  {
   "cell_type": "code",
   "execution_count": 4,
   "metadata": {},
   "outputs": [],
   "source": [
    "def cal(temp, dewp):\n",
    "    return 100*(exp((17.625*dewp)/(243.04+dewp))/exp((17.625*temp)/(243.04+temp)))\n",
    "df['hum'] = [cal(temp, dewp) for temp, dewp in zip(df['TEMP'], df['DEWP'])]"
   ]
  },
  {
   "cell_type": "markdown",
   "metadata": {},
   "source": [
    "## Add weekday column"
   ]
  },
  {
   "cell_type": "code",
   "execution_count": 5,
   "metadata": {},
   "outputs": [],
   "source": [
    "# weekday = ['Sun', 'Mon', 'Tue', 'Wed', 'Thu', 'Fri', 'Sat']\n",
    "# tmp = []\n",
    "# for i, j, k in zip(df['day'], df['month'], df['year']):\n",
    "#     date = weekday[datetime.strptime(str('{}/{}/{}'.format(i, j, k)), '%d/%m/%Y').weekday()]\n",
    "#     tmp.append(date)\n",
    "# df['weekday'] = tmp"
   ]
  },
  {
   "cell_type": "markdown",
   "metadata": {},
   "source": [
    "## One Hot Encoder cbwd column"
   ]
  },
  {
   "cell_type": "code",
   "execution_count": 6,
   "metadata": {},
   "outputs": [],
   "source": [
    "# df = pd.get_dummies(df)"
   ]
  },
  {
   "cell_type": "markdown",
   "metadata": {},
   "source": [
    "## Fill NaN with not NaN before"
   ]
  },
  {
   "cell_type": "code",
   "execution_count": 7,
   "metadata": {
    "scrolled": true
   },
   "outputs": [
    {
     "data": {
      "text/plain": [
       "2067"
      ]
     },
     "execution_count": 7,
     "metadata": {},
     "output_type": "execute_result"
    }
   ],
   "source": [
    "df['pm2.5'].isna().sum()"
   ]
  },
  {
   "cell_type": "code",
   "execution_count": 8,
   "metadata": {},
   "outputs": [],
   "source": [
    "df['pm2.5'].fillna(method='ffill', inplace=True)"
   ]
  },
  {
   "cell_type": "code",
   "execution_count": 9,
   "metadata": {},
   "outputs": [
    {
     "data": {
      "text/html": [
       "<div>\n",
       "<style scoped>\n",
       "    .dataframe tbody tr th:only-of-type {\n",
       "        vertical-align: middle;\n",
       "    }\n",
       "\n",
       "    .dataframe tbody tr th {\n",
       "        vertical-align: top;\n",
       "    }\n",
       "\n",
       "    .dataframe thead th {\n",
       "        text-align: right;\n",
       "    }\n",
       "</style>\n",
       "<table border=\"1\" class=\"dataframe\">\n",
       "  <thead>\n",
       "    <tr style=\"text-align: right;\">\n",
       "      <th></th>\n",
       "      <th>No</th>\n",
       "      <th>year</th>\n",
       "      <th>month</th>\n",
       "      <th>day</th>\n",
       "      <th>hour</th>\n",
       "      <th>pm2.5</th>\n",
       "      <th>DEWP</th>\n",
       "      <th>TEMP</th>\n",
       "      <th>PRES</th>\n",
       "      <th>cbwd</th>\n",
       "      <th>Iws</th>\n",
       "      <th>Is</th>\n",
       "      <th>Ir</th>\n",
       "      <th>hum</th>\n",
       "    </tr>\n",
       "  </thead>\n",
       "  <tbody>\n",
       "    <tr>\n",
       "      <th>0</th>\n",
       "      <td>1</td>\n",
       "      <td>2010</td>\n",
       "      <td>1</td>\n",
       "      <td>1</td>\n",
       "      <td>0</td>\n",
       "      <td>NaN</td>\n",
       "      <td>-21</td>\n",
       "      <td>-11.0</td>\n",
       "      <td>1021.0</td>\n",
       "      <td>NW</td>\n",
       "      <td>1.79</td>\n",
       "      <td>0</td>\n",
       "      <td>0</td>\n",
       "      <td>43.543692</td>\n",
       "    </tr>\n",
       "    <tr>\n",
       "      <th>1</th>\n",
       "      <td>2</td>\n",
       "      <td>2010</td>\n",
       "      <td>1</td>\n",
       "      <td>1</td>\n",
       "      <td>1</td>\n",
       "      <td>NaN</td>\n",
       "      <td>-21</td>\n",
       "      <td>-12.0</td>\n",
       "      <td>1020.0</td>\n",
       "      <td>NW</td>\n",
       "      <td>4.92</td>\n",
       "      <td>0</td>\n",
       "      <td>0</td>\n",
       "      <td>47.165689</td>\n",
       "    </tr>\n",
       "    <tr>\n",
       "      <th>2</th>\n",
       "      <td>3</td>\n",
       "      <td>2010</td>\n",
       "      <td>1</td>\n",
       "      <td>1</td>\n",
       "      <td>2</td>\n",
       "      <td>NaN</td>\n",
       "      <td>-21</td>\n",
       "      <td>-11.0</td>\n",
       "      <td>1019.0</td>\n",
       "      <td>NW</td>\n",
       "      <td>6.71</td>\n",
       "      <td>0</td>\n",
       "      <td>0</td>\n",
       "      <td>43.543692</td>\n",
       "    </tr>\n",
       "    <tr>\n",
       "      <th>3</th>\n",
       "      <td>4</td>\n",
       "      <td>2010</td>\n",
       "      <td>1</td>\n",
       "      <td>1</td>\n",
       "      <td>3</td>\n",
       "      <td>NaN</td>\n",
       "      <td>-21</td>\n",
       "      <td>-14.0</td>\n",
       "      <td>1019.0</td>\n",
       "      <td>NW</td>\n",
       "      <td>9.84</td>\n",
       "      <td>0</td>\n",
       "      <td>0</td>\n",
       "      <td>55.454538</td>\n",
       "    </tr>\n",
       "    <tr>\n",
       "      <th>4</th>\n",
       "      <td>5</td>\n",
       "      <td>2010</td>\n",
       "      <td>1</td>\n",
       "      <td>1</td>\n",
       "      <td>4</td>\n",
       "      <td>NaN</td>\n",
       "      <td>-20</td>\n",
       "      <td>-12.0</td>\n",
       "      <td>1018.0</td>\n",
       "      <td>NW</td>\n",
       "      <td>12.97</td>\n",
       "      <td>0</td>\n",
       "      <td>0</td>\n",
       "      <td>51.426936</td>\n",
       "    </tr>\n",
       "    <tr>\n",
       "      <th>...</th>\n",
       "      <td>...</td>\n",
       "      <td>...</td>\n",
       "      <td>...</td>\n",
       "      <td>...</td>\n",
       "      <td>...</td>\n",
       "      <td>...</td>\n",
       "      <td>...</td>\n",
       "      <td>...</td>\n",
       "      <td>...</td>\n",
       "      <td>...</td>\n",
       "      <td>...</td>\n",
       "      <td>...</td>\n",
       "      <td>...</td>\n",
       "      <td>...</td>\n",
       "    </tr>\n",
       "    <tr>\n",
       "      <th>43819</th>\n",
       "      <td>43820</td>\n",
       "      <td>2014</td>\n",
       "      <td>12</td>\n",
       "      <td>31</td>\n",
       "      <td>19</td>\n",
       "      <td>8.0</td>\n",
       "      <td>-23</td>\n",
       "      <td>-2.0</td>\n",
       "      <td>1034.0</td>\n",
       "      <td>NW</td>\n",
       "      <td>231.97</td>\n",
       "      <td>0</td>\n",
       "      <td>0</td>\n",
       "      <td>18.340886</td>\n",
       "    </tr>\n",
       "    <tr>\n",
       "      <th>43820</th>\n",
       "      <td>43821</td>\n",
       "      <td>2014</td>\n",
       "      <td>12</td>\n",
       "      <td>31</td>\n",
       "      <td>20</td>\n",
       "      <td>10.0</td>\n",
       "      <td>-22</td>\n",
       "      <td>-3.0</td>\n",
       "      <td>1034.0</td>\n",
       "      <td>NW</td>\n",
       "      <td>237.78</td>\n",
       "      <td>0</td>\n",
       "      <td>0</td>\n",
       "      <td>21.568601</td>\n",
       "    </tr>\n",
       "    <tr>\n",
       "      <th>43821</th>\n",
       "      <td>43822</td>\n",
       "      <td>2014</td>\n",
       "      <td>12</td>\n",
       "      <td>31</td>\n",
       "      <td>21</td>\n",
       "      <td>10.0</td>\n",
       "      <td>-22</td>\n",
       "      <td>-3.0</td>\n",
       "      <td>1034.0</td>\n",
       "      <td>NW</td>\n",
       "      <td>242.70</td>\n",
       "      <td>0</td>\n",
       "      <td>0</td>\n",
       "      <td>21.568601</td>\n",
       "    </tr>\n",
       "    <tr>\n",
       "      <th>43822</th>\n",
       "      <td>43823</td>\n",
       "      <td>2014</td>\n",
       "      <td>12</td>\n",
       "      <td>31</td>\n",
       "      <td>22</td>\n",
       "      <td>8.0</td>\n",
       "      <td>-22</td>\n",
       "      <td>-4.0</td>\n",
       "      <td>1034.0</td>\n",
       "      <td>NW</td>\n",
       "      <td>246.72</td>\n",
       "      <td>0</td>\n",
       "      <td>0</td>\n",
       "      <td>23.240409</td>\n",
       "    </tr>\n",
       "    <tr>\n",
       "      <th>43823</th>\n",
       "      <td>43824</td>\n",
       "      <td>2014</td>\n",
       "      <td>12</td>\n",
       "      <td>31</td>\n",
       "      <td>23</td>\n",
       "      <td>12.0</td>\n",
       "      <td>-21</td>\n",
       "      <td>-3.0</td>\n",
       "      <td>1034.0</td>\n",
       "      <td>NW</td>\n",
       "      <td>249.85</td>\n",
       "      <td>0</td>\n",
       "      <td>0</td>\n",
       "      <td>23.535657</td>\n",
       "    </tr>\n",
       "  </tbody>\n",
       "</table>\n",
       "<p>43824 rows × 14 columns</p>\n",
       "</div>"
      ],
      "text/plain": [
       "          No  year  month  day  hour  pm2.5  DEWP  TEMP    PRES cbwd     Iws  \\\n",
       "0          1  2010      1    1     0    NaN   -21 -11.0  1021.0   NW    1.79   \n",
       "1          2  2010      1    1     1    NaN   -21 -12.0  1020.0   NW    4.92   \n",
       "2          3  2010      1    1     2    NaN   -21 -11.0  1019.0   NW    6.71   \n",
       "3          4  2010      1    1     3    NaN   -21 -14.0  1019.0   NW    9.84   \n",
       "4          5  2010      1    1     4    NaN   -20 -12.0  1018.0   NW   12.97   \n",
       "...      ...   ...    ...  ...   ...    ...   ...   ...     ...  ...     ...   \n",
       "43819  43820  2014     12   31    19    8.0   -23  -2.0  1034.0   NW  231.97   \n",
       "43820  43821  2014     12   31    20   10.0   -22  -3.0  1034.0   NW  237.78   \n",
       "43821  43822  2014     12   31    21   10.0   -22  -3.0  1034.0   NW  242.70   \n",
       "43822  43823  2014     12   31    22    8.0   -22  -4.0  1034.0   NW  246.72   \n",
       "43823  43824  2014     12   31    23   12.0   -21  -3.0  1034.0   NW  249.85   \n",
       "\n",
       "       Is  Ir        hum  \n",
       "0       0   0  43.543692  \n",
       "1       0   0  47.165689  \n",
       "2       0   0  43.543692  \n",
       "3       0   0  55.454538  \n",
       "4       0   0  51.426936  \n",
       "...    ..  ..        ...  \n",
       "43819   0   0  18.340886  \n",
       "43820   0   0  21.568601  \n",
       "43821   0   0  21.568601  \n",
       "43822   0   0  23.240409  \n",
       "43823   0   0  23.535657  \n",
       "\n",
       "[43824 rows x 14 columns]"
      ]
     },
     "execution_count": 9,
     "metadata": {},
     "output_type": "execute_result"
    }
   ],
   "source": [
    "df"
   ]
  },
  {
   "cell_type": "markdown",
   "metadata": {},
   "source": [
    "## Outliers"
   ]
  },
  {
   "cell_type": "code",
   "execution_count": 10,
   "metadata": {},
   "outputs": [],
   "source": [
    "dic = {}\n",
    "for day, month, year, hour, pm25 in zip(df['day'], df['month'], df['year'], df['hour'], df['pm2.5']):\n",
    "    dic[datetime.strptime(str('{}/{}/{} {}:00'.format(day, month, year, hour)), '%d/%m/%Y %H:%M')] = pm25"
   ]
  },
  {
   "cell_type": "code",
   "execution_count": 11,
   "metadata": {},
   "outputs": [],
   "source": [
    "outlier_df = pd.DataFrame.from_dict(dic, orient='index', columns=['Value'])"
   ]
  },
  {
   "cell_type": "code",
   "execution_count": 12,
   "metadata": {
    "scrolled": false
   },
   "outputs": [
    {
     "data": {
      "image/png": "[encoded data removed]",
      "text/plain": [
       "<Figure size 1080x720 with 1 Axes>"
      ]
     },
     "metadata": {
      "needs_background": "light"
     },
     "output_type": "display_data"
    }
   ],
   "source": [
    "outlier_df.plot()\n",
    "plt.show()"
   ]
  },
  {
   "cell_type": "code",
   "execution_count": 13,
   "metadata": {},
   "outputs": [],
   "source": [
    "df = df[df['pm2.5'] <= 600]"
   ]
  },
  {
   "cell_type": "code",
   "execution_count": 14,
   "metadata": {
    "scrolled": false
   },
   "outputs": [
    {
     "data": {
      "text/html": [
       "<div>\n",
       "<style scoped>\n",
       "    .dataframe tbody tr th:only-of-type {\n",
       "        vertical-align: middle;\n",
       "    }\n",
       "\n",
       "    .dataframe tbody tr th {\n",
       "        vertical-align: top;\n",
       "    }\n",
       "\n",
       "    .dataframe thead th {\n",
       "        text-align: right;\n",
       "    }\n",
       "</style>\n",
       "<table border=\"1\" class=\"dataframe\">\n",
       "  <thead>\n",
       "    <tr style=\"text-align: right;\">\n",
       "      <th></th>\n",
       "      <th>No</th>\n",
       "      <th>year</th>\n",
       "      <th>month</th>\n",
       "      <th>day</th>\n",
       "      <th>hour</th>\n",
       "      <th>pm2.5</th>\n",
       "      <th>DEWP</th>\n",
       "      <th>TEMP</th>\n",
       "      <th>PRES</th>\n",
       "      <th>Iws</th>\n",
       "      <th>Is</th>\n",
       "      <th>Ir</th>\n",
       "      <th>hum</th>\n",
       "    </tr>\n",
       "  </thead>\n",
       "  <tbody>\n",
       "    <tr>\n",
       "      <th>No</th>\n",
       "      <td>1.000000</td>\n",
       "      <td>0.979818</td>\n",
       "      <td>0.198630</td>\n",
       "      <td>0.017443</td>\n",
       "      <td>0.000583</td>\n",
       "      <td>-0.009528</td>\n",
       "      <td>0.046393</td>\n",
       "      <td>0.077008</td>\n",
       "      <td>-0.024573</td>\n",
       "      <td>-0.062673</td>\n",
       "      <td>-0.029568</td>\n",
       "      <td>-0.016719</td>\n",
       "      <td>-0.013252</td>\n",
       "    </tr>\n",
       "    <tr>\n",
       "      <th>year</th>\n",
       "      <td>0.979818</td>\n",
       "      <td>1.000000</td>\n",
       "      <td>-0.000573</td>\n",
       "      <td>-0.001077</td>\n",
       "      <td>0.000154</td>\n",
       "      <td>-0.006876</td>\n",
       "      <td>0.000151</td>\n",
       "      <td>0.044835</td>\n",
       "      <td>-0.013069</td>\n",
       "      <td>-0.064370</td>\n",
       "      <td>-0.017062</td>\n",
       "      <td>-0.024493</td>\n",
       "      <td>-0.050575</td>\n",
       "    </tr>\n",
       "    <tr>\n",
       "      <th>month</th>\n",
       "      <td>0.198630</td>\n",
       "      <td>-0.000573</td>\n",
       "      <td>1.000000</td>\n",
       "      <td>0.009206</td>\n",
       "      <td>-0.000582</td>\n",
       "      <td>-0.021266</td>\n",
       "      <td>0.232543</td>\n",
       "      <td>0.167881</td>\n",
       "      <td>-0.061513</td>\n",
       "      <td>0.002493</td>\n",
       "      <td>-0.061901</td>\n",
       "      <td>0.036541</td>\n",
       "      <td>0.180682</td>\n",
       "    </tr>\n",
       "    <tr>\n",
       "      <th>day</th>\n",
       "      <td>0.017443</td>\n",
       "      <td>-0.001077</td>\n",
       "      <td>0.009206</td>\n",
       "      <td>1.000000</td>\n",
       "      <td>0.000052</td>\n",
       "      <td>0.081097</td>\n",
       "      <td>0.027328</td>\n",
       "      <td>0.013326</td>\n",
       "      <td>-0.006913</td>\n",
       "      <td>-0.009141</td>\n",
       "      <td>-0.036920</td>\n",
       "      <td>0.002559</td>\n",
       "      <td>0.028218</td>\n",
       "    </tr>\n",
       "    <tr>\n",
       "      <th>hour</th>\n",
       "      <td>0.000583</td>\n",
       "      <td>0.000154</td>\n",
       "      <td>-0.000582</td>\n",
       "      <td>0.000052</td>\n",
       "      <td>1.000000</td>\n",
       "      <td>-0.023593</td>\n",
       "      <td>-0.021267</td>\n",
       "      <td>0.150029</td>\n",
       "      <td>-0.041671</td>\n",
       "      <td>0.056610</td>\n",
       "      <td>-0.002391</td>\n",
       "      <td>-0.006322</td>\n",
       "      <td>-0.256729</td>\n",
       "    </tr>\n",
       "    <tr>\n",
       "      <th>pm2.5</th>\n",
       "      <td>-0.009528</td>\n",
       "      <td>-0.006876</td>\n",
       "      <td>-0.021266</td>\n",
       "      <td>0.081097</td>\n",
       "      <td>-0.023593</td>\n",
       "      <td>1.000000</td>\n",
       "      <td>0.183443</td>\n",
       "      <td>-0.071875</td>\n",
       "      <td>-0.061710</td>\n",
       "      <td>-0.246062</td>\n",
       "      <td>0.020398</td>\n",
       "      <td>-0.049038</td>\n",
       "      <td>0.440030</td>\n",
       "    </tr>\n",
       "    <tr>\n",
       "      <th>DEWP</th>\n",
       "      <td>0.046393</td>\n",
       "      <td>0.000151</td>\n",
       "      <td>0.232543</td>\n",
       "      <td>0.027328</td>\n",
       "      <td>-0.021267</td>\n",
       "      <td>0.183443</td>\n",
       "      <td>1.000000</td>\n",
       "      <td>0.824458</td>\n",
       "      <td>-0.778787</td>\n",
       "      <td>-0.297034</td>\n",
       "      <td>-0.034532</td>\n",
       "      <td>0.125006</td>\n",
       "      <td>0.622290</td>\n",
       "    </tr>\n",
       "    <tr>\n",
       "      <th>TEMP</th>\n",
       "      <td>0.077008</td>\n",
       "      <td>0.044835</td>\n",
       "      <td>0.167881</td>\n",
       "      <td>0.013326</td>\n",
       "      <td>0.150029</td>\n",
       "      <td>-0.071875</td>\n",
       "      <td>0.824458</td>\n",
       "      <td>1.000000</td>\n",
       "      <td>-0.827405</td>\n",
       "      <td>-0.155456</td>\n",
       "      <td>-0.092869</td>\n",
       "      <td>0.048932</td>\n",
       "      <td>0.095473</td>\n",
       "    </tr>\n",
       "    <tr>\n",
       "      <th>PRES</th>\n",
       "      <td>-0.024573</td>\n",
       "      <td>-0.013069</td>\n",
       "      <td>-0.061513</td>\n",
       "      <td>-0.006913</td>\n",
       "      <td>-0.041671</td>\n",
       "      <td>-0.061710</td>\n",
       "      <td>-0.778787</td>\n",
       "      <td>-0.827405</td>\n",
       "      <td>1.000000</td>\n",
       "      <td>0.185625</td>\n",
       "      <td>0.069082</td>\n",
       "      <td>-0.079816</td>\n",
       "      <td>-0.256052</td>\n",
       "    </tr>\n",
       "    <tr>\n",
       "      <th>Iws</th>\n",
       "      <td>-0.062673</td>\n",
       "      <td>-0.064370</td>\n",
       "      <td>0.002493</td>\n",
       "      <td>-0.009141</td>\n",
       "      <td>0.056610</td>\n",
       "      <td>-0.246062</td>\n",
       "      <td>-0.297034</td>\n",
       "      <td>-0.155456</td>\n",
       "      <td>0.185625</td>\n",
       "      <td>1.000000</td>\n",
       "      <td>0.021856</td>\n",
       "      <td>-0.010180</td>\n",
       "      <td>-0.309699</td>\n",
       "    </tr>\n",
       "    <tr>\n",
       "      <th>Is</th>\n",
       "      <td>-0.029568</td>\n",
       "      <td>-0.017062</td>\n",
       "      <td>-0.061901</td>\n",
       "      <td>-0.036920</td>\n",
       "      <td>-0.002391</td>\n",
       "      <td>0.020398</td>\n",
       "      <td>-0.034532</td>\n",
       "      <td>-0.092869</td>\n",
       "      <td>0.069082</td>\n",
       "      <td>0.021856</td>\n",
       "      <td>1.000000</td>\n",
       "      <td>-0.009561</td>\n",
       "      <td>0.093067</td>\n",
       "    </tr>\n",
       "    <tr>\n",
       "      <th>Ir</th>\n",
       "      <td>-0.016719</td>\n",
       "      <td>-0.024493</td>\n",
       "      <td>0.036541</td>\n",
       "      <td>0.002559</td>\n",
       "      <td>-0.006322</td>\n",
       "      <td>-0.049038</td>\n",
       "      <td>0.125006</td>\n",
       "      <td>0.048932</td>\n",
       "      <td>-0.079816</td>\n",
       "      <td>-0.010180</td>\n",
       "      <td>-0.009561</td>\n",
       "      <td>1.000000</td>\n",
       "      <td>0.183491</td>\n",
       "    </tr>\n",
       "    <tr>\n",
       "      <th>hum</th>\n",
       "      <td>-0.013252</td>\n",
       "      <td>-0.050575</td>\n",
       "      <td>0.180682</td>\n",
       "      <td>0.028218</td>\n",
       "      <td>-0.256729</td>\n",
       "      <td>0.440030</td>\n",
       "      <td>0.622290</td>\n",
       "      <td>0.095473</td>\n",
       "      <td>-0.256052</td>\n",
       "      <td>-0.309699</td>\n",
       "      <td>0.093067</td>\n",
       "      <td>0.183491</td>\n",
       "      <td>1.000000</td>\n",
       "    </tr>\n",
       "  </tbody>\n",
       "</table>\n",
       "</div>"
      ],
      "text/plain": [
       "             No      year     month       day      hour     pm2.5      DEWP  \\\n",
       "No     1.000000  0.979818  0.198630  0.017443  0.000583 -0.009528  0.046393   \n",
       "year   0.979818  1.000000 -0.000573 -0.001077  0.000154 -0.006876  0.000151   \n",
       "month  0.198630 -0.000573  1.000000  0.009206 -0.000582 -0.021266  0.232543   \n",
       "day    0.017443 -0.001077  0.009206  1.000000  0.000052  0.081097  0.027328   \n",
       "hour   0.000583  0.000154 -0.000582  0.000052  1.000000 -0.023593 -0.021267   \n",
       "pm2.5 -0.009528 -0.006876 -0.021266  0.081097 -0.023593  1.000000  0.183443   \n",
       "DEWP   0.046393  0.000151  0.232543  0.027328 -0.021267  0.183443  1.000000   \n",
       "TEMP   0.077008  0.044835  0.167881  0.013326  0.150029 -0.071875  0.824458   \n",
       "PRES  -0.024573 -0.013069 -0.061513 -0.006913 -0.041671 -0.061710 -0.778787   \n",
       "Iws   -0.062673 -0.064370  0.002493 -0.009141  0.056610 -0.246062 -0.297034   \n",
       "Is    -0.029568 -0.017062 -0.061901 -0.036920 -0.002391  0.020398 -0.034532   \n",
       "Ir    -0.016719 -0.024493  0.036541  0.002559 -0.006322 -0.049038  0.125006   \n",
       "hum   -0.013252 -0.050575  0.180682  0.028218 -0.256729  0.440030  0.622290   \n",
       "\n",
       "           TEMP      PRES       Iws        Is        Ir       hum  \n",
       "No     0.077008 -0.024573 -0.062673 -0.029568 -0.016719 -0.013252  \n",
       "year   0.044835 -0.013069 -0.064370 -0.017062 -0.024493 -0.050575  \n",
       "month  0.167881 -0.061513  0.002493 -0.061901  0.036541  0.180682  \n",
       "day    0.013326 -0.006913 -0.009141 -0.036920  0.002559  0.028218  \n",
       "hour   0.150029 -0.041671  0.056610 -0.002391 -0.006322 -0.256729  \n",
       "pm2.5 -0.071875 -0.061710 -0.246062  0.020398 -0.049038  0.440030  \n",
       "DEWP   0.824458 -0.778787 -0.297034 -0.034532  0.125006  0.622290  \n",
       "TEMP   1.000000 -0.827405 -0.155456 -0.092869  0.048932  0.095473  \n",
       "PRES  -0.827405  1.000000  0.185625  0.069082 -0.079816 -0.256052  \n",
       "Iws   -0.155456  0.185625  1.000000  0.021856 -0.010180 -0.309699  \n",
       "Is    -0.092869  0.069082  0.021856  1.000000 -0.009561  0.093067  \n",
       "Ir     0.048932 -0.079816 -0.010180 -0.009561  1.000000  0.183491  \n",
       "hum    0.095473 -0.256052 -0.309699  0.093067  0.183491  1.000000  "
      ]
     },
     "execution_count": 14,
     "metadata": {},
     "output_type": "execute_result"
    }
   ],
   "source": [
    "df.corr()"
   ]
  },
  {
   "cell_type": "code",
   "execution_count": 15,
   "metadata": {
    "scrolled": false
   },
   "outputs": [
    {
     "data": {
      "image/png": "[encoded data removed]",
      "text/plain": [
       "<Figure size 1080x720 with 2 Axes>"
      ]
     },
     "metadata": {
      "needs_background": "light"
     },
     "output_type": "display_data"
    }
   ],
   "source": [
    "import seaborn as sns\n",
    "data = df.corr()\n",
    "mask = np.zeros_like(data)\n",
    "mask[np.triu_indices_from(mask)] = True\n",
    "\n",
    "ax = sns.heatmap(data, mask=mask, vmax=.3, square=True)"
   ]
  },
  {
   "cell_type": "code",
   "execution_count": 16,
   "metadata": {},
   "outputs": [
    {
     "data": {
      "text/html": [
       "<div>\n",
       "<style scoped>\n",
       "    .dataframe tbody tr th:only-of-type {\n",
       "        vertical-align: middle;\n",
       "    }\n",
       "\n",
       "    .dataframe tbody tr th {\n",
       "        vertical-align: top;\n",
       "    }\n",
       "\n",
       "    .dataframe thead th {\n",
       "        text-align: right;\n",
       "    }\n",
       "</style>\n",
       "<table border=\"1\" class=\"dataframe\">\n",
       "  <thead>\n",
       "    <tr style=\"text-align: right;\">\n",
       "      <th></th>\n",
       "      <th>No</th>\n",
       "      <th>year</th>\n",
       "      <th>month</th>\n",
       "      <th>day</th>\n",
       "      <th>hour</th>\n",
       "      <th>pm2.5</th>\n",
       "      <th>DEWP</th>\n",
       "      <th>TEMP</th>\n",
       "      <th>PRES</th>\n",
       "      <th>Iws</th>\n",
       "      <th>Is</th>\n",
       "      <th>Ir</th>\n",
       "      <th>hum</th>\n",
       "    </tr>\n",
       "  </thead>\n",
       "  <tbody>\n",
       "    <tr>\n",
       "      <th>No</th>\n",
       "      <td>1.000000</td>\n",
       "      <td>0.979818</td>\n",
       "      <td>0.198630</td>\n",
       "      <td>0.017443</td>\n",
       "      <td>0.000583</td>\n",
       "      <td>-0.009528</td>\n",
       "      <td>0.046393</td>\n",
       "      <td>0.077008</td>\n",
       "      <td>-0.024573</td>\n",
       "      <td>-0.062673</td>\n",
       "      <td>-0.029568</td>\n",
       "      <td>-0.016719</td>\n",
       "      <td>-0.013252</td>\n",
       "    </tr>\n",
       "    <tr>\n",
       "      <th>year</th>\n",
       "      <td>0.979818</td>\n",
       "      <td>1.000000</td>\n",
       "      <td>-0.000573</td>\n",
       "      <td>-0.001077</td>\n",
       "      <td>0.000154</td>\n",
       "      <td>-0.006876</td>\n",
       "      <td>0.000151</td>\n",
       "      <td>0.044835</td>\n",
       "      <td>-0.013069</td>\n",
       "      <td>-0.064370</td>\n",
       "      <td>-0.017062</td>\n",
       "      <td>-0.024493</td>\n",
       "      <td>-0.050575</td>\n",
       "    </tr>\n",
       "    <tr>\n",
       "      <th>month</th>\n",
       "      <td>0.198630</td>\n",
       "      <td>-0.000573</td>\n",
       "      <td>1.000000</td>\n",
       "      <td>0.009206</td>\n",
       "      <td>-0.000582</td>\n",
       "      <td>-0.021266</td>\n",
       "      <td>0.232543</td>\n",
       "      <td>0.167881</td>\n",
       "      <td>-0.061513</td>\n",
       "      <td>0.002493</td>\n",
       "      <td>-0.061901</td>\n",
       "      <td>0.036541</td>\n",
       "      <td>0.180682</td>\n",
       "    </tr>\n",
       "    <tr>\n",
       "      <th>day</th>\n",
       "      <td>0.017443</td>\n",
       "      <td>-0.001077</td>\n",
       "      <td>0.009206</td>\n",
       "      <td>1.000000</td>\n",
       "      <td>0.000052</td>\n",
       "      <td>0.081097</td>\n",
       "      <td>0.027328</td>\n",
       "      <td>0.013326</td>\n",
       "      <td>-0.006913</td>\n",
       "      <td>-0.009141</td>\n",
       "      <td>-0.036920</td>\n",
       "      <td>0.002559</td>\n",
       "      <td>0.028218</td>\n",
       "    </tr>\n",
       "    <tr>\n",
       "      <th>hour</th>\n",
       "      <td>0.000583</td>\n",
       "      <td>0.000154</td>\n",
       "      <td>-0.000582</td>\n",
       "      <td>0.000052</td>\n",
       "      <td>1.000000</td>\n",
       "      <td>-0.023593</td>\n",
       "      <td>-0.021267</td>\n",
       "      <td>0.150029</td>\n",
       "      <td>-0.041671</td>\n",
       "      <td>0.056610</td>\n",
       "      <td>-0.002391</td>\n",
       "      <td>-0.006322</td>\n",
       "      <td>-0.256729</td>\n",
       "    </tr>\n",
       "    <tr>\n",
       "      <th>pm2.5</th>\n",
       "      <td>-0.009528</td>\n",
       "      <td>-0.006876</td>\n",
       "      <td>-0.021266</td>\n",
       "      <td>0.081097</td>\n",
       "      <td>-0.023593</td>\n",
       "      <td>1.000000</td>\n",
       "      <td>0.183443</td>\n",
       "      <td>-0.071875</td>\n",
       "      <td>-0.061710</td>\n",
       "      <td>-0.246062</td>\n",
       "      <td>0.020398</td>\n",
       "      <td>-0.049038</td>\n",
       "      <td>0.440030</td>\n",
       "    </tr>\n",
       "    <tr>\n",
       "      <th>DEWP</th>\n",
       "      <td>0.046393</td>\n",
       "      <td>0.000151</td>\n",
       "      <td>0.232543</td>\n",
       "      <td>0.027328</td>\n",
       "      <td>-0.021267</td>\n",
       "      <td>0.183443</td>\n",
       "      <td>1.000000</td>\n",
       "      <td>0.824458</td>\n",
       "      <td>-0.778787</td>\n",
       "      <td>-0.297034</td>\n",
       "      <td>-0.034532</td>\n",
       "      <td>0.125006</td>\n",
       "      <td>0.622290</td>\n",
       "    </tr>\n",
       "    <tr>\n",
       "      <th>TEMP</th>\n",
       "      <td>0.077008</td>\n",
       "      <td>0.044835</td>\n",
       "      <td>0.167881</td>\n",
       "      <td>0.013326</td>\n",
       "      <td>0.150029</td>\n",
       "      <td>-0.071875</td>\n",
       "      <td>0.824458</td>\n",
       "      <td>1.000000</td>\n",
       "      <td>-0.827405</td>\n",
       "      <td>-0.155456</td>\n",
       "      <td>-0.092869</td>\n",
       "      <td>0.048932</td>\n",
       "      <td>0.095473</td>\n",
       "    </tr>\n",
       "    <tr>\n",
       "      <th>PRES</th>\n",
       "      <td>-0.024573</td>\n",
       "      <td>-0.013069</td>\n",
       "      <td>-0.061513</td>\n",
       "      <td>-0.006913</td>\n",
       "      <td>-0.041671</td>\n",
       "      <td>-0.061710</td>\n",
       "      <td>-0.778787</td>\n",
       "      <td>-0.827405</td>\n",
       "      <td>1.000000</td>\n",
       "      <td>0.185625</td>\n",
       "      <td>0.069082</td>\n",
       "      <td>-0.079816</td>\n",
       "      <td>-0.256052</td>\n",
       "    </tr>\n",
       "    <tr>\n",
       "      <th>Iws</th>\n",
       "      <td>-0.062673</td>\n",
       "      <td>-0.064370</td>\n",
       "      <td>0.002493</td>\n",
       "      <td>-0.009141</td>\n",
       "      <td>0.056610</td>\n",
       "      <td>-0.246062</td>\n",
       "      <td>-0.297034</td>\n",
       "      <td>-0.155456</td>\n",
       "      <td>0.185625</td>\n",
       "      <td>1.000000</td>\n",
       "      <td>0.021856</td>\n",
       "      <td>-0.010180</td>\n",
       "      <td>-0.309699</td>\n",
       "    </tr>\n",
       "    <tr>\n",
       "      <th>Is</th>\n",
       "      <td>-0.029568</td>\n",
       "      <td>-0.017062</td>\n",
       "      <td>-0.061901</td>\n",
       "      <td>-0.036920</td>\n",
       "      <td>-0.002391</td>\n",
       "      <td>0.020398</td>\n",
       "      <td>-0.034532</td>\n",
       "      <td>-0.092869</td>\n",
       "      <td>0.069082</td>\n",
       "      <td>0.021856</td>\n",
       "      <td>1.000000</td>\n",
       "      <td>-0.009561</td>\n",
       "      <td>0.093067</td>\n",
       "    </tr>\n",
       "    <tr>\n",
       "      <th>Ir</th>\n",
       "      <td>-0.016719</td>\n",
       "      <td>-0.024493</td>\n",
       "      <td>0.036541</td>\n",
       "      <td>0.002559</td>\n",
       "      <td>-0.006322</td>\n",
       "      <td>-0.049038</td>\n",
       "      <td>0.125006</td>\n",
       "      <td>0.048932</td>\n",
       "      <td>-0.079816</td>\n",
       "      <td>-0.010180</td>\n",
       "      <td>-0.009561</td>\n",
       "      <td>1.000000</td>\n",
       "      <td>0.183491</td>\n",
       "    </tr>\n",
       "    <tr>\n",
       "      <th>hum</th>\n",
       "      <td>-0.013252</td>\n",
       "      <td>-0.050575</td>\n",
       "      <td>0.180682</td>\n",
       "      <td>0.028218</td>\n",
       "      <td>-0.256729</td>\n",
       "      <td>0.440030</td>\n",
       "      <td>0.622290</td>\n",
       "      <td>0.095473</td>\n",
       "      <td>-0.256052</td>\n",
       "      <td>-0.309699</td>\n",
       "      <td>0.093067</td>\n",
       "      <td>0.183491</td>\n",
       "      <td>1.000000</td>\n",
       "    </tr>\n",
       "  </tbody>\n",
       "</table>\n",
       "</div>"
      ],
      "text/plain": [
       "             No      year     month       day      hour     pm2.5      DEWP  \\\n",
       "No     1.000000  0.979818  0.198630  0.017443  0.000583 -0.009528  0.046393   \n",
       "year   0.979818  1.000000 -0.000573 -0.001077  0.000154 -0.006876  0.000151   \n",
       "month  0.198630 -0.000573  1.000000  0.009206 -0.000582 -0.021266  0.232543   \n",
       "day    0.017443 -0.001077  0.009206  1.000000  0.000052  0.081097  0.027328   \n",
       "hour   0.000583  0.000154 -0.000582  0.000052  1.000000 -0.023593 -0.021267   \n",
       "pm2.5 -0.009528 -0.006876 -0.021266  0.081097 -0.023593  1.000000  0.183443   \n",
       "DEWP   0.046393  0.000151  0.232543  0.027328 -0.021267  0.183443  1.000000   \n",
       "TEMP   0.077008  0.044835  0.167881  0.013326  0.150029 -0.071875  0.824458   \n",
       "PRES  -0.024573 -0.013069 -0.061513 -0.006913 -0.041671 -0.061710 -0.778787   \n",
       "Iws   -0.062673 -0.064370  0.002493 -0.009141  0.056610 -0.246062 -0.297034   \n",
       "Is    -0.029568 -0.017062 -0.061901 -0.036920 -0.002391  0.020398 -0.034532   \n",
       "Ir    -0.016719 -0.024493  0.036541  0.002559 -0.006322 -0.049038  0.125006   \n",
       "hum   -0.013252 -0.050575  0.180682  0.028218 -0.256729  0.440030  0.622290   \n",
       "\n",
       "           TEMP      PRES       Iws        Is        Ir       hum  \n",
       "No     0.077008 -0.024573 -0.062673 -0.029568 -0.016719 -0.013252  \n",
       "year   0.044835 -0.013069 -0.064370 -0.017062 -0.024493 -0.050575  \n",
       "month  0.167881 -0.061513  0.002493 -0.061901  0.036541  0.180682  \n",
       "day    0.013326 -0.006913 -0.009141 -0.036920  0.002559  0.028218  \n",
       "hour   0.150029 -0.041671  0.056610 -0.002391 -0.006322 -0.256729  \n",
       "pm2.5 -0.071875 -0.061710 -0.246062  0.020398 -0.049038  0.440030  \n",
       "DEWP   0.824458 -0.778787 -0.297034 -0.034532  0.125006  0.622290  \n",
       "TEMP   1.000000 -0.827405 -0.155456 -0.092869  0.048932  0.095473  \n",
       "PRES  -0.827405  1.000000  0.185625  0.069082 -0.079816 -0.256052  \n",
       "Iws   -0.155456  0.185625  1.000000  0.021856 -0.010180 -0.309699  \n",
       "Is    -0.092869  0.069082  0.021856  1.000000 -0.009561  0.093067  \n",
       "Ir     0.048932 -0.079816 -0.010180 -0.009561  1.000000  0.183491  \n",
       "hum    0.095473 -0.256052 -0.309699  0.093067  0.183491  1.000000  "
      ]
     },
     "execution_count": 16,
     "metadata": {},
     "output_type": "execute_result"
    }
   ],
   "source": [
    "data"
   ]
  },
  {
   "cell_type": "code",
   "execution_count": 17,
   "metadata": {},
   "outputs": [
    {
     "data": {
      "text/html": [
       "<div>\n",
       "<style scoped>\n",
       "    .dataframe tbody tr th:only-of-type {\n",
       "        vertical-align: middle;\n",
       "    }\n",
       "\n",
       "    .dataframe tbody tr th {\n",
       "        vertical-align: top;\n",
       "    }\n",
       "\n",
       "    .dataframe thead th {\n",
       "        text-align: right;\n",
       "    }\n",
       "</style>\n",
       "<table border=\"1\" class=\"dataframe\">\n",
       "  <thead>\n",
       "    <tr style=\"text-align: right;\">\n",
       "      <th></th>\n",
       "      <th>No</th>\n",
       "      <th>year</th>\n",
       "      <th>month</th>\n",
       "      <th>day</th>\n",
       "      <th>hour</th>\n",
       "      <th>pm2.5</th>\n",
       "      <th>DEWP</th>\n",
       "      <th>TEMP</th>\n",
       "      <th>PRES</th>\n",
       "      <th>cbwd</th>\n",
       "      <th>Iws</th>\n",
       "      <th>Is</th>\n",
       "      <th>Ir</th>\n",
       "      <th>hum</th>\n",
       "    </tr>\n",
       "  </thead>\n",
       "  <tbody>\n",
       "    <tr>\n",
       "      <th>24</th>\n",
       "      <td>25</td>\n",
       "      <td>2010</td>\n",
       "      <td>1</td>\n",
       "      <td>2</td>\n",
       "      <td>0</td>\n",
       "      <td>129.0</td>\n",
       "      <td>-16</td>\n",
       "      <td>-4.0</td>\n",
       "      <td>1020.0</td>\n",
       "      <td>SE</td>\n",
       "      <td>1.79</td>\n",
       "      <td>0</td>\n",
       "      <td>0</td>\n",
       "      <td>38.784785</td>\n",
       "    </tr>\n",
       "    <tr>\n",
       "      <th>25</th>\n",
       "      <td>26</td>\n",
       "      <td>2010</td>\n",
       "      <td>1</td>\n",
       "      <td>2</td>\n",
       "      <td>1</td>\n",
       "      <td>148.0</td>\n",
       "      <td>-15</td>\n",
       "      <td>-4.0</td>\n",
       "      <td>1020.0</td>\n",
       "      <td>SE</td>\n",
       "      <td>2.68</td>\n",
       "      <td>0</td>\n",
       "      <td>0</td>\n",
       "      <td>42.130158</td>\n",
       "    </tr>\n",
       "    <tr>\n",
       "      <th>26</th>\n",
       "      <td>27</td>\n",
       "      <td>2010</td>\n",
       "      <td>1</td>\n",
       "      <td>2</td>\n",
       "      <td>2</td>\n",
       "      <td>159.0</td>\n",
       "      <td>-11</td>\n",
       "      <td>-5.0</td>\n",
       "      <td>1021.0</td>\n",
       "      <td>SE</td>\n",
       "      <td>3.57</td>\n",
       "      <td>0</td>\n",
       "      <td>0</td>\n",
       "      <td>62.793843</td>\n",
       "    </tr>\n",
       "    <tr>\n",
       "      <th>27</th>\n",
       "      <td>28</td>\n",
       "      <td>2010</td>\n",
       "      <td>1</td>\n",
       "      <td>2</td>\n",
       "      <td>3</td>\n",
       "      <td>181.0</td>\n",
       "      <td>-7</td>\n",
       "      <td>-5.0</td>\n",
       "      <td>1022.0</td>\n",
       "      <td>SE</td>\n",
       "      <td>5.36</td>\n",
       "      <td>1</td>\n",
       "      <td>0</td>\n",
       "      <td>85.857955</td>\n",
       "    </tr>\n",
       "    <tr>\n",
       "      <th>28</th>\n",
       "      <td>29</td>\n",
       "      <td>2010</td>\n",
       "      <td>1</td>\n",
       "      <td>2</td>\n",
       "      <td>4</td>\n",
       "      <td>138.0</td>\n",
       "      <td>-7</td>\n",
       "      <td>-5.0</td>\n",
       "      <td>1022.0</td>\n",
       "      <td>SE</td>\n",
       "      <td>6.25</td>\n",
       "      <td>2</td>\n",
       "      <td>0</td>\n",
       "      <td>85.857955</td>\n",
       "    </tr>\n",
       "    <tr>\n",
       "      <th>...</th>\n",
       "      <td>...</td>\n",
       "      <td>...</td>\n",
       "      <td>...</td>\n",
       "      <td>...</td>\n",
       "      <td>...</td>\n",
       "      <td>...</td>\n",
       "      <td>...</td>\n",
       "      <td>...</td>\n",
       "      <td>...</td>\n",
       "      <td>...</td>\n",
       "      <td>...</td>\n",
       "      <td>...</td>\n",
       "      <td>...</td>\n",
       "      <td>...</td>\n",
       "    </tr>\n",
       "    <tr>\n",
       "      <th>43819</th>\n",
       "      <td>43820</td>\n",
       "      <td>2014</td>\n",
       "      <td>12</td>\n",
       "      <td>31</td>\n",
       "      <td>19</td>\n",
       "      <td>8.0</td>\n",
       "      <td>-23</td>\n",
       "      <td>-2.0</td>\n",
       "      <td>1034.0</td>\n",
       "      <td>NW</td>\n",
       "      <td>231.97</td>\n",
       "      <td>0</td>\n",
       "      <td>0</td>\n",
       "      <td>18.340886</td>\n",
       "    </tr>\n",
       "    <tr>\n",
       "      <th>43820</th>\n",
       "      <td>43821</td>\n",
       "      <td>2014</td>\n",
       "      <td>12</td>\n",
       "      <td>31</td>\n",
       "      <td>20</td>\n",
       "      <td>10.0</td>\n",
       "      <td>-22</td>\n",
       "      <td>-3.0</td>\n",
       "      <td>1034.0</td>\n",
       "      <td>NW</td>\n",
       "      <td>237.78</td>\n",
       "      <td>0</td>\n",
       "      <td>0</td>\n",
       "      <td>21.568601</td>\n",
       "    </tr>\n",
       "    <tr>\n",
       "      <th>43821</th>\n",
       "      <td>43822</td>\n",
       "      <td>2014</td>\n",
       "      <td>12</td>\n",
       "      <td>31</td>\n",
       "      <td>21</td>\n",
       "      <td>10.0</td>\n",
       "      <td>-22</td>\n",
       "      <td>-3.0</td>\n",
       "      <td>1034.0</td>\n",
       "      <td>NW</td>\n",
       "      <td>242.70</td>\n",
       "      <td>0</td>\n",
       "      <td>0</td>\n",
       "      <td>21.568601</td>\n",
       "    </tr>\n",
       "    <tr>\n",
       "      <th>43822</th>\n",
       "      <td>43823</td>\n",
       "      <td>2014</td>\n",
       "      <td>12</td>\n",
       "      <td>31</td>\n",
       "      <td>22</td>\n",
       "      <td>8.0</td>\n",
       "      <td>-22</td>\n",
       "      <td>-4.0</td>\n",
       "      <td>1034.0</td>\n",
       "      <td>NW</td>\n",
       "      <td>246.72</td>\n",
       "      <td>0</td>\n",
       "      <td>0</td>\n",
       "      <td>23.240409</td>\n",
       "    </tr>\n",
       "    <tr>\n",
       "      <th>43823</th>\n",
       "      <td>43824</td>\n",
       "      <td>2014</td>\n",
       "      <td>12</td>\n",
       "      <td>31</td>\n",
       "      <td>23</td>\n",
       "      <td>12.0</td>\n",
       "      <td>-21</td>\n",
       "      <td>-3.0</td>\n",
       "      <td>1034.0</td>\n",
       "      <td>NW</td>\n",
       "      <td>249.85</td>\n",
       "      <td>0</td>\n",
       "      <td>0</td>\n",
       "      <td>23.535657</td>\n",
       "    </tr>\n",
       "  </tbody>\n",
       "</table>\n",
       "<p>43765 rows × 14 columns</p>\n",
       "</div>"
      ],
      "text/plain": [
       "          No  year  month  day  hour  pm2.5  DEWP  TEMP    PRES cbwd     Iws  \\\n",
       "24        25  2010      1    2     0  129.0   -16  -4.0  1020.0   SE    1.79   \n",
       "25        26  2010      1    2     1  148.0   -15  -4.0  1020.0   SE    2.68   \n",
       "26        27  2010      1    2     2  159.0   -11  -5.0  1021.0   SE    3.57   \n",
       "27        28  2010      1    2     3  181.0    -7  -5.0  1022.0   SE    5.36   \n",
       "28        29  2010      1    2     4  138.0    -7  -5.0  1022.0   SE    6.25   \n",
       "...      ...   ...    ...  ...   ...    ...   ...   ...     ...  ...     ...   \n",
       "43819  43820  2014     12   31    19    8.0   -23  -2.0  1034.0   NW  231.97   \n",
       "43820  43821  2014     12   31    20   10.0   -22  -3.0  1034.0   NW  237.78   \n",
       "43821  43822  2014     12   31    21   10.0   -22  -3.0  1034.0   NW  242.70   \n",
       "43822  43823  2014     12   31    22    8.0   -22  -4.0  1034.0   NW  246.72   \n",
       "43823  43824  2014     12   31    23   12.0   -21  -3.0  1034.0   NW  249.85   \n",
       "\n",
       "       Is  Ir        hum  \n",
       "24      0   0  38.784785  \n",
       "25      0   0  42.130158  \n",
       "26      0   0  62.793843  \n",
       "27      1   0  85.857955  \n",
       "28      2   0  85.857955  \n",
       "...    ..  ..        ...  \n",
       "43819   0   0  18.340886  \n",
       "43820   0   0  21.568601  \n",
       "43821   0   0  21.568601  \n",
       "43822   0   0  23.240409  \n",
       "43823   0   0  23.535657  \n",
       "\n",
       "[43765 rows x 14 columns]"
      ]
     },
     "execution_count": 17,
     "metadata": {},
     "output_type": "execute_result"
    }
   ],
   "source": [
    "df"
   ]
  },
  {
   "cell_type": "markdown",
   "metadata": {},
   "source": [
    "## Add past data columns"
   ]
  },
  {
   "cell_type": "code",
   "execution_count": 65,
   "metadata": {
    "scrolled": true
   },
   "outputs": [
    {
     "name": "stderr",
     "output_type": "stream",
     "text": [
      "<ipython-input-65-1ecb35328eb9>:5: SettingWithCopyWarning: \n",
      "A value is trying to be set on a copy of a slice from a DataFrame.\n",
      "Try using .loc[row_indexer,col_indexer] = value instead\n",
      "\n",
      "See the caveats in the documentation: https://pandas.pydata.org/pandas-docs/stable/user_guide/indexing.html#returning-a-view-versus-a-copy\n",
      "  df[key] = df[var].shift(periods=i)\n",
      "<ipython-input-65-1ecb35328eb9>:6: SettingWithCopyWarning: \n",
      "A value is trying to be set on a copy of a slice from a DataFrame\n",
      "\n",
      "See the caveats in the documentation: https://pandas.pydata.org/pandas-docs/stable/user_guide/indexing.html#returning-a-view-versus-a-copy\n",
      "  df.dropna(inplace=True)\n"
     ]
    }
   ],
   "source": [
    "need_shift = ['pm2.5', 'DEWP', 'TEMP', 'Iws']\n",
    "for var in need_shift:\n",
    "    for i in range(1, 3):\n",
    "        key = var + '_' + str(i)\n",
    "        df[key] = df[var].shift(periods=i)\n",
    "df.dropna(inplace=True)"
   ]
  },
  {
   "cell_type": "code",
   "execution_count": 66,
   "metadata": {},
   "outputs": [
    {
     "data": {
      "text/plain": [
       "Index(['No', 'year', 'month', 'day', 'hour', 'pm2.5', 'DEWP', 'TEMP', 'PRES',\n",
       "       'cbwd', 'Iws', 'Is', 'Ir', 'hum', 'pm2.5_1', 'DEWP_1', 'TEMP_1',\n",
       "       'Iws_1', 'pm2.5_2', 'DEWP_2', 'TEMP_2', 'Iws_2'],\n",
       "      dtype='object')"
      ]
     },
     "execution_count": 66,
     "metadata": {},
     "output_type": "execute_result"
    }
   ],
   "source": [
    "df.columns"
   ]
  },
  {
   "cell_type": "code",
   "execution_count": 67,
   "metadata": {},
   "outputs": [],
   "source": [
    "features_1 = list(df.columns[10:])\n",
    "predicts = list(df.columns[5:8])"
   ]
  },
  {
   "cell_type": "code",
   "execution_count": 68,
   "metadata": {},
   "outputs": [
    {
     "name": "stdout",
     "output_type": "stream",
     "text": [
      "['Iws', 'Is', 'Ir', 'hum', 'pm2.5_1', 'DEWP_1', 'TEMP_1', 'Iws_1', 'pm2.5_2', 'DEWP_2', 'TEMP_2', 'Iws_2']\n"
     ]
    }
   ],
   "source": [
    "print(features_1)"
   ]
  },
  {
   "cell_type": "code",
   "execution_count": 36,
   "metadata": {},
   "outputs": [],
   "source": [
    "X = df[features_1]\n",
    "y = df[predicts].values\n",
    "Xtrain, Xtest, ytrain, ytest = train_test_split(X, y, test_size=1/4)"
   ]
  },
  {
   "cell_type": "code",
   "execution_count": 37,
   "metadata": {},
   "outputs": [],
   "source": [
    "def cal_error(model, X, y):\n",
    "    predict = model.predict(X)\n",
    "    data = [0] * 3\n",
    "    for i in range(len(predict)):\n",
    "        for j in range(3):\n",
    "            data[j] += abs(predict[i][j] - y[i][j])\n",
    "    for i in range(3):\n",
    "        data[i] /= len(predict)\n",
    "    return (data[0], data[1], data[2])"
   ]
  },
  {
   "cell_type": "code",
   "execution_count": 38,
   "metadata": {},
   "outputs": [],
   "source": [
    "def score_model(model, X, y):\n",
    "    predict = model.predict(X)\n",
    "    print('R^2 score:', r2_score(predict, y))\n",
    "    print('Mean Absolute Error:', mean_absolute_error(predict, y))\n",
    "    print('Error model:', cal_error(model, X, y))"
   ]
  },
  {
   "cell_type": "code",
   "execution_count": 39,
   "metadata": {},
   "outputs": [],
   "source": [
    "def important_features(model, features):\n",
    "    foo = pd.Series(model.feature_importances_, index=features)\n",
    "    foo.nlargest(100).plot(kind='barh')\n",
    "    plt.style.use('ggplot')\n",
    "    plt.show()"
   ]
  },
  {
   "cell_type": "markdown",
   "metadata": {},
   "source": [
    "## Modeling"
   ]
  },
  {
   "cell_type": "code",
   "execution_count": 40,
   "metadata": {
    "scrolled": false
   },
   "outputs": [
    {
     "data": {
      "text/plain": [
       "0.9960945715812025"
      ]
     },
     "execution_count": 40,
     "metadata": {},
     "output_type": "execute_result"
    }
   ],
   "source": [
    "random_forest = RandomForestRegressor() \n",
    "random_forest.fit(Xtrain, ytrain)\n",
    "random_forest.score(Xtrain, ytrain)"
   ]
  },
  {
   "cell_type": "code",
   "execution_count": 41,
   "metadata": {
    "scrolled": false
   },
   "outputs": [
    {
     "name": "stdout",
     "output_type": "stream",
     "text": [
      "R^2 score: 0.971236308254201\n",
      "Mean Absolute Error: 4.956320044887259\n",
      "Error model: (13.131001995551905, 0.8104112969564092, 0.9275468421534617)\n"
     ]
    }
   ],
   "source": [
    "score_model(random_forest, Xtest, ytest)"
   ]
  },
  {
   "cell_type": "code",
   "execution_count": 42,
   "metadata": {},
   "outputs": [
    {
     "data": {
      "image/png": "[encoded data removed]",
      "text/plain": [
       "<Figure size 1080x720 with 1 Axes>"
      ]
     },
     "metadata": {
      "needs_background": "light"
     },
     "output_type": "display_data"
    }
   ],
   "source": [
    "important_features(random_forest, features_1)"
   ]
  },
  {
   "cell_type": "code",
   "execution_count": 43,
   "metadata": {},
   "outputs": [],
   "source": [
    "remove_list = ['cbwd_NE', 'cbwd_NW', 'cbwd_SE', 'cbwd_cv', 'weekday_Fri', \n",
    "                 'weekday_Mon', 'weekday_Sat', 'weekday_Sun', 'weekday_Thu', \n",
    "                'weekday_Tue', 'weekday_Wed']\n",
    "features_2 = [i for i in features_1 if i not in remove_list]"
   ]
  },
  {
   "cell_type": "code",
   "execution_count": 44,
   "metadata": {},
   "outputs": [],
   "source": [
    "X = df[features_2]\n",
    "y = df[predicts].values\n",
    "Xtrain, Xtest, ytrain, ytest = train_test_split(X, y, test_size=1/4)"
   ]
  },
  {
   "cell_type": "code",
   "execution_count": 45,
   "metadata": {},
   "outputs": [
    {
     "data": {
      "text/plain": [
       "0.9961407330150037"
      ]
     },
     "execution_count": 45,
     "metadata": {},
     "output_type": "execute_result"
    }
   ],
   "source": [
    "random_forest_2 = RandomForestRegressor()\n",
    "random_forest_2.fit(Xtrain, ytrain)\n",
    "random_forest_2.score(Xtrain, ytrain)"
   ]
  },
  {
   "cell_type": "code",
   "execution_count": 46,
   "metadata": {},
   "outputs": [
    {
     "name": "stdout",
     "output_type": "stream",
     "text": [
      "R^2 score: 0.9717908701898242\n",
      "Mean Absolute Error: 4.904712980735072\n",
      "Error model: (12.971110577948386, 0.8088803582853554, 0.9341480059714736)\n"
     ]
    }
   ],
   "source": [
    "score_model(random_forest_2, Xtest, ytest)"
   ]
  },
  {
   "cell_type": "code",
   "execution_count": 47,
   "metadata": {},
   "outputs": [
    {
     "data": {
      "image/png": "[encoded data removed]",
      "text/plain": [
       "<Figure size 1080x720 with 1 Axes>"
      ]
     },
     "metadata": {},
     "output_type": "display_data"
    }
   ],
   "source": [
    "important_features(random_forest_2, features_2)"
   ]
  },
  {
   "cell_type": "code",
   "execution_count": 48,
   "metadata": {},
   "outputs": [],
   "source": [
    "remove_list = ['Iws_2', 'Iws_1', 'Is', 'Ir', 'Iws']\n",
    "features_3 = [i for i in features_2 if i not in remove_list]"
   ]
  },
  {
   "cell_type": "code",
   "execution_count": 49,
   "metadata": {},
   "outputs": [],
   "source": [
    "X = df[features_3]\n",
    "y = df[predicts].values\n",
    "Xtrain, Xtest, ytrain, ytest = train_test_split(X, y, test_size=1/4)"
   ]
  },
  {
   "cell_type": "code",
   "execution_count": 52,
   "metadata": {},
   "outputs": [
    {
     "data": {
      "text/plain": [
       "0.9960905579313345"
      ]
     },
     "execution_count": 52,
     "metadata": {},
     "output_type": "execute_result"
    }
   ],
   "source": [
    "random_forest_3 = RandomForestRegressor()\n",
    "random_forest_3.fit(Xtrain, ytrain)\n",
    "random_forest_3.score(Xtrain, ytrain)"
   ]
  },
  {
   "cell_type": "code",
   "execution_count": 54,
   "metadata": {},
   "outputs": [
    {
     "name": "stdout",
     "output_type": "stream",
     "text": [
      "R^2 score: 0.9689180735439072\n",
      "Mean Absolute Error: 5.1296564958321955\n",
      "Error model: (13.873902308993577, 0.7030855650001542, 0.8119816135028547)\n"
     ]
    }
   ],
   "source": [
    "score_model(random_forest_3, Xtest, ytest)"
   ]
  },
  {
   "cell_type": "code",
   "execution_count": 55,
   "metadata": {},
   "outputs": [
    {
     "data": {
      "text/plain": [
       "['hum', 'pm2.5_1', 'DEWP_1', 'TEMP_1']"
      ]
     },
     "execution_count": 55,
     "metadata": {},
     "output_type": "execute_result"
    }
   ],
   "source": [
    "features_3"
   ]
  },
  {
   "cell_type": "code",
   "execution_count": 56,
   "metadata": {},
   "outputs": [
    {
     "data": {
      "image/png": "[encoded data removed]",
      "text/plain": [
       "<Figure size 1080x720 with 1 Axes>"
      ]
     },
     "metadata": {},
     "output_type": "display_data"
    }
   ],
   "source": [
    "important_features(random_forest_3, features_3)"
   ]
  },
  {
   "cell_type": "code",
   "execution_count": 57,
   "metadata": {},
   "outputs": [
    {
     "ename": "KeyError",
     "evalue": "\"['pm2.5_2'] not in index\"",
     "output_type": "error",
     "traceback": [
      "\u001b[0;31m---------------------------------------------------------------------------\u001b[0m",
      "\u001b[0;31mKeyError\u001b[0m                                  Traceback (most recent call last)",
      "\u001b[0;32m<ipython-input-57-7aad5b008817>\u001b[0m in \u001b[0;36m<module>\u001b[0;34m\u001b[0m\n\u001b[1;32m      1\u001b[0m \u001b[0mfeatures_4\u001b[0m \u001b[0;34m=\u001b[0m \u001b[0;34m[\u001b[0m\u001b[0;34m'pm2.5_1'\u001b[0m\u001b[0;34m,\u001b[0m \u001b[0;34m'pm2.5_2'\u001b[0m\u001b[0;34m,\u001b[0m \u001b[0;34m'TEMP_1'\u001b[0m\u001b[0;34m,\u001b[0m \u001b[0;34m'DEWP_1'\u001b[0m\u001b[0;34m,\u001b[0m \u001b[0;34m'Iws'\u001b[0m\u001b[0;34m,\u001b[0m \u001b[0;34m'hum'\u001b[0m\u001b[0;34m]\u001b[0m\u001b[0;34m\u001b[0m\u001b[0;34m\u001b[0m\u001b[0m\n\u001b[0;32m----> 2\u001b[0;31m \u001b[0mX\u001b[0m \u001b[0;34m=\u001b[0m \u001b[0mdf\u001b[0m\u001b[0;34m[\u001b[0m\u001b[0mfeatures_4\u001b[0m\u001b[0;34m]\u001b[0m\u001b[0;34m\u001b[0m\u001b[0;34m\u001b[0m\u001b[0m\n\u001b[0m\u001b[1;32m      3\u001b[0m \u001b[0my\u001b[0m \u001b[0;34m=\u001b[0m \u001b[0mdf\u001b[0m\u001b[0;34m[\u001b[0m\u001b[0mpredicts\u001b[0m\u001b[0;34m]\u001b[0m\u001b[0;34m.\u001b[0m\u001b[0mvalues\u001b[0m\u001b[0;34m\u001b[0m\u001b[0;34m\u001b[0m\u001b[0m\n\u001b[1;32m      4\u001b[0m \u001b[0mXtrain\u001b[0m\u001b[0;34m,\u001b[0m \u001b[0mXtest\u001b[0m\u001b[0;34m,\u001b[0m \u001b[0mytrain\u001b[0m\u001b[0;34m,\u001b[0m \u001b[0mytest\u001b[0m \u001b[0;34m=\u001b[0m \u001b[0mtrain_test_split\u001b[0m\u001b[0;34m(\u001b[0m\u001b[0mX\u001b[0m\u001b[0;34m,\u001b[0m \u001b[0my\u001b[0m\u001b[0;34m,\u001b[0m \u001b[0mtest_size\u001b[0m\u001b[0;34m=\u001b[0m\u001b[0;36m1\u001b[0m\u001b[0;34m/\u001b[0m\u001b[0;36m4\u001b[0m\u001b[0;34m)\u001b[0m\u001b[0;34m\u001b[0m\u001b[0;34m\u001b[0m\u001b[0m\n",
      "\u001b[0;32m~/anaconda3/lib/python3.8/site-packages/pandas/core/frame.py\u001b[0m in \u001b[0;36m__getitem__\u001b[0;34m(self, key)\u001b[0m\n\u001b[1;32m   2804\u001b[0m             \u001b[0;32mif\u001b[0m \u001b[0mis_iterator\u001b[0m\u001b[0;34m(\u001b[0m\u001b[0mkey\u001b[0m\u001b[0;34m)\u001b[0m\u001b[0;34m:\u001b[0m\u001b[0;34m\u001b[0m\u001b[0;34m\u001b[0m\u001b[0m\n\u001b[1;32m   2805\u001b[0m                 \u001b[0mkey\u001b[0m \u001b[0;34m=\u001b[0m \u001b[0mlist\u001b[0m\u001b[0;34m(\u001b[0m\u001b[0mkey\u001b[0m\u001b[0;34m)\u001b[0m\u001b[0;34m\u001b[0m\u001b[0;34m\u001b[0m\u001b[0m\n\u001b[0;32m-> 2806\u001b[0;31m             \u001b[0mindexer\u001b[0m \u001b[0;34m=\u001b[0m \u001b[0mself\u001b[0m\u001b[0;34m.\u001b[0m\u001b[0mloc\u001b[0m\u001b[0;34m.\u001b[0m\u001b[0m_get_listlike_indexer\u001b[0m\u001b[0;34m(\u001b[0m\u001b[0mkey\u001b[0m\u001b[0;34m,\u001b[0m \u001b[0maxis\u001b[0m\u001b[0;34m=\u001b[0m\u001b[0;36m1\u001b[0m\u001b[0;34m,\u001b[0m \u001b[0mraise_missing\u001b[0m\u001b[0;34m=\u001b[0m\u001b[0;32mTrue\u001b[0m\u001b[0;34m)\u001b[0m\u001b[0;34m[\u001b[0m\u001b[0;36m1\u001b[0m\u001b[0;34m]\u001b[0m\u001b[0;34m\u001b[0m\u001b[0;34m\u001b[0m\u001b[0m\n\u001b[0m\u001b[1;32m   2807\u001b[0m \u001b[0;34m\u001b[0m\u001b[0m\n\u001b[1;32m   2808\u001b[0m         \u001b[0;31m# take() does not accept boolean indexers\u001b[0m\u001b[0;34m\u001b[0m\u001b[0;34m\u001b[0m\u001b[0;34m\u001b[0m\u001b[0m\n",
      "\u001b[0;32m~/anaconda3/lib/python3.8/site-packages/pandas/core/indexing.py\u001b[0m in \u001b[0;36m_get_listlike_indexer\u001b[0;34m(self, key, axis, raise_missing)\u001b[0m\n\u001b[1;32m   1550\u001b[0m             \u001b[0mkeyarr\u001b[0m\u001b[0;34m,\u001b[0m \u001b[0mindexer\u001b[0m\u001b[0;34m,\u001b[0m \u001b[0mnew_indexer\u001b[0m \u001b[0;34m=\u001b[0m \u001b[0max\u001b[0m\u001b[0;34m.\u001b[0m\u001b[0m_reindex_non_unique\u001b[0m\u001b[0;34m(\u001b[0m\u001b[0mkeyarr\u001b[0m\u001b[0;34m)\u001b[0m\u001b[0;34m\u001b[0m\u001b[0;34m\u001b[0m\u001b[0m\n\u001b[1;32m   1551\u001b[0m \u001b[0;34m\u001b[0m\u001b[0m\n\u001b[0;32m-> 1552\u001b[0;31m         self._validate_read_indexer(\n\u001b[0m\u001b[1;32m   1553\u001b[0m             \u001b[0mkeyarr\u001b[0m\u001b[0;34m,\u001b[0m \u001b[0mindexer\u001b[0m\u001b[0;34m,\u001b[0m \u001b[0mo\u001b[0m\u001b[0;34m.\u001b[0m\u001b[0m_get_axis_number\u001b[0m\u001b[0;34m(\u001b[0m\u001b[0maxis\u001b[0m\u001b[0;34m)\u001b[0m\u001b[0;34m,\u001b[0m \u001b[0mraise_missing\u001b[0m\u001b[0;34m=\u001b[0m\u001b[0mraise_missing\u001b[0m\u001b[0;34m\u001b[0m\u001b[0;34m\u001b[0m\u001b[0m\n\u001b[1;32m   1554\u001b[0m         )\n",
      "\u001b[0;32m~/anaconda3/lib/python3.8/site-packages/pandas/core/indexing.py\u001b[0m in \u001b[0;36m_validate_read_indexer\u001b[0;34m(self, key, indexer, axis, raise_missing)\u001b[0m\n\u001b[1;32m   1644\u001b[0m             \u001b[0;32mif\u001b[0m \u001b[0;32mnot\u001b[0m \u001b[0;34m(\u001b[0m\u001b[0mself\u001b[0m\u001b[0;34m.\u001b[0m\u001b[0mname\u001b[0m \u001b[0;34m==\u001b[0m \u001b[0;34m\"loc\"\u001b[0m \u001b[0;32mand\u001b[0m \u001b[0;32mnot\u001b[0m \u001b[0mraise_missing\u001b[0m\u001b[0;34m)\u001b[0m\u001b[0;34m:\u001b[0m\u001b[0;34m\u001b[0m\u001b[0;34m\u001b[0m\u001b[0m\n\u001b[1;32m   1645\u001b[0m                 \u001b[0mnot_found\u001b[0m \u001b[0;34m=\u001b[0m \u001b[0mlist\u001b[0m\u001b[0;34m(\u001b[0m\u001b[0mset\u001b[0m\u001b[0;34m(\u001b[0m\u001b[0mkey\u001b[0m\u001b[0;34m)\u001b[0m \u001b[0;34m-\u001b[0m \u001b[0mset\u001b[0m\u001b[0;34m(\u001b[0m\u001b[0max\u001b[0m\u001b[0;34m)\u001b[0m\u001b[0;34m)\u001b[0m\u001b[0;34m\u001b[0m\u001b[0;34m\u001b[0m\u001b[0m\n\u001b[0;32m-> 1646\u001b[0;31m                 \u001b[0;32mraise\u001b[0m \u001b[0mKeyError\u001b[0m\u001b[0;34m(\u001b[0m\u001b[0;34mf\"{not_found} not in index\"\u001b[0m\u001b[0;34m)\u001b[0m\u001b[0;34m\u001b[0m\u001b[0;34m\u001b[0m\u001b[0m\n\u001b[0m\u001b[1;32m   1647\u001b[0m \u001b[0;34m\u001b[0m\u001b[0m\n\u001b[1;32m   1648\u001b[0m             \u001b[0;31m# we skip the warning on Categorical/Interval\u001b[0m\u001b[0;34m\u001b[0m\u001b[0;34m\u001b[0m\u001b[0;34m\u001b[0m\u001b[0m\n",
      "\u001b[0;31mKeyError\u001b[0m: \"['pm2.5_2'] not in index\""
     ]
    }
   ],
   "source": [
    "features_4 = ['pm2.5_1', 'pm2.5_2', 'TEMP_1', 'DEWP_1', 'Iws', 'hum']\n",
    "X = df[features_4]\n",
    "y = df[predicts].values\n",
    "Xtrain, Xtest, ytrain, ytest = train_test_split(X, y, test_size=1/4)"
   ]
  },
  {
   "cell_type": "code",
   "execution_count": null,
   "metadata": {},
   "outputs": [],
   "source": [
    "random_forest_4 = RandomForestRegressor()\n",
    "random_forest_4.fit(Xtrain, ytrain)\n",
    "random_forest_4.score(Xtrain, ytrain)"
   ]
  },
  {
   "cell_type": "code",
   "execution_count": null,
   "metadata": {},
   "outputs": [],
   "source": [
    "score_model(random_forest_4, Xtest, ytest)"
   ]
  },
  {
   "cell_type": "code",
   "execution_count": 75,
   "metadata": {},
   "outputs": [],
   "source": [
    "features = features_1 + ['PRES']"
   ]
  },
  {
   "cell_type": "code",
   "execution_count": 86,
   "metadata": {},
   "outputs": [],
   "source": [
    "best = (0, [])"
   ]
  },
  {
   "cell_type": "code",
   "execution_count": null,
   "metadata": {},
   "outputs": [],
   "source": [
    "y = df[predicts]\n",
    "for mask in range(1, 2 ** len(features)):\n",
    "    lst = []\n",
    "    for i in range(len(features)):\n",
    "        if (mask & i):\n",
    "            lst.append(features[i])\n",
    "    Xtrain, Xtest, ytrain, ytest = train_test_split(df[lst], y, test_size=1/4)\n",
    "    random_forest = RandomForestRegressor()\n",
    "    random_forest.fit(Xtrain, ytrain)\n",
    "    predict = random_forest.predict(Xtest)\n",
    "    best = max(best, (r2_score(predict, ytest), lst))\n",
    "    print(r2_score(predict, ytest), best)"
   ]
  },
  {
   "cell_type": "markdown",
   "metadata": {},
   "source": [
    "## Predict for next 6 hours"
   ]
  },
  {
   "cell_type": "code",
   "execution_count": null,
   "metadata": {},
   "outputs": [],
   "source": [
    "# for i in range(6):\n",
    "#     tail = pd.concat([df.tail(1)], ignore_index=True)\n",
    "#     tail.loc[:, ['day', 'month', 'year', 'hour']] = [1, 1, 2015, i]\n",
    "#     df = pd.concat([df, tail], ignore_index=True)\n",
    "#     df.loc[len(df) - 1:, predicts] = random_forest_3.predict(tail[features_3])\n",
    "#     for var in need_shift:\n",
    "#         for i in range(1, 3):\n",
    "#             key = var + '_' + str(i)\n",
    "#             df[key] = df[var].shift(periods=i)"
   ]
  },
  {
   "cell_type": "code",
   "execution_count": null,
   "metadata": {
    "scrolled": true
   },
   "outputs": [],
   "source": [
    "# df.tail(6)[['day', 'month', 'year', 'hour'] + predicts]"
   ]
  },
  {
   "cell_type": "markdown",
   "metadata": {},
   "source": [
    "- season\n",
    "- trend\n",
    "- statistical models for time serries\n",
    "- how data transform by times (up or down, low or high)\n",
    "- past data for weekdays or for pm2.5 last year\n",
    "- k fold cross validation for time series"
   ]
  }
 ],
 "metadata": {
  "kernelspec": {
   "display_name": "Python 3",
   "language": "python",
   "name": "python3"
  },
  "language_info": {
   "codemirror_mode": {
    "name": "ipython",
    "version": 3
   },
   "file_extension": ".py",
   "mimetype": "text/x-python",
   "name": "python",
   "nbconvert_exporter": "python",
   "pygments_lexer": "ipython3",
   "version": "3.8.3"
  }
 },
 "nbformat": 4,
 "nbformat_minor": 4
}
