{
  "nbformat": 4,
  "nbformat_minor": 0,
  "metadata": {
    "colab": {
      "name": "code.ipynb",
      "provenance": [],
      "collapsed_sections": []
    },
    "kernelspec": {
      "display_name": "Python 3",
      "language": "python",
      "name": "python3"
    },
    "language_info": {
      "codemirror_mode": {
        "name": "ipython",
        "version": 3
      },
      "file_extension": ".py",
      "mimetype": "text/x-python",
      "name": "python",
      "nbconvert_exporter": "python",
      "pygments_lexer": "ipython3",
      "version": "3.8.3"
    }
  },
  "cells": [
    {
      "cell_type": "markdown",
      "metadata": {
        "id": "u5G1PpPDO0Um"
      },
      "source": [
        "# Things to do\n",
        "- Add humidity column\n",
        "- Add lag data (lag-2) for past and future\n",
        "- Foward fill and back fill\n",
        "- Deal with outliers\n",
        "- Choose features columns (bit masking bruteforce)\n",
        "- Modeling for test\n",
        "- Modeling for forecast"
      ]
    },
    {
      "cell_type": "markdown",
      "metadata": {
        "id": "UiqUI9ZYO0Us"
      },
      "source": [
        "### Rút kinh nghiệm sau vài lần chọn features cho model:  \n",
        "    - Cột cbwd và thứ trong tuần không quá ảnh hưởng đến model nên không dùng nữa\n",
        "    - Cột Ir và Is không ảnh hưởng nhiều đến model\n",
        "    - Cột pres không ảnh hưởng nhiều dến model"
      ]
    },
    {
      "cell_type": "code",
      "metadata": {
        "id": "3XttzuX3O0U4"
      },
      "source": [
        "import pandas as pd\n",
        "import numpy as np\n",
        "from math import exp, isnan\n",
        "from datetime import datetime\n",
        "from matplotlib import pyplot as plt\n",
        "from sklearn.ensemble import RandomForestRegressor\n",
        "from sklearn.metrics import r2_score, mean_absolute_error\n",
        "from sklearn.model_selection import train_test_split"
      ],
      "execution_count": 1,
      "outputs": []
    },
    {
      "cell_type": "code",
      "metadata": {
        "id": "NITyisPgO0VR"
      },
      "source": [
        "plt.rcParams[\"figure.figsize\"] = 15, 10\n",
        "plt.style.use('ggplot')"
      ],
      "execution_count": 2,
      "outputs": []
    },
    {
      "cell_type": "code",
      "metadata": {
        "id": "zsAqln3CO0Vt",
        "scrolled": false,
        "outputId": "8440fd96-6690-42cc-f47c-a6e5485dcc95",
        "colab": {
          "base_uri": "https://localhost:8080/",
          "height": 402
        }
      },
      "source": [
        "df = pd.read_csv('data.csv')\n",
        "df"
      ],
      "execution_count": 3,
      "outputs": [
        {
          "output_type": "execute_result",
          "data": {
            "text/html": [
              "<div>\n",
              "<style scoped>\n",
              "    .dataframe tbody tr th:only-of-type {\n",
              "        vertical-align: middle;\n",
              "    }\n",
              "\n",
              "    .dataframe tbody tr th {\n",
              "        vertical-align: top;\n",
              "    }\n",
              "\n",
              "    .dataframe thead th {\n",
              "        text-align: right;\n",
              "    }\n",
              "</style>\n",
              "<table border=\"1\" class=\"dataframe\">\n",
              "  <thead>\n",
              "    <tr style=\"text-align: right;\">\n",
              "      <th></th>\n",
              "      <th>No</th>\n",
              "      <th>year</th>\n",
              "      <th>month</th>\n",
              "      <th>day</th>\n",
              "      <th>hour</th>\n",
              "      <th>pm2.5</th>\n",
              "      <th>DEWP</th>\n",
              "      <th>TEMP</th>\n",
              "      <th>PRES</th>\n",
              "      <th>cbwd</th>\n",
              "      <th>Iws</th>\n",
              "      <th>Is</th>\n",
              "      <th>Ir</th>\n",
              "    </tr>\n",
              "  </thead>\n",
              "  <tbody>\n",
              "    <tr>\n",
              "      <th>0</th>\n",
              "      <td>1</td>\n",
              "      <td>2010</td>\n",
              "      <td>1</td>\n",
              "      <td>1</td>\n",
              "      <td>0</td>\n",
              "      <td>NaN</td>\n",
              "      <td>-21</td>\n",
              "      <td>-11.0</td>\n",
              "      <td>1021.0</td>\n",
              "      <td>NW</td>\n",
              "      <td>1.79</td>\n",
              "      <td>0</td>\n",
              "      <td>0</td>\n",
              "    </tr>\n",
              "    <tr>\n",
              "      <th>1</th>\n",
              "      <td>2</td>\n",
              "      <td>2010</td>\n",
              "      <td>1</td>\n",
              "      <td>1</td>\n",
              "      <td>1</td>\n",
              "      <td>NaN</td>\n",
              "      <td>-21</td>\n",
              "      <td>-12.0</td>\n",
              "      <td>1020.0</td>\n",
              "      <td>NW</td>\n",
              "      <td>4.92</td>\n",
              "      <td>0</td>\n",
              "      <td>0</td>\n",
              "    </tr>\n",
              "    <tr>\n",
              "      <th>2</th>\n",
              "      <td>3</td>\n",
              "      <td>2010</td>\n",
              "      <td>1</td>\n",
              "      <td>1</td>\n",
              "      <td>2</td>\n",
              "      <td>NaN</td>\n",
              "      <td>-21</td>\n",
              "      <td>-11.0</td>\n",
              "      <td>1019.0</td>\n",
              "      <td>NW</td>\n",
              "      <td>6.71</td>\n",
              "      <td>0</td>\n",
              "      <td>0</td>\n",
              "    </tr>\n",
              "    <tr>\n",
              "      <th>3</th>\n",
              "      <td>4</td>\n",
              "      <td>2010</td>\n",
              "      <td>1</td>\n",
              "      <td>1</td>\n",
              "      <td>3</td>\n",
              "      <td>NaN</td>\n",
              "      <td>-21</td>\n",
              "      <td>-14.0</td>\n",
              "      <td>1019.0</td>\n",
              "      <td>NW</td>\n",
              "      <td>9.84</td>\n",
              "      <td>0</td>\n",
              "      <td>0</td>\n",
              "    </tr>\n",
              "    <tr>\n",
              "      <th>4</th>\n",
              "      <td>5</td>\n",
              "      <td>2010</td>\n",
              "      <td>1</td>\n",
              "      <td>1</td>\n",
              "      <td>4</td>\n",
              "      <td>NaN</td>\n",
              "      <td>-20</td>\n",
              "      <td>-12.0</td>\n",
              "      <td>1018.0</td>\n",
              "      <td>NW</td>\n",
              "      <td>12.97</td>\n",
              "      <td>0</td>\n",
              "      <td>0</td>\n",
              "    </tr>\n",
              "    <tr>\n",
              "      <th>...</th>\n",
              "      <td>...</td>\n",
              "      <td>...</td>\n",
              "      <td>...</td>\n",
              "      <td>...</td>\n",
              "      <td>...</td>\n",
              "      <td>...</td>\n",
              "      <td>...</td>\n",
              "      <td>...</td>\n",
              "      <td>...</td>\n",
              "      <td>...</td>\n",
              "      <td>...</td>\n",
              "      <td>...</td>\n",
              "      <td>...</td>\n",
              "    </tr>\n",
              "    <tr>\n",
              "      <th>43819</th>\n",
              "      <td>43820</td>\n",
              "      <td>2014</td>\n",
              "      <td>12</td>\n",
              "      <td>31</td>\n",
              "      <td>19</td>\n",
              "      <td>8.0</td>\n",
              "      <td>-23</td>\n",
              "      <td>-2.0</td>\n",
              "      <td>1034.0</td>\n",
              "      <td>NW</td>\n",
              "      <td>231.97</td>\n",
              "      <td>0</td>\n",
              "      <td>0</td>\n",
              "    </tr>\n",
              "    <tr>\n",
              "      <th>43820</th>\n",
              "      <td>43821</td>\n",
              "      <td>2014</td>\n",
              "      <td>12</td>\n",
              "      <td>31</td>\n",
              "      <td>20</td>\n",
              "      <td>10.0</td>\n",
              "      <td>-22</td>\n",
              "      <td>-3.0</td>\n",
              "      <td>1034.0</td>\n",
              "      <td>NW</td>\n",
              "      <td>237.78</td>\n",
              "      <td>0</td>\n",
              "      <td>0</td>\n",
              "    </tr>\n",
              "    <tr>\n",
              "      <th>43821</th>\n",
              "      <td>43822</td>\n",
              "      <td>2014</td>\n",
              "      <td>12</td>\n",
              "      <td>31</td>\n",
              "      <td>21</td>\n",
              "      <td>10.0</td>\n",
              "      <td>-22</td>\n",
              "      <td>-3.0</td>\n",
              "      <td>1034.0</td>\n",
              "      <td>NW</td>\n",
              "      <td>242.70</td>\n",
              "      <td>0</td>\n",
              "      <td>0</td>\n",
              "    </tr>\n",
              "    <tr>\n",
              "      <th>43822</th>\n",
              "      <td>43823</td>\n",
              "      <td>2014</td>\n",
              "      <td>12</td>\n",
              "      <td>31</td>\n",
              "      <td>22</td>\n",
              "      <td>8.0</td>\n",
              "      <td>-22</td>\n",
              "      <td>-4.0</td>\n",
              "      <td>1034.0</td>\n",
              "      <td>NW</td>\n",
              "      <td>246.72</td>\n",
              "      <td>0</td>\n",
              "      <td>0</td>\n",
              "    </tr>\n",
              "    <tr>\n",
              "      <th>43823</th>\n",
              "      <td>43824</td>\n",
              "      <td>2014</td>\n",
              "      <td>12</td>\n",
              "      <td>31</td>\n",
              "      <td>23</td>\n",
              "      <td>12.0</td>\n",
              "      <td>-21</td>\n",
              "      <td>-3.0</td>\n",
              "      <td>1034.0</td>\n",
              "      <td>NW</td>\n",
              "      <td>249.85</td>\n",
              "      <td>0</td>\n",
              "      <td>0</td>\n",
              "    </tr>\n",
              "  </tbody>\n",
              "</table>\n",
              "<p>43824 rows × 13 columns</p>\n",
              "</div>"
            ],
            "text/plain": [
              "          No  year  month  day  hour  pm2.5  ...  TEMP    PRES  cbwd     Iws  Is  Ir\n",
              "0          1  2010      1    1     0    NaN  ... -11.0  1021.0    NW    1.79   0   0\n",
              "1          2  2010      1    1     1    NaN  ... -12.0  1020.0    NW    4.92   0   0\n",
              "2          3  2010      1    1     2    NaN  ... -11.0  1019.0    NW    6.71   0   0\n",
              "3          4  2010      1    1     3    NaN  ... -14.0  1019.0    NW    9.84   0   0\n",
              "4          5  2010      1    1     4    NaN  ... -12.0  1018.0    NW   12.97   0   0\n",
              "...      ...   ...    ...  ...   ...    ...  ...   ...     ...   ...     ...  ..  ..\n",
              "43819  43820  2014     12   31    19    8.0  ...  -2.0  1034.0    NW  231.97   0   0\n",
              "43820  43821  2014     12   31    20   10.0  ...  -3.0  1034.0    NW  237.78   0   0\n",
              "43821  43822  2014     12   31    21   10.0  ...  -3.0  1034.0    NW  242.70   0   0\n",
              "43822  43823  2014     12   31    22    8.0  ...  -4.0  1034.0    NW  246.72   0   0\n",
              "43823  43824  2014     12   31    23   12.0  ...  -3.0  1034.0    NW  249.85   0   0\n",
              "\n",
              "[43824 rows x 13 columns]"
            ]
          },
          "metadata": {
            "tags": []
          },
          "execution_count": 3
        }
      ]
    },
    {
      "cell_type": "markdown",
      "metadata": {
        "id": "jJGP3NXkO0V8"
      },
      "source": [
        "## Add humidity column"
      ]
    },
    {
      "cell_type": "code",
      "metadata": {
        "id": "4ryim3O3O0V9"
      },
      "source": [
        "def cal(temp, dewp):\n",
        "    return 100*(exp((17.625*dewp)/(243.04+dewp))/exp((17.625*temp)/(243.04+temp)))\n",
        "df['hum'] = [cal(temp, dewp) for temp, dewp in zip(df['TEMP'], df['DEWP'])]"
      ],
      "execution_count": 4,
      "outputs": []
    },
    {
      "cell_type": "markdown",
      "metadata": {
        "id": "gBynNT66EH1_"
      },
      "source": [
        "## Lag data"
      ]
    },
    {
      "cell_type": "code",
      "metadata": {
        "id": "rKBOdM0_EH2A"
      },
      "source": [
        "def add_lags(dataframe):\n",
        "    need_shift = ['pm2.5', 'DEWP', 'TEMP', 'Iws']\n",
        "    for var in need_shift:\n",
        "        for i in range(1, 3):\n",
        "            key = var + '_' + str(i)\n",
        "            dataframe[key + '_past'] = dataframe[var].shift(periods=i)\n",
        "            dataframe[key + '_future'] = dataframe[var].shift(periods=-i)\n",
        "    return dataframe"
      ],
      "execution_count": 5,
      "outputs": []
    },
    {
      "cell_type": "code",
      "metadata": {
        "id": "KjynOoOzEH2C"
      },
      "source": [
        "df = add_lags(df.copy())"
      ],
      "execution_count": 6,
      "outputs": []
    },
    {
      "cell_type": "markdown",
      "metadata": {
        "id": "EffET-JnO0Wp"
      },
      "source": [
        "## Fill NaN with LOCF and LOCB\n"
      ]
    },
    {
      "cell_type": "code",
      "metadata": {
        "id": "wJV8MEaSO0Wq",
        "scrolled": true,
        "outputId": "ff5697ad-66c6-404c-b4b1-2bd1ccb9013b",
        "colab": {
          "base_uri": "https://localhost:8080/",
          "height": 34
        }
      },
      "source": [
        "df['pm2.5'].isna().sum()"
      ],
      "execution_count": 7,
      "outputs": [
        {
          "output_type": "execute_result",
          "data": {
            "text/plain": [
              "2067"
            ]
          },
          "metadata": {
            "tags": []
          },
          "execution_count": 7
        }
      ]
    },
    {
      "cell_type": "code",
      "metadata": {
        "id": "x-MgL_YUO0W1"
      },
      "source": [
        "df.fillna(method='ffill', inplace=True)"
      ],
      "execution_count": 8,
      "outputs": []
    },
    {
      "cell_type": "code",
      "metadata": {
        "id": "G75MCaYXEH2I"
      },
      "source": [
        "df.fillna(method='backfill', inplace=True)"
      ],
      "execution_count": 9,
      "outputs": []
    },
    {
      "cell_type": "code",
      "metadata": {
        "scrolled": false,
        "id": "UBaJWk5FEH2K",
        "outputId": "35b08f82-e8d2-4769-d8d9-dfe2a6828946",
        "colab": {
          "base_uri": "https://localhost:8080/",
          "height": 422
        }
      },
      "source": [
        "df.isna()"
      ],
      "execution_count": 10,
      "outputs": [
        {
          "output_type": "execute_result",
          "data": {
            "text/html": [
              "<div>\n",
              "<style scoped>\n",
              "    .dataframe tbody tr th:only-of-type {\n",
              "        vertical-align: middle;\n",
              "    }\n",
              "\n",
              "    .dataframe tbody tr th {\n",
              "        vertical-align: top;\n",
              "    }\n",
              "\n",
              "    .dataframe thead th {\n",
              "        text-align: right;\n",
              "    }\n",
              "</style>\n",
              "<table border=\"1\" class=\"dataframe\">\n",
              "  <thead>\n",
              "    <tr style=\"text-align: right;\">\n",
              "      <th></th>\n",
              "      <th>No</th>\n",
              "      <th>year</th>\n",
              "      <th>month</th>\n",
              "      <th>day</th>\n",
              "      <th>hour</th>\n",
              "      <th>pm2.5</th>\n",
              "      <th>DEWP</th>\n",
              "      <th>TEMP</th>\n",
              "      <th>PRES</th>\n",
              "      <th>cbwd</th>\n",
              "      <th>Iws</th>\n",
              "      <th>Is</th>\n",
              "      <th>Ir</th>\n",
              "      <th>hum</th>\n",
              "      <th>pm2.5_1_past</th>\n",
              "      <th>pm2.5_1_future</th>\n",
              "      <th>pm2.5_2_past</th>\n",
              "      <th>pm2.5_2_future</th>\n",
              "      <th>DEWP_1_past</th>\n",
              "      <th>DEWP_1_future</th>\n",
              "      <th>DEWP_2_past</th>\n",
              "      <th>DEWP_2_future</th>\n",
              "      <th>TEMP_1_past</th>\n",
              "      <th>TEMP_1_future</th>\n",
              "      <th>TEMP_2_past</th>\n",
              "      <th>TEMP_2_future</th>\n",
              "      <th>Iws_1_past</th>\n",
              "      <th>Iws_1_future</th>\n",
              "      <th>Iws_2_past</th>\n",
              "      <th>Iws_2_future</th>\n",
              "    </tr>\n",
              "  </thead>\n",
              "  <tbody>\n",
              "    <tr>\n",
              "      <th>0</th>\n",
              "      <td>False</td>\n",
              "      <td>False</td>\n",
              "      <td>False</td>\n",
              "      <td>False</td>\n",
              "      <td>False</td>\n",
              "      <td>False</td>\n",
              "      <td>False</td>\n",
              "      <td>False</td>\n",
              "      <td>False</td>\n",
              "      <td>False</td>\n",
              "      <td>False</td>\n",
              "      <td>False</td>\n",
              "      <td>False</td>\n",
              "      <td>False</td>\n",
              "      <td>False</td>\n",
              "      <td>False</td>\n",
              "      <td>False</td>\n",
              "      <td>False</td>\n",
              "      <td>False</td>\n",
              "      <td>False</td>\n",
              "      <td>False</td>\n",
              "      <td>False</td>\n",
              "      <td>False</td>\n",
              "      <td>False</td>\n",
              "      <td>False</td>\n",
              "      <td>False</td>\n",
              "      <td>False</td>\n",
              "      <td>False</td>\n",
              "      <td>False</td>\n",
              "      <td>False</td>\n",
              "    </tr>\n",
              "    <tr>\n",
              "      <th>1</th>\n",
              "      <td>False</td>\n",
              "      <td>False</td>\n",
              "      <td>False</td>\n",
              "      <td>False</td>\n",
              "      <td>False</td>\n",
              "      <td>False</td>\n",
              "      <td>False</td>\n",
              "      <td>False</td>\n",
              "      <td>False</td>\n",
              "      <td>False</td>\n",
              "      <td>False</td>\n",
              "      <td>False</td>\n",
              "      <td>False</td>\n",
              "      <td>False</td>\n",
              "      <td>False</td>\n",
              "      <td>False</td>\n",
              "      <td>False</td>\n",
              "      <td>False</td>\n",
              "      <td>False</td>\n",
              "      <td>False</td>\n",
              "      <td>False</td>\n",
              "      <td>False</td>\n",
              "      <td>False</td>\n",
              "      <td>False</td>\n",
              "      <td>False</td>\n",
              "      <td>False</td>\n",
              "      <td>False</td>\n",
              "      <td>False</td>\n",
              "      <td>False</td>\n",
              "      <td>False</td>\n",
              "    </tr>\n",
              "    <tr>\n",
              "      <th>2</th>\n",
              "      <td>False</td>\n",
              "      <td>False</td>\n",
              "      <td>False</td>\n",
              "      <td>False</td>\n",
              "      <td>False</td>\n",
              "      <td>False</td>\n",
              "      <td>False</td>\n",
              "      <td>False</td>\n",
              "      <td>False</td>\n",
              "      <td>False</td>\n",
              "      <td>False</td>\n",
              "      <td>False</td>\n",
              "      <td>False</td>\n",
              "      <td>False</td>\n",
              "      <td>False</td>\n",
              "      <td>False</td>\n",
              "      <td>False</td>\n",
              "      <td>False</td>\n",
              "      <td>False</td>\n",
              "      <td>False</td>\n",
              "      <td>False</td>\n",
              "      <td>False</td>\n",
              "      <td>False</td>\n",
              "      <td>False</td>\n",
              "      <td>False</td>\n",
              "      <td>False</td>\n",
              "      <td>False</td>\n",
              "      <td>False</td>\n",
              "      <td>False</td>\n",
              "      <td>False</td>\n",
              "    </tr>\n",
              "    <tr>\n",
              "      <th>3</th>\n",
              "      <td>False</td>\n",
              "      <td>False</td>\n",
              "      <td>False</td>\n",
              "      <td>False</td>\n",
              "      <td>False</td>\n",
              "      <td>False</td>\n",
              "      <td>False</td>\n",
              "      <td>False</td>\n",
              "      <td>False</td>\n",
              "      <td>False</td>\n",
              "      <td>False</td>\n",
              "      <td>False</td>\n",
              "      <td>False</td>\n",
              "      <td>False</td>\n",
              "      <td>False</td>\n",
              "      <td>False</td>\n",
              "      <td>False</td>\n",
              "      <td>False</td>\n",
              "      <td>False</td>\n",
              "      <td>False</td>\n",
              "      <td>False</td>\n",
              "      <td>False</td>\n",
              "      <td>False</td>\n",
              "      <td>False</td>\n",
              "      <td>False</td>\n",
              "      <td>False</td>\n",
              "      <td>False</td>\n",
              "      <td>False</td>\n",
              "      <td>False</td>\n",
              "      <td>False</td>\n",
              "    </tr>\n",
              "    <tr>\n",
              "      <th>4</th>\n",
              "      <td>False</td>\n",
              "      <td>False</td>\n",
              "      <td>False</td>\n",
              "      <td>False</td>\n",
              "      <td>False</td>\n",
              "      <td>False</td>\n",
              "      <td>False</td>\n",
              "      <td>False</td>\n",
              "      <td>False</td>\n",
              "      <td>False</td>\n",
              "      <td>False</td>\n",
              "      <td>False</td>\n",
              "      <td>False</td>\n",
              "      <td>False</td>\n",
              "      <td>False</td>\n",
              "      <td>False</td>\n",
              "      <td>False</td>\n",
              "      <td>False</td>\n",
              "      <td>False</td>\n",
              "      <td>False</td>\n",
              "      <td>False</td>\n",
              "      <td>False</td>\n",
              "      <td>False</td>\n",
              "      <td>False</td>\n",
              "      <td>False</td>\n",
              "      <td>False</td>\n",
              "      <td>False</td>\n",
              "      <td>False</td>\n",
              "      <td>False</td>\n",
              "      <td>False</td>\n",
              "    </tr>\n",
              "    <tr>\n",
              "      <th>...</th>\n",
              "      <td>...</td>\n",
              "      <td>...</td>\n",
              "      <td>...</td>\n",
              "      <td>...</td>\n",
              "      <td>...</td>\n",
              "      <td>...</td>\n",
              "      <td>...</td>\n",
              "      <td>...</td>\n",
              "      <td>...</td>\n",
              "      <td>...</td>\n",
              "      <td>...</td>\n",
              "      <td>...</td>\n",
              "      <td>...</td>\n",
              "      <td>...</td>\n",
              "      <td>...</td>\n",
              "      <td>...</td>\n",
              "      <td>...</td>\n",
              "      <td>...</td>\n",
              "      <td>...</td>\n",
              "      <td>...</td>\n",
              "      <td>...</td>\n",
              "      <td>...</td>\n",
              "      <td>...</td>\n",
              "      <td>...</td>\n",
              "      <td>...</td>\n",
              "      <td>...</td>\n",
              "      <td>...</td>\n",
              "      <td>...</td>\n",
              "      <td>...</td>\n",
              "      <td>...</td>\n",
              "    </tr>\n",
              "    <tr>\n",
              "      <th>43819</th>\n",
              "      <td>False</td>\n",
              "      <td>False</td>\n",
              "      <td>False</td>\n",
              "      <td>False</td>\n",
              "      <td>False</td>\n",
              "      <td>False</td>\n",
              "      <td>False</td>\n",
              "      <td>False</td>\n",
              "      <td>False</td>\n",
              "      <td>False</td>\n",
              "      <td>False</td>\n",
              "      <td>False</td>\n",
              "      <td>False</td>\n",
              "      <td>False</td>\n",
              "      <td>False</td>\n",
              "      <td>False</td>\n",
              "      <td>False</td>\n",
              "      <td>False</td>\n",
              "      <td>False</td>\n",
              "      <td>False</td>\n",
              "      <td>False</td>\n",
              "      <td>False</td>\n",
              "      <td>False</td>\n",
              "      <td>False</td>\n",
              "      <td>False</td>\n",
              "      <td>False</td>\n",
              "      <td>False</td>\n",
              "      <td>False</td>\n",
              "      <td>False</td>\n",
              "      <td>False</td>\n",
              "    </tr>\n",
              "    <tr>\n",
              "      <th>43820</th>\n",
              "      <td>False</td>\n",
              "      <td>False</td>\n",
              "      <td>False</td>\n",
              "      <td>False</td>\n",
              "      <td>False</td>\n",
              "      <td>False</td>\n",
              "      <td>False</td>\n",
              "      <td>False</td>\n",
              "      <td>False</td>\n",
              "      <td>False</td>\n",
              "      <td>False</td>\n",
              "      <td>False</td>\n",
              "      <td>False</td>\n",
              "      <td>False</td>\n",
              "      <td>False</td>\n",
              "      <td>False</td>\n",
              "      <td>False</td>\n",
              "      <td>False</td>\n",
              "      <td>False</td>\n",
              "      <td>False</td>\n",
              "      <td>False</td>\n",
              "      <td>False</td>\n",
              "      <td>False</td>\n",
              "      <td>False</td>\n",
              "      <td>False</td>\n",
              "      <td>False</td>\n",
              "      <td>False</td>\n",
              "      <td>False</td>\n",
              "      <td>False</td>\n",
              "      <td>False</td>\n",
              "    </tr>\n",
              "    <tr>\n",
              "      <th>43821</th>\n",
              "      <td>False</td>\n",
              "      <td>False</td>\n",
              "      <td>False</td>\n",
              "      <td>False</td>\n",
              "      <td>False</td>\n",
              "      <td>False</td>\n",
              "      <td>False</td>\n",
              "      <td>False</td>\n",
              "      <td>False</td>\n",
              "      <td>False</td>\n",
              "      <td>False</td>\n",
              "      <td>False</td>\n",
              "      <td>False</td>\n",
              "      <td>False</td>\n",
              "      <td>False</td>\n",
              "      <td>False</td>\n",
              "      <td>False</td>\n",
              "      <td>False</td>\n",
              "      <td>False</td>\n",
              "      <td>False</td>\n",
              "      <td>False</td>\n",
              "      <td>False</td>\n",
              "      <td>False</td>\n",
              "      <td>False</td>\n",
              "      <td>False</td>\n",
              "      <td>False</td>\n",
              "      <td>False</td>\n",
              "      <td>False</td>\n",
              "      <td>False</td>\n",
              "      <td>False</td>\n",
              "    </tr>\n",
              "    <tr>\n",
              "      <th>43822</th>\n",
              "      <td>False</td>\n",
              "      <td>False</td>\n",
              "      <td>False</td>\n",
              "      <td>False</td>\n",
              "      <td>False</td>\n",
              "      <td>False</td>\n",
              "      <td>False</td>\n",
              "      <td>False</td>\n",
              "      <td>False</td>\n",
              "      <td>False</td>\n",
              "      <td>False</td>\n",
              "      <td>False</td>\n",
              "      <td>False</td>\n",
              "      <td>False</td>\n",
              "      <td>False</td>\n",
              "      <td>False</td>\n",
              "      <td>False</td>\n",
              "      <td>False</td>\n",
              "      <td>False</td>\n",
              "      <td>False</td>\n",
              "      <td>False</td>\n",
              "      <td>False</td>\n",
              "      <td>False</td>\n",
              "      <td>False</td>\n",
              "      <td>False</td>\n",
              "      <td>False</td>\n",
              "      <td>False</td>\n",
              "      <td>False</td>\n",
              "      <td>False</td>\n",
              "      <td>False</td>\n",
              "    </tr>\n",
              "    <tr>\n",
              "      <th>43823</th>\n",
              "      <td>False</td>\n",
              "      <td>False</td>\n",
              "      <td>False</td>\n",
              "      <td>False</td>\n",
              "      <td>False</td>\n",
              "      <td>False</td>\n",
              "      <td>False</td>\n",
              "      <td>False</td>\n",
              "      <td>False</td>\n",
              "      <td>False</td>\n",
              "      <td>False</td>\n",
              "      <td>False</td>\n",
              "      <td>False</td>\n",
              "      <td>False</td>\n",
              "      <td>False</td>\n",
              "      <td>False</td>\n",
              "      <td>False</td>\n",
              "      <td>False</td>\n",
              "      <td>False</td>\n",
              "      <td>False</td>\n",
              "      <td>False</td>\n",
              "      <td>False</td>\n",
              "      <td>False</td>\n",
              "      <td>False</td>\n",
              "      <td>False</td>\n",
              "      <td>False</td>\n",
              "      <td>False</td>\n",
              "      <td>False</td>\n",
              "      <td>False</td>\n",
              "      <td>False</td>\n",
              "    </tr>\n",
              "  </tbody>\n",
              "</table>\n",
              "<p>43824 rows × 30 columns</p>\n",
              "</div>"
            ],
            "text/plain": [
              "          No   year  month  ...  Iws_1_future  Iws_2_past  Iws_2_future\n",
              "0      False  False  False  ...         False       False         False\n",
              "1      False  False  False  ...         False       False         False\n",
              "2      False  False  False  ...         False       False         False\n",
              "3      False  False  False  ...         False       False         False\n",
              "4      False  False  False  ...         False       False         False\n",
              "...      ...    ...    ...  ...           ...         ...           ...\n",
              "43819  False  False  False  ...         False       False         False\n",
              "43820  False  False  False  ...         False       False         False\n",
              "43821  False  False  False  ...         False       False         False\n",
              "43822  False  False  False  ...         False       False         False\n",
              "43823  False  False  False  ...         False       False         False\n",
              "\n",
              "[43824 rows x 30 columns]"
            ]
          },
          "metadata": {
            "tags": []
          },
          "execution_count": 10
        }
      ]
    },
    {
      "cell_type": "markdown",
      "metadata": {
        "id": "GXIdcsw3O0XK"
      },
      "source": [
        "## Outliers"
      ]
    },
    {
      "cell_type": "code",
      "metadata": {
        "id": "41r-EPUUFep4"
      },
      "source": [
        "df['datetime'] = pd.to_datetime(df[['year', 'month', 'day', 'hour']])"
      ],
      "execution_count": 11,
      "outputs": []
    },
    {
      "cell_type": "code",
      "metadata": {
        "id": "J3Hlj_fJGP95",
        "outputId": "48d14dfc-f2de-4a7a-bf9d-1364c7c6a453",
        "colab": {
          "base_uri": "https://localhost:8080/",
          "height": 592
        }
      },
      "source": [
        "plt.plot(df['datetime'], df['pm2.5'])\n",
        "plt.show()"
      ],
      "execution_count": 12,
      "outputs": [
        {
          "output_type": "display_data",
          "data": {
            "image/png": "[encoded data removed]",
            "text/plain": [
              "<Figure size 1080x720 with 1 Axes>"
            ]
          },
          "metadata": {
            "tags": []
          }
        }
      ]
    },
    {
      "cell_type": "code",
      "metadata": {
        "id": "ZZOOxnXSO0X2"
      },
      "source": [
        "df = df[df['pm2.5'] <= 600]"
      ],
      "execution_count": 13,
      "outputs": []
    },
    {
      "cell_type": "code",
      "metadata": {
        "id": "PBQdmFNv5kVe",
        "outputId": "6c3eb057-9249-4c57-ef56-6942aef7ee27",
        "colab": {
          "base_uri": "https://localhost:8080/",
          "height": 134
        }
      },
      "source": [
        "df.columns"
      ],
      "execution_count": 14,
      "outputs": [
        {
          "output_type": "execute_result",
          "data": {
            "text/plain": [
              "Index(['No', 'year', 'month', 'day', 'hour', 'pm2.5', 'DEWP', 'TEMP', 'PRES',\n",
              "       'cbwd', 'Iws', 'Is', 'Ir', 'hum', 'pm2.5_1_past', 'pm2.5_1_future',\n",
              "       'pm2.5_2_past', 'pm2.5_2_future', 'DEWP_1_past', 'DEWP_1_future',\n",
              "       'DEWP_2_past', 'DEWP_2_future', 'TEMP_1_past', 'TEMP_1_future',\n",
              "       'TEMP_2_past', 'TEMP_2_future', 'Iws_1_past', 'Iws_1_future',\n",
              "       'Iws_2_past', 'Iws_2_future', 'datetime'],\n",
              "      dtype='object')"
            ]
          },
          "metadata": {
            "tags": []
          },
          "execution_count": 14
        }
      ]
    },
    {
      "cell_type": "code",
      "metadata": {
        "id": "PU9oQohb5kVg"
      },
      "source": [
        "need_viz = ['pm2.5', 'DEWP', 'TEMP', 'PRES', 'cbwd', 'Iws', 'Is', 'Ir', 'hum']"
      ],
      "execution_count": 15,
      "outputs": []
    },
    {
      "cell_type": "code",
      "metadata": {
        "id": "sFvxSK7bO0YK",
        "scrolled": false,
        "outputId": "af68bbc3-8ba2-40f8-ae04-ccaa5d23e245",
        "colab": {
          "base_uri": "https://localhost:8080/",
          "height": 611
        }
      },
      "source": [
        "import seaborn as sns\n",
        "data = df[need_viz].corr()\n",
        "mask = np.zeros_like(data)\n",
        "mask[np.triu_indices_from(mask)] = True\n",
        "\n",
        "ax = sns.heatmap(data, mask=mask, annot=True, fmt='.2f', linewidth=5, cmap='Blues', vmin=-1, vmax=1, square=True)\n",
        "plt.title('CORRELATION MATRIX', loc='left', fontsize=18)\n",
        "plt.show()"
      ],
      "execution_count": 16,
      "outputs": [
        {
          "output_type": "display_data",
          "data": {
            "image/png": "[encoded data removed]",
            "text/plain": [
              "<Figure size 1080x720 with 2 Axes>"
            ]
          },
          "metadata": {
            "tags": []
          }
        }
      ]
    },
    {
      "cell_type": "markdown",
      "metadata": {
        "id": "-63H0Y6t5kVq"
      },
      "source": [
        "## Select features and predicts columns"
      ]
    },
    {
      "cell_type": "code",
      "metadata": {
        "id": "LQJ4gK6OEH2g",
        "outputId": "e0542647-d946-41d4-c65c-f1162fc442e8",
        "colab": {
          "base_uri": "https://localhost:8080/",
          "height": 54
        }
      },
      "source": [
        "# lấy những cột mà mình nghĩ nó có tác động tốt đến model\n",
        "# bỏ cột cbwd\n",
        "all_features = df.columns.to_list()\n",
        "all_features = all_features[8:9] + all_features[10:]\n",
        "print(all_features, len(all_features))"
      ],
      "execution_count": 17,
      "outputs": [
        {
          "output_type": "stream",
          "text": [
            "['PRES', 'Iws', 'Is', 'Ir', 'hum', 'pm2.5_1_past', 'pm2.5_1_future', 'pm2.5_2_past', 'pm2.5_2_future', 'DEWP_1_past', 'DEWP_1_future', 'DEWP_2_past', 'DEWP_2_future', 'TEMP_1_past', 'TEMP_1_future', 'TEMP_2_past', 'TEMP_2_future', 'Iws_1_past', 'Iws_1_future', 'Iws_2_past', 'Iws_2_future', 'datetime'] 22\n"
          ],
          "name": "stdout"
        }
      ]
    },
    {
      "cell_type": "code",
      "metadata": {
        "id": "UGmK_u595kVq"
      },
      "source": [
        "predicts = ['pm2.5', 'DEWP', 'TEMP']"
      ],
      "execution_count": 18,
      "outputs": []
    },
    {
      "cell_type": "markdown",
      "metadata": {
        "id": "5dfOYQHg5kVt"
      },
      "source": [
        "#### Using binary bruteforce method\n",
        "- loop over 2 ^ len(features)\n",
        "- with each number, consider the 1 bit, select index at 1 bit => we have a list\n",
        "- with that list, get X and y using df[list]\n",
        "- throw into the model, get the score with test dataset\n",
        "- update the best score with best list"
      ]
    },
    {
      "cell_type": "code",
      "metadata": {
        "id": "s1mlUiPX5kVt",
        "scrolled": true
      },
      "source": [
        "# best_score = 0\n",
        "# best_features = []\n",
        "# len_features = len(all_features)\n",
        "# for mask in range(2 ** len_features):\n",
        "#     tmp_list = []\n",
        "#     for index in range(len_features):\n",
        "#         if (mask & index):\n",
        "#             tmp_list.append(all_features[index])\n",
        "#     # list không rỗng\n",
        "#     if tmp_list:\n",
        "#         Xtrain, Xtest, ytrain, ytest = train_test_split(df[tmp_list], df[predicts])\n",
        "#         foo = RandomForestRegressor().fit(Xtrain, ytrain)\n",
        "#         score = r2_score(foo.predict(Xtest), ytest)\n",
        "#         if (score > best_score):\n",
        "#             best_score = score\n",
        "#             best_features = tmp_list\n",
        "#             print(best_score, best_features)"
      ],
      "execution_count": 19,
      "outputs": []
    },
    {
      "cell_type": "code",
      "metadata": {
        "id": "cYADESfB5kVv"
      },
      "source": [
        "# Có thể ngắt ô trên khi cảm thấy điểm đủ tốt"
      ],
      "execution_count": 20,
      "outputs": []
    },
    {
      "cell_type": "code",
      "metadata": {
        "id": "CKlw4hwL5kVw"
      },
      "source": [
        "best_features = ['Iws', 'Ir', 'hum', 'pm2.5_1_past', \n",
        "                 'pm2.5_1_future', 'pm2.5_2_past', 'pm2.5_2_future', 'DEWP_1_past', \n",
        "                 'DEWP_1_future', 'DEWP_2_past', 'DEWP_2_future', 'TEMP_1_past', \n",
        "                 'TEMP_1_future', 'TEMP_2_past', 'TEMP_2_future', 'Iws_1_past', \n",
        "                 'Iws_1_future', 'Iws_2_past', 'Iws_2_future']"
      ],
      "execution_count": 21,
      "outputs": []
    },
    {
      "cell_type": "code",
      "metadata": {
        "id": "EahRy8ZY5kVy",
        "scrolled": true,
        "outputId": "35c012b4-457f-409e-b182-a506631639c8",
        "colab": {
          "base_uri": "https://localhost:8080/",
          "height": 54
        }
      },
      "source": [
        "print(best_features)"
      ],
      "execution_count": 22,
      "outputs": [
        {
          "output_type": "stream",
          "text": [
            "['Iws', 'Ir', 'hum', 'pm2.5_1_past', 'pm2.5_1_future', 'pm2.5_2_past', 'pm2.5_2_future', 'DEWP_1_past', 'DEWP_1_future', 'DEWP_2_past', 'DEWP_2_future', 'TEMP_1_past', 'TEMP_1_future', 'TEMP_2_past', 'TEMP_2_future', 'Iws_1_past', 'Iws_1_future', 'Iws_2_past', 'Iws_2_future']\n"
          ],
          "name": "stdout"
        }
      ]
    },
    {
      "cell_type": "code",
      "metadata": {
        "id": "xHUB_-M5O0Y9"
      },
      "source": [
        "features = best_features"
      ],
      "execution_count": 23,
      "outputs": []
    },
    {
      "cell_type": "code",
      "metadata": {
        "id": "2x5dE4a5O0ZS"
      },
      "source": [
        "X = df[features]\n",
        "y = df[predicts].values\n",
        "Xtrain, Xtest, ytrain, ytest = train_test_split(X, y, test_size=1/4)"
      ],
      "execution_count": 24,
      "outputs": []
    },
    {
      "cell_type": "code",
      "metadata": {
        "id": "mva8dUNMO0Zb"
      },
      "source": [
        "def cal_error(model, X, y):\n",
        "    predict = model.predict(X)\n",
        "    data = [0] * 3\n",
        "    for i in range(len(predict)):\n",
        "        for j in range(3):\n",
        "            data[j] += abs(predict[i][j] - y[i][j])\n",
        "    data = [i / len(predict) for i in data]\n",
        "    ret = pd.DataFrame(np.asarray(data).reshape(3, 1), columns=['Error'])\n",
        "    ret.index = ['pm2.5', 'dewp', 'temp']\n",
        "    return ret"
      ],
      "execution_count": 25,
      "outputs": []
    },
    {
      "cell_type": "code",
      "metadata": {
        "id": "1O9ZzqxcO0Zk"
      },
      "source": [
        "def score_model(model, X, y):\n",
        "    predict = model.predict(X)\n",
        "    print('R^2 score:', r2_score(predict, y))\n",
        "    print('Mean Absolute Error:', mean_absolute_error(predict, y))\n",
        "    print(cal_error(model, X, y))"
      ],
      "execution_count": 26,
      "outputs": []
    },
    {
      "cell_type": "code",
      "metadata": {
        "id": "9DVMxvxWO0Zr"
      },
      "source": [
        "def important_features(model, features):\n",
        "    foo = pd.Series(model.feature_importances_, index=features)\n",
        "    foo.nlargest(100).plot(kind='barh')\n",
        "    plt.show()"
      ],
      "execution_count": 27,
      "outputs": []
    },
    {
      "cell_type": "markdown",
      "metadata": {
        "id": "yx7Y5G-DO0Z0"
      },
      "source": [
        "## Modeling"
      ]
    },
    {
      "cell_type": "code",
      "metadata": {
        "id": "btv9bYmpEH3E"
      },
      "source": [
        "# class Modeling:\n",
        "#     def __init__(self, df, features, predicts):\n",
        "#         self.X = df[features]\n",
        "#         self.y = df[predicts].values\n",
        "#         self.Xtrain, self.Xtest, self.ytrain, self.ytest = train_test_split(X, y, test_size=1/3)\n",
        "    \n",
        "#     def train():\n",
        "        \n",
        "#     def predict(self, data):\n",
        "#         return self.model.predict(data)\n",
        "    \n",
        "#     def cal_error(self):\n",
        "#         predict = predict()\n",
        "#         data = [0] * 3\n",
        "#         for i in range(len(predict)):\n",
        "#             for j in range(3):\n",
        "#                 data[j] += abs(predict[i][j] - y[i][j])\n",
        "#         for i in range(3):\n",
        "#             data[i] /= len(predict)\n",
        "#         table = pd.DataFrame({})\n",
        "#         return (data[0], data[1], data[2])\n",
        "    \n",
        "#     def score(self, model, X, y):\n",
        "#         predict = model.predict(X)\n",
        "#         print('R^2 score:', r2_score(predict, y))\n",
        "#         print('Mean Absolute Error:', mean_absolute_error(predict, y))\n",
        "#         print(cal_error(model, X, y))\n",
        "\n",
        "#     def important_features(model, features):\n",
        "#         foo = pd.Series(model.feature_importances_, index=features)\n",
        "#         foo.nlargest(100).plot(kind='barh')\n",
        "#         plt.show()"
      ],
      "execution_count": 28,
      "outputs": []
    },
    {
      "cell_type": "code",
      "metadata": {
        "id": "CvvbejSCEH3H"
      },
      "source": [
        "# testModel = Modeling(df, features, predicts) "
      ],
      "execution_count": 29,
      "outputs": []
    },
    {
      "cell_type": "code",
      "metadata": {
        "id": "uFmpo2EyEH3K"
      },
      "source": [
        "# testModel.score()"
      ],
      "execution_count": 30,
      "outputs": []
    },
    {
      "cell_type": "markdown",
      "metadata": {
        "id": "QbWOgBKxFIzV"
      },
      "source": [
        ""
      ]
    },
    {
      "cell_type": "markdown",
      "metadata": {
        "id": "B63edPwI5kV_"
      },
      "source": [
        "### Split train and test data for testing"
      ]
    },
    {
      "cell_type": "markdown",
      "metadata": {
        "id": "MwVSXQbtEH3Q"
      },
      "source": [
        "#### Some parameters should be tunning\n",
        "- n_estimators = 1000 (trees)\n",
        "- oob_score (yes)"
      ]
    },
    {
      "cell_type": "code",
      "metadata": {
        "id": "ZlKdaKhTO0Z2",
        "scrolled": false,
        "outputId": "013c2f58-70de-4cf3-d269-c820b641279f",
        "colab": {
          "base_uri": "https://localhost:8080/",
          "height": 87
        }
      },
      "source": [
        "random_forest_test = RandomForestRegressor(n_estimators=1000, oob_score=True)\n",
        "\n",
        "# use partial dataset\n",
        "random_forest_test.fit(Xtrain, ytrain)\n",
        "random_forest_test.score(Xtrain, ytrain)"
      ],
      "execution_count": 31,
      "outputs": [
        {
          "output_type": "stream",
          "text": [
            "/usr/local/lib/python3.6/dist-packages/sklearn/base.py:434: FutureWarning: The default value of multioutput (not exposed in score method) will change from 'variance_weighted' to 'uniform_average' in 0.23 to keep consistent with 'metrics.r2_score'. To specify the default value manually and avoid the warning, please either call 'metrics.r2_score' directly or make a custom scorer with 'metrics.make_scorer' (the built-in scorer 'r2' uses multioutput='uniform_average').\n",
            "  \"multioutput='uniform_average').\", FutureWarning)\n"
          ],
          "name": "stderr"
        },
        {
          "output_type": "execute_result",
          "data": {
            "text/plain": [
              "0.9960966589602529"
            ]
          },
          "metadata": {
            "tags": []
          },
          "execution_count": 31
        }
      ]
    },
    {
      "cell_type": "code",
      "metadata": {
        "id": "_j6huKu6O0bQ",
        "scrolled": true,
        "outputId": "3257d7a7-3314-4f1b-bbe1-c42859293066",
        "colab": {
          "base_uri": "https://localhost:8080/",
          "height": 118
        }
      },
      "source": [
        "score_model(random_forest_test, Xtest, ytest)"
      ],
      "execution_count": 32,
      "outputs": [
        {
          "output_type": "stream",
          "text": [
            "R^2 score: 0.9823766112839266\n",
            "Mean Absolute Error: 3.4358854889782044\n",
            "          Error\n",
            "pm2.5  8.448783\n",
            "dewp   0.890808\n",
            "temp   0.968065\n"
          ],
          "name": "stdout"
        }
      ]
    },
    {
      "cell_type": "code",
      "metadata": {
        "id": "fFPschUxO0bc",
        "scrolled": false,
        "outputId": "2ebc7e9a-5e58-4fd3-f0fd-f68dadd37892",
        "colab": {
          "base_uri": "https://localhost:8080/",
          "height": 592
        }
      },
      "source": [
        "important_features(random_forest_test, features)"
      ],
      "execution_count": 33,
      "outputs": [
        {
          "output_type": "display_data",
          "data": {
            "image/png": "[encoded data removed]",
            "text/plain": [
              "<Figure size 1080x720 with 1 Axes>"
            ]
          },
          "metadata": {
            "tags": []
          }
        }
      ]
    },
    {
      "cell_type": "code",
      "metadata": {
        "id": "AvtJp62lMEpg"
      },
      "source": [
        "def make_plot(key, num):\n",
        "  foo = {'pm2.5': 0, 'DEWP': 1, 'TEMP': 2}\n",
        "\n",
        "  predict_10_hour = random_forest_test.predict(df[features].tail(num))\n",
        "\n",
        "  dic = dict()\n",
        "  for i in range(3):\n",
        "    dic[i] = [j[i] for j in predict_10_hour]\n",
        "\n",
        "  pred = pd.DataFrame(dic[foo[key]])\n",
        "  pred['datetime'] = list(df.tail(num)['datetime'])\n",
        "  pred = pred.set_index('datetime')\n",
        "\n",
        "  foo = pd.DataFrame(df.tail(num)[['datetime', key]].copy())\n",
        "  foo = foo.set_index('datetime')\n",
        "\n",
        "  plt.plot(pred, label='Predicts')\n",
        "  plt.plot(foo, label='Actual')\n",
        "\n",
        "  plt.legend(loc='best')\n",
        "  plt.title('Actual and Predicts value plot of ' + key + ' last ' + str(num) + ' hours')\n",
        "  plt.show()"
      ],
      "execution_count": 34,
      "outputs": []
    },
    {
      "cell_type": "code",
      "metadata": {
        "id": "jCy7B32ZOPVA",
        "outputId": "b5c92ffa-cbca-446b-c24a-c6a1ece801d8",
        "colab": {
          "base_uri": "https://localhost:8080/",
          "height": 609
        }
      },
      "source": [
        "make_plot('pm2.5', 40)"
      ],
      "execution_count": 35,
      "outputs": [
        {
          "output_type": "display_data",
          "data": {
            "image/png": "[encoded data removed]",
            "text/plain": [
              "<Figure size 1080x720 with 1 Axes>"
            ]
          },
          "metadata": {
            "tags": []
          }
        }
      ]
    },
    {
      "cell_type": "code",
      "metadata": {
        "id": "OglNtGwQOSNv",
        "outputId": "4280c6b1-f1a4-4f34-93ff-bc18d47cbe81",
        "colab": {
          "base_uri": "https://localhost:8080/",
          "height": 609
        }
      },
      "source": [
        "make_plot('DEWP', 40)"
      ],
      "execution_count": 36,
      "outputs": [
        {
          "output_type": "display_data",
          "data": {
            "image/png": "[encoded data removed]",
            "text/plain": [
              "<Figure size 1080x720 with 1 Axes>"
            ]
          },
          "metadata": {
            "tags": []
          }
        }
      ]
    },
    {
      "cell_type": "code",
      "metadata": {
        "id": "J16XpQobOYQ6",
        "outputId": "55d141dd-ef2f-4366-8333-e01d8a4654d5",
        "colab": {
          "base_uri": "https://localhost:8080/",
          "height": 609
        }
      },
      "source": [
        "make_plot('TEMP', 40)"
      ],
      "execution_count": 37,
      "outputs": [
        {
          "output_type": "display_data",
          "data": {
            "image/png": "[encoded data removed]",
            "text/plain": [
              "<Figure size 1080x720 with 1 Axes>"
            ]
          },
          "metadata": {
            "tags": []
          }
        }
      ]
    },
    {
      "cell_type": "markdown",
      "metadata": {
        "id": "srzR6aZo5kWF"
      },
      "source": [
        "### Use whole dataset for modeling, use for forecast"
      ]
    },
    {
      "cell_type": "code",
      "metadata": {
        "id": "1TuO9sj25kWF",
        "outputId": "e79e9e20-4145-4076-b5e9-0ba1b7864397",
        "colab": {
          "base_uri": "https://localhost:8080/",
          "height": 87
        }
      },
      "source": [
        "random_forest = RandomForestRegressor(n_estimators=1000, oob_score=True)\n",
        "random_forest.fit(X, y)\n",
        "random_forest.score(X, y)"
      ],
      "execution_count": 38,
      "outputs": [
        {
          "output_type": "stream",
          "text": [
            "/usr/local/lib/python3.6/dist-packages/sklearn/base.py:434: FutureWarning: The default value of multioutput (not exposed in score method) will change from 'variance_weighted' to 'uniform_average' in 0.23 to keep consistent with 'metrics.r2_score'. To specify the default value manually and avoid the warning, please either call 'metrics.r2_score' directly or make a custom scorer with 'metrics.make_scorer' (the built-in scorer 'r2' uses multioutput='uniform_average').\n",
            "  \"multioutput='uniform_average').\", FutureWarning)\n"
          ],
          "name": "stderr"
        },
        {
          "output_type": "execute_result",
          "data": {
            "text/plain": [
              "0.9961344395344198"
            ]
          },
          "metadata": {
            "tags": []
          },
          "execution_count": 38
        }
      ]
    },
    {
      "cell_type": "markdown",
      "metadata": {
        "id": "ojSihbDTO0cK"
      },
      "source": [
        "## Predict for next 6 hours"
      ]
    },
    {
      "cell_type": "code",
      "metadata": {
        "id": "eE31hyY1I6eC",
        "outputId": "973f3660-1280-447f-aa81-926da6dcdcfb",
        "colab": {
          "base_uri": "https://localhost:8080/",
          "height": 758
        }
      },
      "source": [
        "add_lags(df.copy())"
      ],
      "execution_count": 39,
      "outputs": [
        {
          "output_type": "execute_result",
          "data": {
            "text/html": [
              "<div>\n",
              "<style scoped>\n",
              "    .dataframe tbody tr th:only-of-type {\n",
              "        vertical-align: middle;\n",
              "    }\n",
              "\n",
              "    .dataframe tbody tr th {\n",
              "        vertical-align: top;\n",
              "    }\n",
              "\n",
              "    .dataframe thead th {\n",
              "        text-align: right;\n",
              "    }\n",
              "</style>\n",
              "<table border=\"1\" class=\"dataframe\">\n",
              "  <thead>\n",
              "    <tr style=\"text-align: right;\">\n",
              "      <th></th>\n",
              "      <th>No</th>\n",
              "      <th>year</th>\n",
              "      <th>month</th>\n",
              "      <th>day</th>\n",
              "      <th>hour</th>\n",
              "      <th>pm2.5</th>\n",
              "      <th>DEWP</th>\n",
              "      <th>TEMP</th>\n",
              "      <th>PRES</th>\n",
              "      <th>cbwd</th>\n",
              "      <th>Iws</th>\n",
              "      <th>Is</th>\n",
              "      <th>Ir</th>\n",
              "      <th>hum</th>\n",
              "      <th>pm2.5_1_past</th>\n",
              "      <th>pm2.5_1_future</th>\n",
              "      <th>pm2.5_2_past</th>\n",
              "      <th>pm2.5_2_future</th>\n",
              "      <th>DEWP_1_past</th>\n",
              "      <th>DEWP_1_future</th>\n",
              "      <th>DEWP_2_past</th>\n",
              "      <th>DEWP_2_future</th>\n",
              "      <th>TEMP_1_past</th>\n",
              "      <th>TEMP_1_future</th>\n",
              "      <th>TEMP_2_past</th>\n",
              "      <th>TEMP_2_future</th>\n",
              "      <th>Iws_1_past</th>\n",
              "      <th>Iws_1_future</th>\n",
              "      <th>Iws_2_past</th>\n",
              "      <th>Iws_2_future</th>\n",
              "      <th>datetime</th>\n",
              "    </tr>\n",
              "  </thead>\n",
              "  <tbody>\n",
              "    <tr>\n",
              "      <th>0</th>\n",
              "      <td>1</td>\n",
              "      <td>2010</td>\n",
              "      <td>1</td>\n",
              "      <td>1</td>\n",
              "      <td>0</td>\n",
              "      <td>129.0</td>\n",
              "      <td>-21</td>\n",
              "      <td>-11.0</td>\n",
              "      <td>1021.0</td>\n",
              "      <td>NW</td>\n",
              "      <td>1.79</td>\n",
              "      <td>0</td>\n",
              "      <td>0</td>\n",
              "      <td>43.543692</td>\n",
              "      <td>NaN</td>\n",
              "      <td>129.0</td>\n",
              "      <td>NaN</td>\n",
              "      <td>129.0</td>\n",
              "      <td>NaN</td>\n",
              "      <td>-21.0</td>\n",
              "      <td>NaN</td>\n",
              "      <td>-21.0</td>\n",
              "      <td>NaN</td>\n",
              "      <td>-12.0</td>\n",
              "      <td>NaN</td>\n",
              "      <td>-11.0</td>\n",
              "      <td>NaN</td>\n",
              "      <td>4.92</td>\n",
              "      <td>NaN</td>\n",
              "      <td>6.71</td>\n",
              "      <td>2010-01-01 00:00:00</td>\n",
              "    </tr>\n",
              "    <tr>\n",
              "      <th>1</th>\n",
              "      <td>2</td>\n",
              "      <td>2010</td>\n",
              "      <td>1</td>\n",
              "      <td>1</td>\n",
              "      <td>1</td>\n",
              "      <td>129.0</td>\n",
              "      <td>-21</td>\n",
              "      <td>-12.0</td>\n",
              "      <td>1020.0</td>\n",
              "      <td>NW</td>\n",
              "      <td>4.92</td>\n",
              "      <td>0</td>\n",
              "      <td>0</td>\n",
              "      <td>47.165689</td>\n",
              "      <td>129.0</td>\n",
              "      <td>129.0</td>\n",
              "      <td>NaN</td>\n",
              "      <td>129.0</td>\n",
              "      <td>-21.0</td>\n",
              "      <td>-21.0</td>\n",
              "      <td>NaN</td>\n",
              "      <td>-21.0</td>\n",
              "      <td>-11.0</td>\n",
              "      <td>-11.0</td>\n",
              "      <td>NaN</td>\n",
              "      <td>-14.0</td>\n",
              "      <td>1.79</td>\n",
              "      <td>6.71</td>\n",
              "      <td>NaN</td>\n",
              "      <td>9.84</td>\n",
              "      <td>2010-01-01 01:00:00</td>\n",
              "    </tr>\n",
              "    <tr>\n",
              "      <th>2</th>\n",
              "      <td>3</td>\n",
              "      <td>2010</td>\n",
              "      <td>1</td>\n",
              "      <td>1</td>\n",
              "      <td>2</td>\n",
              "      <td>129.0</td>\n",
              "      <td>-21</td>\n",
              "      <td>-11.0</td>\n",
              "      <td>1019.0</td>\n",
              "      <td>NW</td>\n",
              "      <td>6.71</td>\n",
              "      <td>0</td>\n",
              "      <td>0</td>\n",
              "      <td>43.543692</td>\n",
              "      <td>129.0</td>\n",
              "      <td>129.0</td>\n",
              "      <td>129.0</td>\n",
              "      <td>129.0</td>\n",
              "      <td>-21.0</td>\n",
              "      <td>-21.0</td>\n",
              "      <td>-21.0</td>\n",
              "      <td>-20.0</td>\n",
              "      <td>-12.0</td>\n",
              "      <td>-14.0</td>\n",
              "      <td>-11.0</td>\n",
              "      <td>-12.0</td>\n",
              "      <td>4.92</td>\n",
              "      <td>9.84</td>\n",
              "      <td>1.79</td>\n",
              "      <td>12.97</td>\n",
              "      <td>2010-01-01 02:00:00</td>\n",
              "    </tr>\n",
              "    <tr>\n",
              "      <th>3</th>\n",
              "      <td>4</td>\n",
              "      <td>2010</td>\n",
              "      <td>1</td>\n",
              "      <td>1</td>\n",
              "      <td>3</td>\n",
              "      <td>129.0</td>\n",
              "      <td>-21</td>\n",
              "      <td>-14.0</td>\n",
              "      <td>1019.0</td>\n",
              "      <td>NW</td>\n",
              "      <td>9.84</td>\n",
              "      <td>0</td>\n",
              "      <td>0</td>\n",
              "      <td>55.454538</td>\n",
              "      <td>129.0</td>\n",
              "      <td>129.0</td>\n",
              "      <td>129.0</td>\n",
              "      <td>129.0</td>\n",
              "      <td>-21.0</td>\n",
              "      <td>-20.0</td>\n",
              "      <td>-21.0</td>\n",
              "      <td>-19.0</td>\n",
              "      <td>-11.0</td>\n",
              "      <td>-12.0</td>\n",
              "      <td>-12.0</td>\n",
              "      <td>-10.0</td>\n",
              "      <td>6.71</td>\n",
              "      <td>12.97</td>\n",
              "      <td>4.92</td>\n",
              "      <td>16.10</td>\n",
              "      <td>2010-01-01 03:00:00</td>\n",
              "    </tr>\n",
              "    <tr>\n",
              "      <th>4</th>\n",
              "      <td>5</td>\n",
              "      <td>2010</td>\n",
              "      <td>1</td>\n",
              "      <td>1</td>\n",
              "      <td>4</td>\n",
              "      <td>129.0</td>\n",
              "      <td>-20</td>\n",
              "      <td>-12.0</td>\n",
              "      <td>1018.0</td>\n",
              "      <td>NW</td>\n",
              "      <td>12.97</td>\n",
              "      <td>0</td>\n",
              "      <td>0</td>\n",
              "      <td>51.426936</td>\n",
              "      <td>129.0</td>\n",
              "      <td>129.0</td>\n",
              "      <td>129.0</td>\n",
              "      <td>129.0</td>\n",
              "      <td>-21.0</td>\n",
              "      <td>-19.0</td>\n",
              "      <td>-21.0</td>\n",
              "      <td>-19.0</td>\n",
              "      <td>-14.0</td>\n",
              "      <td>-10.0</td>\n",
              "      <td>-11.0</td>\n",
              "      <td>-9.0</td>\n",
              "      <td>9.84</td>\n",
              "      <td>16.10</td>\n",
              "      <td>6.71</td>\n",
              "      <td>19.23</td>\n",
              "      <td>2010-01-01 04:00:00</td>\n",
              "    </tr>\n",
              "    <tr>\n",
              "      <th>...</th>\n",
              "      <td>...</td>\n",
              "      <td>...</td>\n",
              "      <td>...</td>\n",
              "      <td>...</td>\n",
              "      <td>...</td>\n",
              "      <td>...</td>\n",
              "      <td>...</td>\n",
              "      <td>...</td>\n",
              "      <td>...</td>\n",
              "      <td>...</td>\n",
              "      <td>...</td>\n",
              "      <td>...</td>\n",
              "      <td>...</td>\n",
              "      <td>...</td>\n",
              "      <td>...</td>\n",
              "      <td>...</td>\n",
              "      <td>...</td>\n",
              "      <td>...</td>\n",
              "      <td>...</td>\n",
              "      <td>...</td>\n",
              "      <td>...</td>\n",
              "      <td>...</td>\n",
              "      <td>...</td>\n",
              "      <td>...</td>\n",
              "      <td>...</td>\n",
              "      <td>...</td>\n",
              "      <td>...</td>\n",
              "      <td>...</td>\n",
              "      <td>...</td>\n",
              "      <td>...</td>\n",
              "      <td>...</td>\n",
              "    </tr>\n",
              "    <tr>\n",
              "      <th>43819</th>\n",
              "      <td>43820</td>\n",
              "      <td>2014</td>\n",
              "      <td>12</td>\n",
              "      <td>31</td>\n",
              "      <td>19</td>\n",
              "      <td>8.0</td>\n",
              "      <td>-23</td>\n",
              "      <td>-2.0</td>\n",
              "      <td>1034.0</td>\n",
              "      <td>NW</td>\n",
              "      <td>231.97</td>\n",
              "      <td>0</td>\n",
              "      <td>0</td>\n",
              "      <td>18.340886</td>\n",
              "      <td>10.0</td>\n",
              "      <td>10.0</td>\n",
              "      <td>9.0</td>\n",
              "      <td>10.0</td>\n",
              "      <td>-22.0</td>\n",
              "      <td>-22.0</td>\n",
              "      <td>-22.0</td>\n",
              "      <td>-22.0</td>\n",
              "      <td>-2.0</td>\n",
              "      <td>-3.0</td>\n",
              "      <td>-1.0</td>\n",
              "      <td>-3.0</td>\n",
              "      <td>226.16</td>\n",
              "      <td>237.78</td>\n",
              "      <td>221.24</td>\n",
              "      <td>242.70</td>\n",
              "      <td>2014-12-31 19:00:00</td>\n",
              "    </tr>\n",
              "    <tr>\n",
              "      <th>43820</th>\n",
              "      <td>43821</td>\n",
              "      <td>2014</td>\n",
              "      <td>12</td>\n",
              "      <td>31</td>\n",
              "      <td>20</td>\n",
              "      <td>10.0</td>\n",
              "      <td>-22</td>\n",
              "      <td>-3.0</td>\n",
              "      <td>1034.0</td>\n",
              "      <td>NW</td>\n",
              "      <td>237.78</td>\n",
              "      <td>0</td>\n",
              "      <td>0</td>\n",
              "      <td>21.568601</td>\n",
              "      <td>8.0</td>\n",
              "      <td>10.0</td>\n",
              "      <td>10.0</td>\n",
              "      <td>8.0</td>\n",
              "      <td>-23.0</td>\n",
              "      <td>-22.0</td>\n",
              "      <td>-22.0</td>\n",
              "      <td>-22.0</td>\n",
              "      <td>-2.0</td>\n",
              "      <td>-3.0</td>\n",
              "      <td>-2.0</td>\n",
              "      <td>-4.0</td>\n",
              "      <td>231.97</td>\n",
              "      <td>242.70</td>\n",
              "      <td>226.16</td>\n",
              "      <td>246.72</td>\n",
              "      <td>2014-12-31 20:00:00</td>\n",
              "    </tr>\n",
              "    <tr>\n",
              "      <th>43821</th>\n",
              "      <td>43822</td>\n",
              "      <td>2014</td>\n",
              "      <td>12</td>\n",
              "      <td>31</td>\n",
              "      <td>21</td>\n",
              "      <td>10.0</td>\n",
              "      <td>-22</td>\n",
              "      <td>-3.0</td>\n",
              "      <td>1034.0</td>\n",
              "      <td>NW</td>\n",
              "      <td>242.70</td>\n",
              "      <td>0</td>\n",
              "      <td>0</td>\n",
              "      <td>21.568601</td>\n",
              "      <td>10.0</td>\n",
              "      <td>8.0</td>\n",
              "      <td>8.0</td>\n",
              "      <td>12.0</td>\n",
              "      <td>-22.0</td>\n",
              "      <td>-22.0</td>\n",
              "      <td>-23.0</td>\n",
              "      <td>-21.0</td>\n",
              "      <td>-3.0</td>\n",
              "      <td>-4.0</td>\n",
              "      <td>-2.0</td>\n",
              "      <td>-3.0</td>\n",
              "      <td>237.78</td>\n",
              "      <td>246.72</td>\n",
              "      <td>231.97</td>\n",
              "      <td>249.85</td>\n",
              "      <td>2014-12-31 21:00:00</td>\n",
              "    </tr>\n",
              "    <tr>\n",
              "      <th>43822</th>\n",
              "      <td>43823</td>\n",
              "      <td>2014</td>\n",
              "      <td>12</td>\n",
              "      <td>31</td>\n",
              "      <td>22</td>\n",
              "      <td>8.0</td>\n",
              "      <td>-22</td>\n",
              "      <td>-4.0</td>\n",
              "      <td>1034.0</td>\n",
              "      <td>NW</td>\n",
              "      <td>246.72</td>\n",
              "      <td>0</td>\n",
              "      <td>0</td>\n",
              "      <td>23.240409</td>\n",
              "      <td>10.0</td>\n",
              "      <td>12.0</td>\n",
              "      <td>10.0</td>\n",
              "      <td>NaN</td>\n",
              "      <td>-22.0</td>\n",
              "      <td>-21.0</td>\n",
              "      <td>-22.0</td>\n",
              "      <td>NaN</td>\n",
              "      <td>-3.0</td>\n",
              "      <td>-3.0</td>\n",
              "      <td>-3.0</td>\n",
              "      <td>NaN</td>\n",
              "      <td>242.70</td>\n",
              "      <td>249.85</td>\n",
              "      <td>237.78</td>\n",
              "      <td>NaN</td>\n",
              "      <td>2014-12-31 22:00:00</td>\n",
              "    </tr>\n",
              "    <tr>\n",
              "      <th>43823</th>\n",
              "      <td>43824</td>\n",
              "      <td>2014</td>\n",
              "      <td>12</td>\n",
              "      <td>31</td>\n",
              "      <td>23</td>\n",
              "      <td>12.0</td>\n",
              "      <td>-21</td>\n",
              "      <td>-3.0</td>\n",
              "      <td>1034.0</td>\n",
              "      <td>NW</td>\n",
              "      <td>249.85</td>\n",
              "      <td>0</td>\n",
              "      <td>0</td>\n",
              "      <td>23.535657</td>\n",
              "      <td>8.0</td>\n",
              "      <td>NaN</td>\n",
              "      <td>10.0</td>\n",
              "      <td>NaN</td>\n",
              "      <td>-22.0</td>\n",
              "      <td>NaN</td>\n",
              "      <td>-22.0</td>\n",
              "      <td>NaN</td>\n",
              "      <td>-4.0</td>\n",
              "      <td>NaN</td>\n",
              "      <td>-3.0</td>\n",
              "      <td>NaN</td>\n",
              "      <td>246.72</td>\n",
              "      <td>NaN</td>\n",
              "      <td>242.70</td>\n",
              "      <td>NaN</td>\n",
              "      <td>2014-12-31 23:00:00</td>\n",
              "    </tr>\n",
              "  </tbody>\n",
              "</table>\n",
              "<p>43789 rows × 31 columns</p>\n",
              "</div>"
            ],
            "text/plain": [
              "          No  year  month  ...  Iws_2_past  Iws_2_future            datetime\n",
              "0          1  2010      1  ...         NaN          6.71 2010-01-01 00:00:00\n",
              "1          2  2010      1  ...         NaN          9.84 2010-01-01 01:00:00\n",
              "2          3  2010      1  ...        1.79         12.97 2010-01-01 02:00:00\n",
              "3          4  2010      1  ...        4.92         16.10 2010-01-01 03:00:00\n",
              "4          5  2010      1  ...        6.71         19.23 2010-01-01 04:00:00\n",
              "...      ...   ...    ...  ...         ...           ...                 ...\n",
              "43819  43820  2014     12  ...      221.24        242.70 2014-12-31 19:00:00\n",
              "43820  43821  2014     12  ...      226.16        246.72 2014-12-31 20:00:00\n",
              "43821  43822  2014     12  ...      231.97        249.85 2014-12-31 21:00:00\n",
              "43822  43823  2014     12  ...      237.78           NaN 2014-12-31 22:00:00\n",
              "43823  43824  2014     12  ...      242.70           NaN 2014-12-31 23:00:00\n",
              "\n",
              "[43789 rows x 31 columns]"
            ]
          },
          "metadata": {
            "tags": []
          },
          "execution_count": 39
        }
      ]
    },
    {
      "cell_type": "code",
      "metadata": {
        "id": "gukWzoLSOrf4",
        "outputId": "8b022fa8-4caa-4896-ee14-19b9dd43c290",
        "colab": {
          "base_uri": "https://localhost:8080/",
          "height": 97
        }
      },
      "source": [
        "df[features].tail(1)"
      ],
      "execution_count": 40,
      "outputs": [
        {
          "output_type": "execute_result",
          "data": {
            "text/html": [
              "<div>\n",
              "<style scoped>\n",
              "    .dataframe tbody tr th:only-of-type {\n",
              "        vertical-align: middle;\n",
              "    }\n",
              "\n",
              "    .dataframe tbody tr th {\n",
              "        vertical-align: top;\n",
              "    }\n",
              "\n",
              "    .dataframe thead th {\n",
              "        text-align: right;\n",
              "    }\n",
              "</style>\n",
              "<table border=\"1\" class=\"dataframe\">\n",
              "  <thead>\n",
              "    <tr style=\"text-align: right;\">\n",
              "      <th></th>\n",
              "      <th>Iws</th>\n",
              "      <th>Ir</th>\n",
              "      <th>hum</th>\n",
              "      <th>pm2.5_1_past</th>\n",
              "      <th>pm2.5_1_future</th>\n",
              "      <th>pm2.5_2_past</th>\n",
              "      <th>pm2.5_2_future</th>\n",
              "      <th>DEWP_1_past</th>\n",
              "      <th>DEWP_1_future</th>\n",
              "      <th>DEWP_2_past</th>\n",
              "      <th>DEWP_2_future</th>\n",
              "      <th>TEMP_1_past</th>\n",
              "      <th>TEMP_1_future</th>\n",
              "      <th>TEMP_2_past</th>\n",
              "      <th>TEMP_2_future</th>\n",
              "      <th>Iws_1_past</th>\n",
              "      <th>Iws_1_future</th>\n",
              "      <th>Iws_2_past</th>\n",
              "      <th>Iws_2_future</th>\n",
              "    </tr>\n",
              "  </thead>\n",
              "  <tbody>\n",
              "    <tr>\n",
              "      <th>43823</th>\n",
              "      <td>249.85</td>\n",
              "      <td>0</td>\n",
              "      <td>23.535657</td>\n",
              "      <td>8.0</td>\n",
              "      <td>12.0</td>\n",
              "      <td>10.0</td>\n",
              "      <td>12.0</td>\n",
              "      <td>-22.0</td>\n",
              "      <td>-21.0</td>\n",
              "      <td>-22.0</td>\n",
              "      <td>-21.0</td>\n",
              "      <td>-4.0</td>\n",
              "      <td>-3.0</td>\n",
              "      <td>-3.0</td>\n",
              "      <td>-3.0</td>\n",
              "      <td>246.72</td>\n",
              "      <td>249.85</td>\n",
              "      <td>242.7</td>\n",
              "      <td>249.85</td>\n",
              "    </tr>\n",
              "  </tbody>\n",
              "</table>\n",
              "</div>"
            ],
            "text/plain": [
              "          Iws  Ir        hum  ...  Iws_1_future  Iws_2_past  Iws_2_future\n",
              "43823  249.85   0  23.535657  ...        249.85       242.7        249.85\n",
              "\n",
              "[1 rows x 19 columns]"
            ]
          },
          "metadata": {
            "tags": []
          },
          "execution_count": 40
        }
      ]
    },
    {
      "cell_type": "code",
      "metadata": {
        "id": "4tN2HmKlO0cM"
      },
      "source": [
        "for i in range(6):\n",
        "    df.fillna(method='ffill', inplace=True)\n",
        "    tail = pd.concat([df.tail(1)], ignore_index=True)\n",
        "    tail.loc[:, ['day', 'month', 'year', 'hour']] = [1, 1, 2015, i]\n",
        "    df = pd.concat([df, tail], ignore_index=True)\n",
        "    df.loc[len(df) - 1:, predicts] = random_forest.predict(tail[features])\n",
        "    df = add_lags(df.copy())"
      ],
      "execution_count": 41,
      "outputs": []
    },
    {
      "cell_type": "code",
      "metadata": {
        "id": "Yk0OkgQoO0cS",
        "scrolled": false,
        "outputId": "aa17c0c0-255c-480c-a4c3-6b77125dbc1d",
        "colab": {
          "base_uri": "https://localhost:8080/",
          "height": 225
        }
      },
      "source": [
        "df.tail(6)[['day', 'month', 'year', 'hour'] + predicts]"
      ],
      "execution_count": 42,
      "outputs": [
        {
          "output_type": "execute_result",
          "data": {
            "text/html": [
              "<div>\n",
              "<style scoped>\n",
              "    .dataframe tbody tr th:only-of-type {\n",
              "        vertical-align: middle;\n",
              "    }\n",
              "\n",
              "    .dataframe tbody tr th {\n",
              "        vertical-align: top;\n",
              "    }\n",
              "\n",
              "    .dataframe thead th {\n",
              "        text-align: right;\n",
              "    }\n",
              "</style>\n",
              "<table border=\"1\" class=\"dataframe\">\n",
              "  <thead>\n",
              "    <tr style=\"text-align: right;\">\n",
              "      <th></th>\n",
              "      <th>day</th>\n",
              "      <th>month</th>\n",
              "      <th>year</th>\n",
              "      <th>hour</th>\n",
              "      <th>pm2.5</th>\n",
              "      <th>DEWP</th>\n",
              "      <th>TEMP</th>\n",
              "    </tr>\n",
              "  </thead>\n",
              "  <tbody>\n",
              "    <tr>\n",
              "      <th>43789</th>\n",
              "      <td>1</td>\n",
              "      <td>1</td>\n",
              "      <td>2015</td>\n",
              "      <td>0</td>\n",
              "      <td>11.119</td>\n",
              "      <td>-21.168</td>\n",
              "      <td>-3.194</td>\n",
              "    </tr>\n",
              "    <tr>\n",
              "      <th>43790</th>\n",
              "      <td>1</td>\n",
              "      <td>1</td>\n",
              "      <td>2015</td>\n",
              "      <td>1</td>\n",
              "      <td>11.106</td>\n",
              "      <td>-21.198</td>\n",
              "      <td>-3.317</td>\n",
              "    </tr>\n",
              "    <tr>\n",
              "      <th>43791</th>\n",
              "      <td>1</td>\n",
              "      <td>1</td>\n",
              "      <td>2015</td>\n",
              "      <td>2</td>\n",
              "      <td>11.193</td>\n",
              "      <td>-21.033</td>\n",
              "      <td>-3.084</td>\n",
              "    </tr>\n",
              "    <tr>\n",
              "      <th>43792</th>\n",
              "      <td>1</td>\n",
              "      <td>1</td>\n",
              "      <td>2015</td>\n",
              "      <td>3</td>\n",
              "      <td>11.204</td>\n",
              "      <td>-21.039</td>\n",
              "      <td>-3.084</td>\n",
              "    </tr>\n",
              "    <tr>\n",
              "      <th>43793</th>\n",
              "      <td>1</td>\n",
              "      <td>1</td>\n",
              "      <td>2015</td>\n",
              "      <td>4</td>\n",
              "      <td>11.204</td>\n",
              "      <td>-21.039</td>\n",
              "      <td>-3.084</td>\n",
              "    </tr>\n",
              "    <tr>\n",
              "      <th>43794</th>\n",
              "      <td>1</td>\n",
              "      <td>1</td>\n",
              "      <td>2015</td>\n",
              "      <td>5</td>\n",
              "      <td>11.204</td>\n",
              "      <td>-21.039</td>\n",
              "      <td>-3.084</td>\n",
              "    </tr>\n",
              "  </tbody>\n",
              "</table>\n",
              "</div>"
            ],
            "text/plain": [
              "       day  month  year  hour   pm2.5    DEWP   TEMP\n",
              "43789    1      1  2015     0  11.119 -21.168 -3.194\n",
              "43790    1      1  2015     1  11.106 -21.198 -3.317\n",
              "43791    1      1  2015     2  11.193 -21.033 -3.084\n",
              "43792    1      1  2015     3  11.204 -21.039 -3.084\n",
              "43793    1      1  2015     4  11.204 -21.039 -3.084\n",
              "43794    1      1  2015     5  11.204 -21.039 -3.084"
            ]
          },
          "metadata": {
            "tags": []
          },
          "execution_count": 42
        }
      ]
    },
    {
      "cell_type": "code",
      "metadata": {
        "id": "sHjakl0JEH3e",
        "outputId": "bc9644f9-cabb-4b61-b093-1556b288bb8c",
        "colab": {
          "base_uri": "https://localhost:8080/",
          "height": 699
        }
      },
      "source": [
        "df.tail(10)"
      ],
      "execution_count": 43,
      "outputs": [
        {
          "output_type": "execute_result",
          "data": {
            "text/html": [
              "<div>\n",
              "<style scoped>\n",
              "    .dataframe tbody tr th:only-of-type {\n",
              "        vertical-align: middle;\n",
              "    }\n",
              "\n",
              "    .dataframe tbody tr th {\n",
              "        vertical-align: top;\n",
              "    }\n",
              "\n",
              "    .dataframe thead th {\n",
              "        text-align: right;\n",
              "    }\n",
              "</style>\n",
              "<table border=\"1\" class=\"dataframe\">\n",
              "  <thead>\n",
              "    <tr style=\"text-align: right;\">\n",
              "      <th></th>\n",
              "      <th>No</th>\n",
              "      <th>year</th>\n",
              "      <th>month</th>\n",
              "      <th>day</th>\n",
              "      <th>hour</th>\n",
              "      <th>pm2.5</th>\n",
              "      <th>DEWP</th>\n",
              "      <th>TEMP</th>\n",
              "      <th>PRES</th>\n",
              "      <th>cbwd</th>\n",
              "      <th>Iws</th>\n",
              "      <th>Is</th>\n",
              "      <th>Ir</th>\n",
              "      <th>hum</th>\n",
              "      <th>pm2.5_1_past</th>\n",
              "      <th>pm2.5_1_future</th>\n",
              "      <th>pm2.5_2_past</th>\n",
              "      <th>pm2.5_2_future</th>\n",
              "      <th>DEWP_1_past</th>\n",
              "      <th>DEWP_1_future</th>\n",
              "      <th>DEWP_2_past</th>\n",
              "      <th>DEWP_2_future</th>\n",
              "      <th>TEMP_1_past</th>\n",
              "      <th>TEMP_1_future</th>\n",
              "      <th>TEMP_2_past</th>\n",
              "      <th>TEMP_2_future</th>\n",
              "      <th>Iws_1_past</th>\n",
              "      <th>Iws_1_future</th>\n",
              "      <th>Iws_2_past</th>\n",
              "      <th>Iws_2_future</th>\n",
              "      <th>datetime</th>\n",
              "    </tr>\n",
              "  </thead>\n",
              "  <tbody>\n",
              "    <tr>\n",
              "      <th>43785</th>\n",
              "      <td>43821</td>\n",
              "      <td>2014</td>\n",
              "      <td>12</td>\n",
              "      <td>31</td>\n",
              "      <td>20</td>\n",
              "      <td>10.000</td>\n",
              "      <td>-22.000</td>\n",
              "      <td>-3.000</td>\n",
              "      <td>1034.0</td>\n",
              "      <td>NW</td>\n",
              "      <td>237.78</td>\n",
              "      <td>0</td>\n",
              "      <td>0</td>\n",
              "      <td>21.568601</td>\n",
              "      <td>8.000</td>\n",
              "      <td>10.000</td>\n",
              "      <td>10.000</td>\n",
              "      <td>8.000</td>\n",
              "      <td>-23.000</td>\n",
              "      <td>-22.000</td>\n",
              "      <td>-22.000</td>\n",
              "      <td>-22.000</td>\n",
              "      <td>-2.000</td>\n",
              "      <td>-3.000</td>\n",
              "      <td>-2.000</td>\n",
              "      <td>-4.000</td>\n",
              "      <td>231.97</td>\n",
              "      <td>242.70</td>\n",
              "      <td>226.16</td>\n",
              "      <td>246.72</td>\n",
              "      <td>2014-12-31 20:00:00</td>\n",
              "    </tr>\n",
              "    <tr>\n",
              "      <th>43786</th>\n",
              "      <td>43822</td>\n",
              "      <td>2014</td>\n",
              "      <td>12</td>\n",
              "      <td>31</td>\n",
              "      <td>21</td>\n",
              "      <td>10.000</td>\n",
              "      <td>-22.000</td>\n",
              "      <td>-3.000</td>\n",
              "      <td>1034.0</td>\n",
              "      <td>NW</td>\n",
              "      <td>242.70</td>\n",
              "      <td>0</td>\n",
              "      <td>0</td>\n",
              "      <td>21.568601</td>\n",
              "      <td>10.000</td>\n",
              "      <td>8.000</td>\n",
              "      <td>8.000</td>\n",
              "      <td>12.000</td>\n",
              "      <td>-22.000</td>\n",
              "      <td>-22.000</td>\n",
              "      <td>-23.000</td>\n",
              "      <td>-21.000</td>\n",
              "      <td>-3.000</td>\n",
              "      <td>-4.000</td>\n",
              "      <td>-2.000</td>\n",
              "      <td>-3.000</td>\n",
              "      <td>237.78</td>\n",
              "      <td>246.72</td>\n",
              "      <td>231.97</td>\n",
              "      <td>249.85</td>\n",
              "      <td>2014-12-31 21:00:00</td>\n",
              "    </tr>\n",
              "    <tr>\n",
              "      <th>43787</th>\n",
              "      <td>43823</td>\n",
              "      <td>2014</td>\n",
              "      <td>12</td>\n",
              "      <td>31</td>\n",
              "      <td>22</td>\n",
              "      <td>8.000</td>\n",
              "      <td>-22.000</td>\n",
              "      <td>-4.000</td>\n",
              "      <td>1034.0</td>\n",
              "      <td>NW</td>\n",
              "      <td>246.72</td>\n",
              "      <td>0</td>\n",
              "      <td>0</td>\n",
              "      <td>23.240409</td>\n",
              "      <td>10.000</td>\n",
              "      <td>12.000</td>\n",
              "      <td>10.000</td>\n",
              "      <td>11.119</td>\n",
              "      <td>-22.000</td>\n",
              "      <td>-21.000</td>\n",
              "      <td>-22.000</td>\n",
              "      <td>-21.168</td>\n",
              "      <td>-3.000</td>\n",
              "      <td>-3.000</td>\n",
              "      <td>-3.000</td>\n",
              "      <td>-3.194</td>\n",
              "      <td>242.70</td>\n",
              "      <td>249.85</td>\n",
              "      <td>237.78</td>\n",
              "      <td>249.85</td>\n",
              "      <td>2014-12-31 22:00:00</td>\n",
              "    </tr>\n",
              "    <tr>\n",
              "      <th>43788</th>\n",
              "      <td>43824</td>\n",
              "      <td>2014</td>\n",
              "      <td>12</td>\n",
              "      <td>31</td>\n",
              "      <td>23</td>\n",
              "      <td>12.000</td>\n",
              "      <td>-21.000</td>\n",
              "      <td>-3.000</td>\n",
              "      <td>1034.0</td>\n",
              "      <td>NW</td>\n",
              "      <td>249.85</td>\n",
              "      <td>0</td>\n",
              "      <td>0</td>\n",
              "      <td>23.535657</td>\n",
              "      <td>8.000</td>\n",
              "      <td>11.119</td>\n",
              "      <td>10.000</td>\n",
              "      <td>11.106</td>\n",
              "      <td>-22.000</td>\n",
              "      <td>-21.168</td>\n",
              "      <td>-22.000</td>\n",
              "      <td>-21.198</td>\n",
              "      <td>-4.000</td>\n",
              "      <td>-3.194</td>\n",
              "      <td>-3.000</td>\n",
              "      <td>-3.317</td>\n",
              "      <td>246.72</td>\n",
              "      <td>249.85</td>\n",
              "      <td>242.70</td>\n",
              "      <td>249.85</td>\n",
              "      <td>2014-12-31 23:00:00</td>\n",
              "    </tr>\n",
              "    <tr>\n",
              "      <th>43789</th>\n",
              "      <td>43824</td>\n",
              "      <td>2015</td>\n",
              "      <td>1</td>\n",
              "      <td>1</td>\n",
              "      <td>0</td>\n",
              "      <td>11.119</td>\n",
              "      <td>-21.168</td>\n",
              "      <td>-3.194</td>\n",
              "      <td>1034.0</td>\n",
              "      <td>NW</td>\n",
              "      <td>249.85</td>\n",
              "      <td>0</td>\n",
              "      <td>0</td>\n",
              "      <td>23.535657</td>\n",
              "      <td>12.000</td>\n",
              "      <td>11.106</td>\n",
              "      <td>8.000</td>\n",
              "      <td>11.193</td>\n",
              "      <td>-21.000</td>\n",
              "      <td>-21.198</td>\n",
              "      <td>-22.000</td>\n",
              "      <td>-21.033</td>\n",
              "      <td>-3.000</td>\n",
              "      <td>-3.317</td>\n",
              "      <td>-4.000</td>\n",
              "      <td>-3.084</td>\n",
              "      <td>249.85</td>\n",
              "      <td>249.85</td>\n",
              "      <td>246.72</td>\n",
              "      <td>249.85</td>\n",
              "      <td>2014-12-31 23:00:00</td>\n",
              "    </tr>\n",
              "    <tr>\n",
              "      <th>43790</th>\n",
              "      <td>43824</td>\n",
              "      <td>2015</td>\n",
              "      <td>1</td>\n",
              "      <td>1</td>\n",
              "      <td>1</td>\n",
              "      <td>11.106</td>\n",
              "      <td>-21.198</td>\n",
              "      <td>-3.317</td>\n",
              "      <td>1034.0</td>\n",
              "      <td>NW</td>\n",
              "      <td>249.85</td>\n",
              "      <td>0</td>\n",
              "      <td>0</td>\n",
              "      <td>23.535657</td>\n",
              "      <td>11.119</td>\n",
              "      <td>11.193</td>\n",
              "      <td>12.000</td>\n",
              "      <td>11.204</td>\n",
              "      <td>-21.168</td>\n",
              "      <td>-21.033</td>\n",
              "      <td>-21.000</td>\n",
              "      <td>-21.039</td>\n",
              "      <td>-3.194</td>\n",
              "      <td>-3.084</td>\n",
              "      <td>-3.000</td>\n",
              "      <td>-3.084</td>\n",
              "      <td>249.85</td>\n",
              "      <td>249.85</td>\n",
              "      <td>249.85</td>\n",
              "      <td>249.85</td>\n",
              "      <td>2014-12-31 23:00:00</td>\n",
              "    </tr>\n",
              "    <tr>\n",
              "      <th>43791</th>\n",
              "      <td>43824</td>\n",
              "      <td>2015</td>\n",
              "      <td>1</td>\n",
              "      <td>1</td>\n",
              "      <td>2</td>\n",
              "      <td>11.193</td>\n",
              "      <td>-21.033</td>\n",
              "      <td>-3.084</td>\n",
              "      <td>1034.0</td>\n",
              "      <td>NW</td>\n",
              "      <td>249.85</td>\n",
              "      <td>0</td>\n",
              "      <td>0</td>\n",
              "      <td>23.535657</td>\n",
              "      <td>11.106</td>\n",
              "      <td>11.204</td>\n",
              "      <td>11.119</td>\n",
              "      <td>11.204</td>\n",
              "      <td>-21.198</td>\n",
              "      <td>-21.039</td>\n",
              "      <td>-21.168</td>\n",
              "      <td>-21.039</td>\n",
              "      <td>-3.317</td>\n",
              "      <td>-3.084</td>\n",
              "      <td>-3.194</td>\n",
              "      <td>-3.084</td>\n",
              "      <td>249.85</td>\n",
              "      <td>249.85</td>\n",
              "      <td>249.85</td>\n",
              "      <td>249.85</td>\n",
              "      <td>2014-12-31 23:00:00</td>\n",
              "    </tr>\n",
              "    <tr>\n",
              "      <th>43792</th>\n",
              "      <td>43824</td>\n",
              "      <td>2015</td>\n",
              "      <td>1</td>\n",
              "      <td>1</td>\n",
              "      <td>3</td>\n",
              "      <td>11.204</td>\n",
              "      <td>-21.039</td>\n",
              "      <td>-3.084</td>\n",
              "      <td>1034.0</td>\n",
              "      <td>NW</td>\n",
              "      <td>249.85</td>\n",
              "      <td>0</td>\n",
              "      <td>0</td>\n",
              "      <td>23.535657</td>\n",
              "      <td>11.193</td>\n",
              "      <td>11.204</td>\n",
              "      <td>11.106</td>\n",
              "      <td>11.204</td>\n",
              "      <td>-21.033</td>\n",
              "      <td>-21.039</td>\n",
              "      <td>-21.198</td>\n",
              "      <td>-21.039</td>\n",
              "      <td>-3.084</td>\n",
              "      <td>-3.084</td>\n",
              "      <td>-3.317</td>\n",
              "      <td>-3.084</td>\n",
              "      <td>249.85</td>\n",
              "      <td>249.85</td>\n",
              "      <td>249.85</td>\n",
              "      <td>249.85</td>\n",
              "      <td>2014-12-31 23:00:00</td>\n",
              "    </tr>\n",
              "    <tr>\n",
              "      <th>43793</th>\n",
              "      <td>43824</td>\n",
              "      <td>2015</td>\n",
              "      <td>1</td>\n",
              "      <td>1</td>\n",
              "      <td>4</td>\n",
              "      <td>11.204</td>\n",
              "      <td>-21.039</td>\n",
              "      <td>-3.084</td>\n",
              "      <td>1034.0</td>\n",
              "      <td>NW</td>\n",
              "      <td>249.85</td>\n",
              "      <td>0</td>\n",
              "      <td>0</td>\n",
              "      <td>23.535657</td>\n",
              "      <td>11.204</td>\n",
              "      <td>11.204</td>\n",
              "      <td>11.193</td>\n",
              "      <td>NaN</td>\n",
              "      <td>-21.039</td>\n",
              "      <td>-21.039</td>\n",
              "      <td>-21.033</td>\n",
              "      <td>NaN</td>\n",
              "      <td>-3.084</td>\n",
              "      <td>-3.084</td>\n",
              "      <td>-3.084</td>\n",
              "      <td>NaN</td>\n",
              "      <td>249.85</td>\n",
              "      <td>249.85</td>\n",
              "      <td>249.85</td>\n",
              "      <td>NaN</td>\n",
              "      <td>2014-12-31 23:00:00</td>\n",
              "    </tr>\n",
              "    <tr>\n",
              "      <th>43794</th>\n",
              "      <td>43824</td>\n",
              "      <td>2015</td>\n",
              "      <td>1</td>\n",
              "      <td>1</td>\n",
              "      <td>5</td>\n",
              "      <td>11.204</td>\n",
              "      <td>-21.039</td>\n",
              "      <td>-3.084</td>\n",
              "      <td>1034.0</td>\n",
              "      <td>NW</td>\n",
              "      <td>249.85</td>\n",
              "      <td>0</td>\n",
              "      <td>0</td>\n",
              "      <td>23.535657</td>\n",
              "      <td>11.204</td>\n",
              "      <td>NaN</td>\n",
              "      <td>11.204</td>\n",
              "      <td>NaN</td>\n",
              "      <td>-21.039</td>\n",
              "      <td>NaN</td>\n",
              "      <td>-21.039</td>\n",
              "      <td>NaN</td>\n",
              "      <td>-3.084</td>\n",
              "      <td>NaN</td>\n",
              "      <td>-3.084</td>\n",
              "      <td>NaN</td>\n",
              "      <td>249.85</td>\n",
              "      <td>NaN</td>\n",
              "      <td>249.85</td>\n",
              "      <td>NaN</td>\n",
              "      <td>2014-12-31 23:00:00</td>\n",
              "    </tr>\n",
              "  </tbody>\n",
              "</table>\n",
              "</div>"
            ],
            "text/plain": [
              "          No  year  month  ...  Iws_2_past  Iws_2_future            datetime\n",
              "43785  43821  2014     12  ...      226.16        246.72 2014-12-31 20:00:00\n",
              "43786  43822  2014     12  ...      231.97        249.85 2014-12-31 21:00:00\n",
              "43787  43823  2014     12  ...      237.78        249.85 2014-12-31 22:00:00\n",
              "43788  43824  2014     12  ...      242.70        249.85 2014-12-31 23:00:00\n",
              "43789  43824  2015      1  ...      246.72        249.85 2014-12-31 23:00:00\n",
              "43790  43824  2015      1  ...      249.85        249.85 2014-12-31 23:00:00\n",
              "43791  43824  2015      1  ...      249.85        249.85 2014-12-31 23:00:00\n",
              "43792  43824  2015      1  ...      249.85        249.85 2014-12-31 23:00:00\n",
              "43793  43824  2015      1  ...      249.85           NaN 2014-12-31 23:00:00\n",
              "43794  43824  2015      1  ...      249.85           NaN 2014-12-31 23:00:00\n",
              "\n",
              "[10 rows x 31 columns]"
            ]
          },
          "metadata": {
            "tags": []
          },
          "execution_count": 43
        }
      ]
    },
    {
      "cell_type": "markdown",
      "metadata": {
        "id": "z3LAWLjNO0cZ"
      },
      "source": [
        "### Note:\n",
        "- season\n",
        "- trend\n",
        "- statistical models for time serries\n",
        "- how data transform by times (up or down, low or high)\n",
        "- past data for weekdays or for pm2.5 last year\n",
        "- k fold cross validation for time series"
      ]
    }
  ]
}