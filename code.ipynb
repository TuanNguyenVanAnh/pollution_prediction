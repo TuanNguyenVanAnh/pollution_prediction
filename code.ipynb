{
  "nbformat": 4,
  "nbformat_minor": 0,
  "metadata": {
    "kernelspec": {
      "display_name": "Python 3",
      "language": "python",
      "name": "python3"
    },
    "language_info": {
      "codemirror_mode": {
        "name": "ipython",
        "version": 3
      },
      "file_extension": ".py",
      "mimetype": "text/x-python",
      "name": "python",
      "nbconvert_exporter": "python",
      "pygments_lexer": "ipython3",
      "version": "3.8.3"
    },
    "colab": {
      "name": "code.ipynb",
      "provenance": [],
      "collapsed_sections": []
    }
  },
  "cells": [
    {
      "cell_type": "markdown",
      "metadata": {
        "id": "u5G1PpPDO0Um",
        "colab_type": "text"
      },
      "source": [
        "# Things to do\n",
        "    - add humidity column\n",
        "    - add weekday column\n",
        "    - one hot encoder cbwd and weekday columns\n",
        "    - fill NaN with not NaN before\n",
        "    - outliers\n",
        "    - add past data columns"
      ]
    },
    {
      "cell_type": "markdown",
      "metadata": {
        "id": "UiqUI9ZYO0Us",
        "colab_type": "text"
      },
      "source": [
        "### Rút kinh nghiệm sau vài lần chọn features cho model:  \n",
        "    - Cột cbwd và thứ trong tuần không quá ảnh hưởng đến model nên không dùng nữa\n",
        "    - Cột Ir và Is không ảnh hưởng nhiều đến model\n",
        "    - Cột pres không ảnh hưởng nhiều dến model"
      ]
    },
    {
      "cell_type": "markdown",
      "metadata": {
        "id": "Lxua4d5jO0Uz",
        "colab_type": "text"
      },
      "source": [
        "- Thử phương pháp vét cạn, chọn trường hợp tối ưu nhất trong số tất cả cách chọn -> 2^(số cột)"
      ]
    },
    {
      "cell_type": "code",
      "metadata": {
        "id": "3XttzuX3O0U4",
        "colab_type": "code",
        "colab": {}
      },
      "source": [
        "import pandas as pd\n",
        "import numpy as np\n",
        "from math import exp, isnan\n",
        "from datetime import datetime\n",
        "from matplotlib import pyplot as plt\n",
        "from sklearn.ensemble import RandomForestRegressor\n",
        "from sklearn.metrics import r2_score, mean_absolute_error\n",
        "from sklearn.model_selection import train_test_split"
      ],
      "execution_count": 1,
      "outputs": []
    },
    {
      "cell_type": "code",
      "metadata": {
        "id": "NITyisPgO0VR",
        "colab_type": "code",
        "colab": {}
      },
      "source": [
        "plt.rcParams[\"figure.figsize\"] = 15, 10"
      ],
      "execution_count": 2,
      "outputs": []
    },
    {
      "cell_type": "code",
      "metadata": {
        "scrolled": false,
        "id": "zsAqln3CO0Vt",
        "colab_type": "code",
        "colab": {
          "base_uri": "https://localhost:8080/",
          "height": 424
        },
        "outputId": "7f630f12-c24b-416c-a40a-8293f0c1a8c8"
      },
      "source": [
        "df = pd.read_csv('data.csv')\n",
        "df"
      ],
      "execution_count": 3,
      "outputs": [
        {
          "output_type": "execute_result",
          "data": {
            "text/html": [
              "<div>\n",
              "<style scoped>\n",
              "    .dataframe tbody tr th:only-of-type {\n",
              "        vertical-align: middle;\n",
              "    }\n",
              "\n",
              "    .dataframe tbody tr th {\n",
              "        vertical-align: top;\n",
              "    }\n",
              "\n",
              "    .dataframe thead th {\n",
              "        text-align: right;\n",
              "    }\n",
              "</style>\n",
              "<table border=\"1\" class=\"dataframe\">\n",
              "  <thead>\n",
              "    <tr style=\"text-align: right;\">\n",
              "      <th></th>\n",
              "      <th>No</th>\n",
              "      <th>year</th>\n",
              "      <th>month</th>\n",
              "      <th>day</th>\n",
              "      <th>hour</th>\n",
              "      <th>pm2.5</th>\n",
              "      <th>DEWP</th>\n",
              "      <th>TEMP</th>\n",
              "      <th>PRES</th>\n",
              "      <th>cbwd</th>\n",
              "      <th>Iws</th>\n",
              "      <th>Is</th>\n",
              "      <th>Ir</th>\n",
              "    </tr>\n",
              "  </thead>\n",
              "  <tbody>\n",
              "    <tr>\n",
              "      <th>0</th>\n",
              "      <td>1</td>\n",
              "      <td>2010</td>\n",
              "      <td>1</td>\n",
              "      <td>1</td>\n",
              "      <td>0</td>\n",
              "      <td>NaN</td>\n",
              "      <td>-21</td>\n",
              "      <td>-11.0</td>\n",
              "      <td>1021.0</td>\n",
              "      <td>NW</td>\n",
              "      <td>1.79</td>\n",
              "      <td>0</td>\n",
              "      <td>0</td>\n",
              "    </tr>\n",
              "    <tr>\n",
              "      <th>1</th>\n",
              "      <td>2</td>\n",
              "      <td>2010</td>\n",
              "      <td>1</td>\n",
              "      <td>1</td>\n",
              "      <td>1</td>\n",
              "      <td>NaN</td>\n",
              "      <td>-21</td>\n",
              "      <td>-12.0</td>\n",
              "      <td>1020.0</td>\n",
              "      <td>NW</td>\n",
              "      <td>4.92</td>\n",
              "      <td>0</td>\n",
              "      <td>0</td>\n",
              "    </tr>\n",
              "    <tr>\n",
              "      <th>2</th>\n",
              "      <td>3</td>\n",
              "      <td>2010</td>\n",
              "      <td>1</td>\n",
              "      <td>1</td>\n",
              "      <td>2</td>\n",
              "      <td>NaN</td>\n",
              "      <td>-21</td>\n",
              "      <td>-11.0</td>\n",
              "      <td>1019.0</td>\n",
              "      <td>NW</td>\n",
              "      <td>6.71</td>\n",
              "      <td>0</td>\n",
              "      <td>0</td>\n",
              "    </tr>\n",
              "    <tr>\n",
              "      <th>3</th>\n",
              "      <td>4</td>\n",
              "      <td>2010</td>\n",
              "      <td>1</td>\n",
              "      <td>1</td>\n",
              "      <td>3</td>\n",
              "      <td>NaN</td>\n",
              "      <td>-21</td>\n",
              "      <td>-14.0</td>\n",
              "      <td>1019.0</td>\n",
              "      <td>NW</td>\n",
              "      <td>9.84</td>\n",
              "      <td>0</td>\n",
              "      <td>0</td>\n",
              "    </tr>\n",
              "    <tr>\n",
              "      <th>4</th>\n",
              "      <td>5</td>\n",
              "      <td>2010</td>\n",
              "      <td>1</td>\n",
              "      <td>1</td>\n",
              "      <td>4</td>\n",
              "      <td>NaN</td>\n",
              "      <td>-20</td>\n",
              "      <td>-12.0</td>\n",
              "      <td>1018.0</td>\n",
              "      <td>NW</td>\n",
              "      <td>12.97</td>\n",
              "      <td>0</td>\n",
              "      <td>0</td>\n",
              "    </tr>\n",
              "    <tr>\n",
              "      <th>...</th>\n",
              "      <td>...</td>\n",
              "      <td>...</td>\n",
              "      <td>...</td>\n",
              "      <td>...</td>\n",
              "      <td>...</td>\n",
              "      <td>...</td>\n",
              "      <td>...</td>\n",
              "      <td>...</td>\n",
              "      <td>...</td>\n",
              "      <td>...</td>\n",
              "      <td>...</td>\n",
              "      <td>...</td>\n",
              "      <td>...</td>\n",
              "    </tr>\n",
              "    <tr>\n",
              "      <th>43819</th>\n",
              "      <td>43820</td>\n",
              "      <td>2014</td>\n",
              "      <td>12</td>\n",
              "      <td>31</td>\n",
              "      <td>19</td>\n",
              "      <td>8.0</td>\n",
              "      <td>-23</td>\n",
              "      <td>-2.0</td>\n",
              "      <td>1034.0</td>\n",
              "      <td>NW</td>\n",
              "      <td>231.97</td>\n",
              "      <td>0</td>\n",
              "      <td>0</td>\n",
              "    </tr>\n",
              "    <tr>\n",
              "      <th>43820</th>\n",
              "      <td>43821</td>\n",
              "      <td>2014</td>\n",
              "      <td>12</td>\n",
              "      <td>31</td>\n",
              "      <td>20</td>\n",
              "      <td>10.0</td>\n",
              "      <td>-22</td>\n",
              "      <td>-3.0</td>\n",
              "      <td>1034.0</td>\n",
              "      <td>NW</td>\n",
              "      <td>237.78</td>\n",
              "      <td>0</td>\n",
              "      <td>0</td>\n",
              "    </tr>\n",
              "    <tr>\n",
              "      <th>43821</th>\n",
              "      <td>43822</td>\n",
              "      <td>2014</td>\n",
              "      <td>12</td>\n",
              "      <td>31</td>\n",
              "      <td>21</td>\n",
              "      <td>10.0</td>\n",
              "      <td>-22</td>\n",
              "      <td>-3.0</td>\n",
              "      <td>1034.0</td>\n",
              "      <td>NW</td>\n",
              "      <td>242.70</td>\n",
              "      <td>0</td>\n",
              "      <td>0</td>\n",
              "    </tr>\n",
              "    <tr>\n",
              "      <th>43822</th>\n",
              "      <td>43823</td>\n",
              "      <td>2014</td>\n",
              "      <td>12</td>\n",
              "      <td>31</td>\n",
              "      <td>22</td>\n",
              "      <td>8.0</td>\n",
              "      <td>-22</td>\n",
              "      <td>-4.0</td>\n",
              "      <td>1034.0</td>\n",
              "      <td>NW</td>\n",
              "      <td>246.72</td>\n",
              "      <td>0</td>\n",
              "      <td>0</td>\n",
              "    </tr>\n",
              "    <tr>\n",
              "      <th>43823</th>\n",
              "      <td>43824</td>\n",
              "      <td>2014</td>\n",
              "      <td>12</td>\n",
              "      <td>31</td>\n",
              "      <td>23</td>\n",
              "      <td>12.0</td>\n",
              "      <td>-21</td>\n",
              "      <td>-3.0</td>\n",
              "      <td>1034.0</td>\n",
              "      <td>NW</td>\n",
              "      <td>249.85</td>\n",
              "      <td>0</td>\n",
              "      <td>0</td>\n",
              "    </tr>\n",
              "  </tbody>\n",
              "</table>\n",
              "<p>43824 rows × 13 columns</p>\n",
              "</div>"
            ],
            "text/plain": [
              "          No  year  month  day  hour  pm2.5  ...  TEMP    PRES  cbwd     Iws  Is  Ir\n",
              "0          1  2010      1    1     0    NaN  ... -11.0  1021.0    NW    1.79   0   0\n",
              "1          2  2010      1    1     1    NaN  ... -12.0  1020.0    NW    4.92   0   0\n",
              "2          3  2010      1    1     2    NaN  ... -11.0  1019.0    NW    6.71   0   0\n",
              "3          4  2010      1    1     3    NaN  ... -14.0  1019.0    NW    9.84   0   0\n",
              "4          5  2010      1    1     4    NaN  ... -12.0  1018.0    NW   12.97   0   0\n",
              "...      ...   ...    ...  ...   ...    ...  ...   ...     ...   ...     ...  ..  ..\n",
              "43819  43820  2014     12   31    19    8.0  ...  -2.0  1034.0    NW  231.97   0   0\n",
              "43820  43821  2014     12   31    20   10.0  ...  -3.0  1034.0    NW  237.78   0   0\n",
              "43821  43822  2014     12   31    21   10.0  ...  -3.0  1034.0    NW  242.70   0   0\n",
              "43822  43823  2014     12   31    22    8.0  ...  -4.0  1034.0    NW  246.72   0   0\n",
              "43823  43824  2014     12   31    23   12.0  ...  -3.0  1034.0    NW  249.85   0   0\n",
              "\n",
              "[43824 rows x 13 columns]"
            ]
          },
          "metadata": {
            "tags": []
          },
          "execution_count": 3
        }
      ]
    },
    {
      "cell_type": "markdown",
      "metadata": {
        "id": "jJGP3NXkO0V8",
        "colab_type": "text"
      },
      "source": [
        "## Add humidity column"
      ]
    },
    {
      "cell_type": "code",
      "metadata": {
        "id": "4ryim3O3O0V9",
        "colab_type": "code",
        "colab": {}
      },
      "source": [
        "def cal(temp, dewp):\n",
        "    return 100*(exp((17.625*dewp)/(243.04+dewp))/exp((17.625*temp)/(243.04+temp)))\n",
        "df['hum'] = [cal(temp, dewp) for temp, dewp in zip(df['TEMP'], df['DEWP'])]"
      ],
      "execution_count": 4,
      "outputs": []
    },
    {
      "cell_type": "markdown",
      "metadata": {
        "id": "d_37j5P4O0WK",
        "colab_type": "text"
      },
      "source": [
        "## Add weekday column"
      ]
    },
    {
      "cell_type": "code",
      "metadata": {
        "id": "V7m_KWrsO0WN",
        "colab_type": "code",
        "colab": {}
      },
      "source": [
        "# weekday = ['Sun', 'Mon', 'Tue', 'Wed', 'Thu', 'Fri', 'Sat']\n",
        "# tmp = []\n",
        "# for i, j, k in zip(df['day'], df['month'], df['year']):\n",
        "#     date = weekday[datetime.strptime(str('{}/{}/{}'.format(i, j, k)), '%d/%m/%Y').weekday()]\n",
        "#     tmp.append(date)\n",
        "# df['weekday'] = tmp"
      ],
      "execution_count": 5,
      "outputs": []
    },
    {
      "cell_type": "markdown",
      "metadata": {
        "id": "7FBdA_stO0Wb",
        "colab_type": "text"
      },
      "source": [
        "## One Hot Encoder cbwd column"
      ]
    },
    {
      "cell_type": "code",
      "metadata": {
        "id": "tk6YL1kCO0We",
        "colab_type": "code",
        "colab": {}
      },
      "source": [
        "# df = pd.get_dummies(df)"
      ],
      "execution_count": 6,
      "outputs": []
    },
    {
      "cell_type": "markdown",
      "metadata": {
        "id": "EffET-JnO0Wp",
        "colab_type": "text"
      },
      "source": [
        "## Fill NaN with not NaN before"
      ]
    },
    {
      "cell_type": "code",
      "metadata": {
        "scrolled": true,
        "id": "wJV8MEaSO0Wq",
        "colab_type": "code",
        "colab": {
          "base_uri": "https://localhost:8080/",
          "height": 34
        },
        "outputId": "a23f2a78-2d96-4cfa-98f3-141915cfd1f3"
      },
      "source": [
        "df['pm2.5'].isna().sum()"
      ],
      "execution_count": 7,
      "outputs": [
        {
          "output_type": "execute_result",
          "data": {
            "text/plain": [
              "2067"
            ]
          },
          "metadata": {
            "tags": []
          },
          "execution_count": 7
        }
      ]
    },
    {
      "cell_type": "code",
      "metadata": {
        "id": "x-MgL_YUO0W1",
        "colab_type": "code",
        "colab": {}
      },
      "source": [
        "df['pm2.5'].fillna(method='ffill', inplace=True)"
      ],
      "execution_count": 8,
      "outputs": []
    },
    {
      "cell_type": "code",
      "metadata": {
        "id": "L63vTFvOO0W_",
        "colab_type": "code",
        "colab": {}
      },
      "source": [
        "df.dropna(inplace=True)"
      ],
      "execution_count": 9,
      "outputs": []
    },
    {
      "cell_type": "markdown",
      "metadata": {
        "id": "GXIdcsw3O0XK",
        "colab_type": "text"
      },
      "source": [
        "## Outliers"
      ]
    },
    {
      "cell_type": "code",
      "metadata": {
        "id": "GLjc2zuMO0XM",
        "colab_type": "code",
        "colab": {}
      },
      "source": [
        "dic = {}\n",
        "for day, month, year, hour, pm25 in zip(df['day'], df['month'], df['year'], df['hour'], df['pm2.5']):\n",
        "    dic[datetime.strptime(str('{}/{}/{} {}:00'.format(int(day), int(month), int(year), int(hour))), '%d/%m/%Y %H:%M')] = pm25"
      ],
      "execution_count": 10,
      "outputs": []
    },
    {
      "cell_type": "code",
      "metadata": {
        "id": "WH8yplnNO0Xe",
        "colab_type": "code",
        "colab": {}
      },
      "source": [
        "outlier_df = pd.DataFrame.from_dict(dic, orient='index', columns=['Value'])"
      ],
      "execution_count": 11,
      "outputs": []
    },
    {
      "cell_type": "code",
      "metadata": {
        "scrolled": false,
        "id": "D5TBfTXqO0Xs",
        "colab_type": "code",
        "colab": {
          "base_uri": "https://localhost:8080/",
          "height": 592
        },
        "outputId": "208da049-00e4-441e-8cb8-fcbd1745ab20"
      },
      "source": [
        "outlier_df.plot()\n",
        "plt.show()"
      ],
      "execution_count": 12,
      "outputs": [
        {
          "output_type": "display_data",
          "data": {
            "image/png": "[encoded data removed]",
            "text/plain": [
              "<Figure size 1080x720 with 1 Axes>"
            ]
          },
          "metadata": {
            "tags": [],
            "needs_background": "light"
          }
        }
      ]
    },
    {
      "cell_type": "code",
      "metadata": {
        "id": "ZZOOxnXSO0X2",
        "colab_type": "code",
        "colab": {}
      },
      "source": [
        "df = df[df['pm2.5'] <= 600]"
      ],
      "execution_count": 13,
      "outputs": []
    },
    {
      "cell_type": "code",
      "metadata": {
        "scrolled": false,
        "id": "_zjJU-cfO0X_",
        "colab_type": "code",
        "colab": {
          "base_uri": "https://localhost:8080/",
          "height": 477
        },
        "outputId": "c441b125-ceda-44d6-b6c0-a42194662974"
      },
      "source": [
        "df.corr()"
      ],
      "execution_count": 14,
      "outputs": [
        {
          "output_type": "execute_result",
          "data": {
            "text/html": [
              "<div>\n",
              "<style scoped>\n",
              "    .dataframe tbody tr th:only-of-type {\n",
              "        vertical-align: middle;\n",
              "    }\n",
              "\n",
              "    .dataframe tbody tr th {\n",
              "        vertical-align: top;\n",
              "    }\n",
              "\n",
              "    .dataframe thead th {\n",
              "        text-align: right;\n",
              "    }\n",
              "</style>\n",
              "<table border=\"1\" class=\"dataframe\">\n",
              "  <thead>\n",
              "    <tr style=\"text-align: right;\">\n",
              "      <th></th>\n",
              "      <th>No</th>\n",
              "      <th>year</th>\n",
              "      <th>month</th>\n",
              "      <th>day</th>\n",
              "      <th>hour</th>\n",
              "      <th>pm2.5</th>\n",
              "      <th>DEWP</th>\n",
              "      <th>TEMP</th>\n",
              "      <th>PRES</th>\n",
              "      <th>Iws</th>\n",
              "      <th>Is</th>\n",
              "      <th>Ir</th>\n",
              "      <th>hum</th>\n",
              "    </tr>\n",
              "  </thead>\n",
              "  <tbody>\n",
              "    <tr>\n",
              "      <th>No</th>\n",
              "      <td>1.000000</td>\n",
              "      <td>0.979818</td>\n",
              "      <td>0.198630</td>\n",
              "      <td>0.017443</td>\n",
              "      <td>0.000583</td>\n",
              "      <td>-0.009528</td>\n",
              "      <td>0.046393</td>\n",
              "      <td>0.077008</td>\n",
              "      <td>-0.024573</td>\n",
              "      <td>-0.062673</td>\n",
              "      <td>-0.029568</td>\n",
              "      <td>-0.016719</td>\n",
              "      <td>-0.013252</td>\n",
              "    </tr>\n",
              "    <tr>\n",
              "      <th>year</th>\n",
              "      <td>0.979818</td>\n",
              "      <td>1.000000</td>\n",
              "      <td>-0.000573</td>\n",
              "      <td>-0.001077</td>\n",
              "      <td>0.000154</td>\n",
              "      <td>-0.006876</td>\n",
              "      <td>0.000151</td>\n",
              "      <td>0.044835</td>\n",
              "      <td>-0.013069</td>\n",
              "      <td>-0.064370</td>\n",
              "      <td>-0.017062</td>\n",
              "      <td>-0.024493</td>\n",
              "      <td>-0.050575</td>\n",
              "    </tr>\n",
              "    <tr>\n",
              "      <th>month</th>\n",
              "      <td>0.198630</td>\n",
              "      <td>-0.000573</td>\n",
              "      <td>1.000000</td>\n",
              "      <td>0.009206</td>\n",
              "      <td>-0.000582</td>\n",
              "      <td>-0.021266</td>\n",
              "      <td>0.232543</td>\n",
              "      <td>0.167881</td>\n",
              "      <td>-0.061513</td>\n",
              "      <td>0.002493</td>\n",
              "      <td>-0.061901</td>\n",
              "      <td>0.036541</td>\n",
              "      <td>0.180682</td>\n",
              "    </tr>\n",
              "    <tr>\n",
              "      <th>day</th>\n",
              "      <td>0.017443</td>\n",
              "      <td>-0.001077</td>\n",
              "      <td>0.009206</td>\n",
              "      <td>1.000000</td>\n",
              "      <td>0.000052</td>\n",
              "      <td>0.081097</td>\n",
              "      <td>0.027328</td>\n",
              "      <td>0.013326</td>\n",
              "      <td>-0.006913</td>\n",
              "      <td>-0.009141</td>\n",
              "      <td>-0.036920</td>\n",
              "      <td>0.002559</td>\n",
              "      <td>0.028218</td>\n",
              "    </tr>\n",
              "    <tr>\n",
              "      <th>hour</th>\n",
              "      <td>0.000583</td>\n",
              "      <td>0.000154</td>\n",
              "      <td>-0.000582</td>\n",
              "      <td>0.000052</td>\n",
              "      <td>1.000000</td>\n",
              "      <td>-0.023593</td>\n",
              "      <td>-0.021267</td>\n",
              "      <td>0.150029</td>\n",
              "      <td>-0.041671</td>\n",
              "      <td>0.056610</td>\n",
              "      <td>-0.002391</td>\n",
              "      <td>-0.006322</td>\n",
              "      <td>-0.256729</td>\n",
              "    </tr>\n",
              "    <tr>\n",
              "      <th>pm2.5</th>\n",
              "      <td>-0.009528</td>\n",
              "      <td>-0.006876</td>\n",
              "      <td>-0.021266</td>\n",
              "      <td>0.081097</td>\n",
              "      <td>-0.023593</td>\n",
              "      <td>1.000000</td>\n",
              "      <td>0.183443</td>\n",
              "      <td>-0.071875</td>\n",
              "      <td>-0.061710</td>\n",
              "      <td>-0.246062</td>\n",
              "      <td>0.020398</td>\n",
              "      <td>-0.049038</td>\n",
              "      <td>0.440030</td>\n",
              "    </tr>\n",
              "    <tr>\n",
              "      <th>DEWP</th>\n",
              "      <td>0.046393</td>\n",
              "      <td>0.000151</td>\n",
              "      <td>0.232543</td>\n",
              "      <td>0.027328</td>\n",
              "      <td>-0.021267</td>\n",
              "      <td>0.183443</td>\n",
              "      <td>1.000000</td>\n",
              "      <td>0.824458</td>\n",
              "      <td>-0.778787</td>\n",
              "      <td>-0.297034</td>\n",
              "      <td>-0.034532</td>\n",
              "      <td>0.125006</td>\n",
              "      <td>0.622290</td>\n",
              "    </tr>\n",
              "    <tr>\n",
              "      <th>TEMP</th>\n",
              "      <td>0.077008</td>\n",
              "      <td>0.044835</td>\n",
              "      <td>0.167881</td>\n",
              "      <td>0.013326</td>\n",
              "      <td>0.150029</td>\n",
              "      <td>-0.071875</td>\n",
              "      <td>0.824458</td>\n",
              "      <td>1.000000</td>\n",
              "      <td>-0.827405</td>\n",
              "      <td>-0.155456</td>\n",
              "      <td>-0.092869</td>\n",
              "      <td>0.048932</td>\n",
              "      <td>0.095473</td>\n",
              "    </tr>\n",
              "    <tr>\n",
              "      <th>PRES</th>\n",
              "      <td>-0.024573</td>\n",
              "      <td>-0.013069</td>\n",
              "      <td>-0.061513</td>\n",
              "      <td>-0.006913</td>\n",
              "      <td>-0.041671</td>\n",
              "      <td>-0.061710</td>\n",
              "      <td>-0.778787</td>\n",
              "      <td>-0.827405</td>\n",
              "      <td>1.000000</td>\n",
              "      <td>0.185625</td>\n",
              "      <td>0.069082</td>\n",
              "      <td>-0.079816</td>\n",
              "      <td>-0.256052</td>\n",
              "    </tr>\n",
              "    <tr>\n",
              "      <th>Iws</th>\n",
              "      <td>-0.062673</td>\n",
              "      <td>-0.064370</td>\n",
              "      <td>0.002493</td>\n",
              "      <td>-0.009141</td>\n",
              "      <td>0.056610</td>\n",
              "      <td>-0.246062</td>\n",
              "      <td>-0.297034</td>\n",
              "      <td>-0.155456</td>\n",
              "      <td>0.185625</td>\n",
              "      <td>1.000000</td>\n",
              "      <td>0.021856</td>\n",
              "      <td>-0.010180</td>\n",
              "      <td>-0.309699</td>\n",
              "    </tr>\n",
              "    <tr>\n",
              "      <th>Is</th>\n",
              "      <td>-0.029568</td>\n",
              "      <td>-0.017062</td>\n",
              "      <td>-0.061901</td>\n",
              "      <td>-0.036920</td>\n",
              "      <td>-0.002391</td>\n",
              "      <td>0.020398</td>\n",
              "      <td>-0.034532</td>\n",
              "      <td>-0.092869</td>\n",
              "      <td>0.069082</td>\n",
              "      <td>0.021856</td>\n",
              "      <td>1.000000</td>\n",
              "      <td>-0.009561</td>\n",
              "      <td>0.093067</td>\n",
              "    </tr>\n",
              "    <tr>\n",
              "      <th>Ir</th>\n",
              "      <td>-0.016719</td>\n",
              "      <td>-0.024493</td>\n",
              "      <td>0.036541</td>\n",
              "      <td>0.002559</td>\n",
              "      <td>-0.006322</td>\n",
              "      <td>-0.049038</td>\n",
              "      <td>0.125006</td>\n",
              "      <td>0.048932</td>\n",
              "      <td>-0.079816</td>\n",
              "      <td>-0.010180</td>\n",
              "      <td>-0.009561</td>\n",
              "      <td>1.000000</td>\n",
              "      <td>0.183491</td>\n",
              "    </tr>\n",
              "    <tr>\n",
              "      <th>hum</th>\n",
              "      <td>-0.013252</td>\n",
              "      <td>-0.050575</td>\n",
              "      <td>0.180682</td>\n",
              "      <td>0.028218</td>\n",
              "      <td>-0.256729</td>\n",
              "      <td>0.440030</td>\n",
              "      <td>0.622290</td>\n",
              "      <td>0.095473</td>\n",
              "      <td>-0.256052</td>\n",
              "      <td>-0.309699</td>\n",
              "      <td>0.093067</td>\n",
              "      <td>0.183491</td>\n",
              "      <td>1.000000</td>\n",
              "    </tr>\n",
              "  </tbody>\n",
              "</table>\n",
              "</div>"
            ],
            "text/plain": [
              "             No      year     month  ...        Is        Ir       hum\n",
              "No     1.000000  0.979818  0.198630  ... -0.029568 -0.016719 -0.013252\n",
              "year   0.979818  1.000000 -0.000573  ... -0.017062 -0.024493 -0.050575\n",
              "month  0.198630 -0.000573  1.000000  ... -0.061901  0.036541  0.180682\n",
              "day    0.017443 -0.001077  0.009206  ... -0.036920  0.002559  0.028218\n",
              "hour   0.000583  0.000154 -0.000582  ... -0.002391 -0.006322 -0.256729\n",
              "pm2.5 -0.009528 -0.006876 -0.021266  ...  0.020398 -0.049038  0.440030\n",
              "DEWP   0.046393  0.000151  0.232543  ... -0.034532  0.125006  0.622290\n",
              "TEMP   0.077008  0.044835  0.167881  ... -0.092869  0.048932  0.095473\n",
              "PRES  -0.024573 -0.013069 -0.061513  ...  0.069082 -0.079816 -0.256052\n",
              "Iws   -0.062673 -0.064370  0.002493  ...  0.021856 -0.010180 -0.309699\n",
              "Is    -0.029568 -0.017062 -0.061901  ...  1.000000 -0.009561  0.093067\n",
              "Ir    -0.016719 -0.024493  0.036541  ... -0.009561  1.000000  0.183491\n",
              "hum   -0.013252 -0.050575  0.180682  ...  0.093067  0.183491  1.000000\n",
              "\n",
              "[13 rows x 13 columns]"
            ]
          },
          "metadata": {
            "tags": []
          },
          "execution_count": 14
        }
      ]
    },
    {
      "cell_type": "code",
      "metadata": {
        "scrolled": false,
        "id": "sFvxSK7bO0YK",
        "colab_type": "code",
        "colab": {
          "base_uri": "https://localhost:8080/",
          "height": 647
        },
        "outputId": "61783f94-0c65-4cf9-9c7a-c2b3e5dedca7"
      },
      "source": [
        "import seaborn as sns\n",
        "data = df.corr()\n",
        "mask = np.zeros_like(data)\n",
        "mask[np.triu_indices_from(mask)] = True\n",
        "\n",
        "ax = sns.heatmap(data, mask=mask, vmax=.3, square=True)"
      ],
      "execution_count": 15,
      "outputs": [
        {
          "output_type": "stream",
          "text": [
            "/usr/local/lib/python3.6/dist-packages/statsmodels/tools/_testing.py:19: FutureWarning: pandas.util.testing is deprecated. Use the functions in the public API at pandas.testing instead.\n",
            "  import pandas.util.testing as tm\n"
          ],
          "name": "stderr"
        },
        {
          "output_type": "display_data",
          "data": {
            "image/png": "[encoded data removed]",
            "text/plain": [
              "<Figure size 1080x720 with 2 Axes>"
            ]
          },
          "metadata": {
            "tags": [],
            "needs_background": "light"
          }
        }
      ]
    },
    {
      "cell_type": "code",
      "metadata": {
        "id": "5d_EMxPqO0YY",
        "colab_type": "code",
        "colab": {
          "base_uri": "https://localhost:8080/",
          "height": 477
        },
        "outputId": "7f9c17d8-f558-4ffe-be83-9f02b1f41083"
      },
      "source": [
        "data"
      ],
      "execution_count": 16,
      "outputs": [
        {
          "output_type": "execute_result",
          "data": {
            "text/html": [
              "<div>\n",
              "<style scoped>\n",
              "    .dataframe tbody tr th:only-of-type {\n",
              "        vertical-align: middle;\n",
              "    }\n",
              "\n",
              "    .dataframe tbody tr th {\n",
              "        vertical-align: top;\n",
              "    }\n",
              "\n",
              "    .dataframe thead th {\n",
              "        text-align: right;\n",
              "    }\n",
              "</style>\n",
              "<table border=\"1\" class=\"dataframe\">\n",
              "  <thead>\n",
              "    <tr style=\"text-align: right;\">\n",
              "      <th></th>\n",
              "      <th>No</th>\n",
              "      <th>year</th>\n",
              "      <th>month</th>\n",
              "      <th>day</th>\n",
              "      <th>hour</th>\n",
              "      <th>pm2.5</th>\n",
              "      <th>DEWP</th>\n",
              "      <th>TEMP</th>\n",
              "      <th>PRES</th>\n",
              "      <th>Iws</th>\n",
              "      <th>Is</th>\n",
              "      <th>Ir</th>\n",
              "      <th>hum</th>\n",
              "    </tr>\n",
              "  </thead>\n",
              "  <tbody>\n",
              "    <tr>\n",
              "      <th>No</th>\n",
              "      <td>1.000000</td>\n",
              "      <td>0.979818</td>\n",
              "      <td>0.198630</td>\n",
              "      <td>0.017443</td>\n",
              "      <td>0.000583</td>\n",
              "      <td>-0.009528</td>\n",
              "      <td>0.046393</td>\n",
              "      <td>0.077008</td>\n",
              "      <td>-0.024573</td>\n",
              "      <td>-0.062673</td>\n",
              "      <td>-0.029568</td>\n",
              "      <td>-0.016719</td>\n",
              "      <td>-0.013252</td>\n",
              "    </tr>\n",
              "    <tr>\n",
              "      <th>year</th>\n",
              "      <td>0.979818</td>\n",
              "      <td>1.000000</td>\n",
              "      <td>-0.000573</td>\n",
              "      <td>-0.001077</td>\n",
              "      <td>0.000154</td>\n",
              "      <td>-0.006876</td>\n",
              "      <td>0.000151</td>\n",
              "      <td>0.044835</td>\n",
              "      <td>-0.013069</td>\n",
              "      <td>-0.064370</td>\n",
              "      <td>-0.017062</td>\n",
              "      <td>-0.024493</td>\n",
              "      <td>-0.050575</td>\n",
              "    </tr>\n",
              "    <tr>\n",
              "      <th>month</th>\n",
              "      <td>0.198630</td>\n",
              "      <td>-0.000573</td>\n",
              "      <td>1.000000</td>\n",
              "      <td>0.009206</td>\n",
              "      <td>-0.000582</td>\n",
              "      <td>-0.021266</td>\n",
              "      <td>0.232543</td>\n",
              "      <td>0.167881</td>\n",
              "      <td>-0.061513</td>\n",
              "      <td>0.002493</td>\n",
              "      <td>-0.061901</td>\n",
              "      <td>0.036541</td>\n",
              "      <td>0.180682</td>\n",
              "    </tr>\n",
              "    <tr>\n",
              "      <th>day</th>\n",
              "      <td>0.017443</td>\n",
              "      <td>-0.001077</td>\n",
              "      <td>0.009206</td>\n",
              "      <td>1.000000</td>\n",
              "      <td>0.000052</td>\n",
              "      <td>0.081097</td>\n",
              "      <td>0.027328</td>\n",
              "      <td>0.013326</td>\n",
              "      <td>-0.006913</td>\n",
              "      <td>-0.009141</td>\n",
              "      <td>-0.036920</td>\n",
              "      <td>0.002559</td>\n",
              "      <td>0.028218</td>\n",
              "    </tr>\n",
              "    <tr>\n",
              "      <th>hour</th>\n",
              "      <td>0.000583</td>\n",
              "      <td>0.000154</td>\n",
              "      <td>-0.000582</td>\n",
              "      <td>0.000052</td>\n",
              "      <td>1.000000</td>\n",
              "      <td>-0.023593</td>\n",
              "      <td>-0.021267</td>\n",
              "      <td>0.150029</td>\n",
              "      <td>-0.041671</td>\n",
              "      <td>0.056610</td>\n",
              "      <td>-0.002391</td>\n",
              "      <td>-0.006322</td>\n",
              "      <td>-0.256729</td>\n",
              "    </tr>\n",
              "    <tr>\n",
              "      <th>pm2.5</th>\n",
              "      <td>-0.009528</td>\n",
              "      <td>-0.006876</td>\n",
              "      <td>-0.021266</td>\n",
              "      <td>0.081097</td>\n",
              "      <td>-0.023593</td>\n",
              "      <td>1.000000</td>\n",
              "      <td>0.183443</td>\n",
              "      <td>-0.071875</td>\n",
              "      <td>-0.061710</td>\n",
              "      <td>-0.246062</td>\n",
              "      <td>0.020398</td>\n",
              "      <td>-0.049038</td>\n",
              "      <td>0.440030</td>\n",
              "    </tr>\n",
              "    <tr>\n",
              "      <th>DEWP</th>\n",
              "      <td>0.046393</td>\n",
              "      <td>0.000151</td>\n",
              "      <td>0.232543</td>\n",
              "      <td>0.027328</td>\n",
              "      <td>-0.021267</td>\n",
              "      <td>0.183443</td>\n",
              "      <td>1.000000</td>\n",
              "      <td>0.824458</td>\n",
              "      <td>-0.778787</td>\n",
              "      <td>-0.297034</td>\n",
              "      <td>-0.034532</td>\n",
              "      <td>0.125006</td>\n",
              "      <td>0.622290</td>\n",
              "    </tr>\n",
              "    <tr>\n",
              "      <th>TEMP</th>\n",
              "      <td>0.077008</td>\n",
              "      <td>0.044835</td>\n",
              "      <td>0.167881</td>\n",
              "      <td>0.013326</td>\n",
              "      <td>0.150029</td>\n",
              "      <td>-0.071875</td>\n",
              "      <td>0.824458</td>\n",
              "      <td>1.000000</td>\n",
              "      <td>-0.827405</td>\n",
              "      <td>-0.155456</td>\n",
              "      <td>-0.092869</td>\n",
              "      <td>0.048932</td>\n",
              "      <td>0.095473</td>\n",
              "    </tr>\n",
              "    <tr>\n",
              "      <th>PRES</th>\n",
              "      <td>-0.024573</td>\n",
              "      <td>-0.013069</td>\n",
              "      <td>-0.061513</td>\n",
              "      <td>-0.006913</td>\n",
              "      <td>-0.041671</td>\n",
              "      <td>-0.061710</td>\n",
              "      <td>-0.778787</td>\n",
              "      <td>-0.827405</td>\n",
              "      <td>1.000000</td>\n",
              "      <td>0.185625</td>\n",
              "      <td>0.069082</td>\n",
              "      <td>-0.079816</td>\n",
              "      <td>-0.256052</td>\n",
              "    </tr>\n",
              "    <tr>\n",
              "      <th>Iws</th>\n",
              "      <td>-0.062673</td>\n",
              "      <td>-0.064370</td>\n",
              "      <td>0.002493</td>\n",
              "      <td>-0.009141</td>\n",
              "      <td>0.056610</td>\n",
              "      <td>-0.246062</td>\n",
              "      <td>-0.297034</td>\n",
              "      <td>-0.155456</td>\n",
              "      <td>0.185625</td>\n",
              "      <td>1.000000</td>\n",
              "      <td>0.021856</td>\n",
              "      <td>-0.010180</td>\n",
              "      <td>-0.309699</td>\n",
              "    </tr>\n",
              "    <tr>\n",
              "      <th>Is</th>\n",
              "      <td>-0.029568</td>\n",
              "      <td>-0.017062</td>\n",
              "      <td>-0.061901</td>\n",
              "      <td>-0.036920</td>\n",
              "      <td>-0.002391</td>\n",
              "      <td>0.020398</td>\n",
              "      <td>-0.034532</td>\n",
              "      <td>-0.092869</td>\n",
              "      <td>0.069082</td>\n",
              "      <td>0.021856</td>\n",
              "      <td>1.000000</td>\n",
              "      <td>-0.009561</td>\n",
              "      <td>0.093067</td>\n",
              "    </tr>\n",
              "    <tr>\n",
              "      <th>Ir</th>\n",
              "      <td>-0.016719</td>\n",
              "      <td>-0.024493</td>\n",
              "      <td>0.036541</td>\n",
              "      <td>0.002559</td>\n",
              "      <td>-0.006322</td>\n",
              "      <td>-0.049038</td>\n",
              "      <td>0.125006</td>\n",
              "      <td>0.048932</td>\n",
              "      <td>-0.079816</td>\n",
              "      <td>-0.010180</td>\n",
              "      <td>-0.009561</td>\n",
              "      <td>1.000000</td>\n",
              "      <td>0.183491</td>\n",
              "    </tr>\n",
              "    <tr>\n",
              "      <th>hum</th>\n",
              "      <td>-0.013252</td>\n",
              "      <td>-0.050575</td>\n",
              "      <td>0.180682</td>\n",
              "      <td>0.028218</td>\n",
              "      <td>-0.256729</td>\n",
              "      <td>0.440030</td>\n",
              "      <td>0.622290</td>\n",
              "      <td>0.095473</td>\n",
              "      <td>-0.256052</td>\n",
              "      <td>-0.309699</td>\n",
              "      <td>0.093067</td>\n",
              "      <td>0.183491</td>\n",
              "      <td>1.000000</td>\n",
              "    </tr>\n",
              "  </tbody>\n",
              "</table>\n",
              "</div>"
            ],
            "text/plain": [
              "             No      year     month  ...        Is        Ir       hum\n",
              "No     1.000000  0.979818  0.198630  ... -0.029568 -0.016719 -0.013252\n",
              "year   0.979818  1.000000 -0.000573  ... -0.017062 -0.024493 -0.050575\n",
              "month  0.198630 -0.000573  1.000000  ... -0.061901  0.036541  0.180682\n",
              "day    0.017443 -0.001077  0.009206  ... -0.036920  0.002559  0.028218\n",
              "hour   0.000583  0.000154 -0.000582  ... -0.002391 -0.006322 -0.256729\n",
              "pm2.5 -0.009528 -0.006876 -0.021266  ...  0.020398 -0.049038  0.440030\n",
              "DEWP   0.046393  0.000151  0.232543  ... -0.034532  0.125006  0.622290\n",
              "TEMP   0.077008  0.044835  0.167881  ... -0.092869  0.048932  0.095473\n",
              "PRES  -0.024573 -0.013069 -0.061513  ...  0.069082 -0.079816 -0.256052\n",
              "Iws   -0.062673 -0.064370  0.002493  ...  0.021856 -0.010180 -0.309699\n",
              "Is    -0.029568 -0.017062 -0.061901  ...  1.000000 -0.009561  0.093067\n",
              "Ir    -0.016719 -0.024493  0.036541  ... -0.009561  1.000000  0.183491\n",
              "hum   -0.013252 -0.050575  0.180682  ...  0.093067  0.183491  1.000000\n",
              "\n",
              "[13 rows x 13 columns]"
            ]
          },
          "metadata": {
            "tags": []
          },
          "execution_count": 16
        }
      ]
    },
    {
      "cell_type": "code",
      "metadata": {
        "id": "wMT0zuTuO0Yg",
        "colab_type": "code",
        "colab": {
          "base_uri": "https://localhost:8080/",
          "height": 424
        },
        "outputId": "cfc04515-cfed-45fb-c2a0-81f3aa4fd684"
      },
      "source": [
        "df"
      ],
      "execution_count": 17,
      "outputs": [
        {
          "output_type": "execute_result",
          "data": {
            "text/html": [
              "<div>\n",
              "<style scoped>\n",
              "    .dataframe tbody tr th:only-of-type {\n",
              "        vertical-align: middle;\n",
              "    }\n",
              "\n",
              "    .dataframe tbody tr th {\n",
              "        vertical-align: top;\n",
              "    }\n",
              "\n",
              "    .dataframe thead th {\n",
              "        text-align: right;\n",
              "    }\n",
              "</style>\n",
              "<table border=\"1\" class=\"dataframe\">\n",
              "  <thead>\n",
              "    <tr style=\"text-align: right;\">\n",
              "      <th></th>\n",
              "      <th>No</th>\n",
              "      <th>year</th>\n",
              "      <th>month</th>\n",
              "      <th>day</th>\n",
              "      <th>hour</th>\n",
              "      <th>pm2.5</th>\n",
              "      <th>DEWP</th>\n",
              "      <th>TEMP</th>\n",
              "      <th>PRES</th>\n",
              "      <th>cbwd</th>\n",
              "      <th>Iws</th>\n",
              "      <th>Is</th>\n",
              "      <th>Ir</th>\n",
              "      <th>hum</th>\n",
              "    </tr>\n",
              "  </thead>\n",
              "  <tbody>\n",
              "    <tr>\n",
              "      <th>24</th>\n",
              "      <td>25</td>\n",
              "      <td>2010</td>\n",
              "      <td>1</td>\n",
              "      <td>2</td>\n",
              "      <td>0</td>\n",
              "      <td>129.0</td>\n",
              "      <td>-16</td>\n",
              "      <td>-4.0</td>\n",
              "      <td>1020.0</td>\n",
              "      <td>SE</td>\n",
              "      <td>1.79</td>\n",
              "      <td>0</td>\n",
              "      <td>0</td>\n",
              "      <td>38.784785</td>\n",
              "    </tr>\n",
              "    <tr>\n",
              "      <th>25</th>\n",
              "      <td>26</td>\n",
              "      <td>2010</td>\n",
              "      <td>1</td>\n",
              "      <td>2</td>\n",
              "      <td>1</td>\n",
              "      <td>148.0</td>\n",
              "      <td>-15</td>\n",
              "      <td>-4.0</td>\n",
              "      <td>1020.0</td>\n",
              "      <td>SE</td>\n",
              "      <td>2.68</td>\n",
              "      <td>0</td>\n",
              "      <td>0</td>\n",
              "      <td>42.130158</td>\n",
              "    </tr>\n",
              "    <tr>\n",
              "      <th>26</th>\n",
              "      <td>27</td>\n",
              "      <td>2010</td>\n",
              "      <td>1</td>\n",
              "      <td>2</td>\n",
              "      <td>2</td>\n",
              "      <td>159.0</td>\n",
              "      <td>-11</td>\n",
              "      <td>-5.0</td>\n",
              "      <td>1021.0</td>\n",
              "      <td>SE</td>\n",
              "      <td>3.57</td>\n",
              "      <td>0</td>\n",
              "      <td>0</td>\n",
              "      <td>62.793843</td>\n",
              "    </tr>\n",
              "    <tr>\n",
              "      <th>27</th>\n",
              "      <td>28</td>\n",
              "      <td>2010</td>\n",
              "      <td>1</td>\n",
              "      <td>2</td>\n",
              "      <td>3</td>\n",
              "      <td>181.0</td>\n",
              "      <td>-7</td>\n",
              "      <td>-5.0</td>\n",
              "      <td>1022.0</td>\n",
              "      <td>SE</td>\n",
              "      <td>5.36</td>\n",
              "      <td>1</td>\n",
              "      <td>0</td>\n",
              "      <td>85.857955</td>\n",
              "    </tr>\n",
              "    <tr>\n",
              "      <th>28</th>\n",
              "      <td>29</td>\n",
              "      <td>2010</td>\n",
              "      <td>1</td>\n",
              "      <td>2</td>\n",
              "      <td>4</td>\n",
              "      <td>138.0</td>\n",
              "      <td>-7</td>\n",
              "      <td>-5.0</td>\n",
              "      <td>1022.0</td>\n",
              "      <td>SE</td>\n",
              "      <td>6.25</td>\n",
              "      <td>2</td>\n",
              "      <td>0</td>\n",
              "      <td>85.857955</td>\n",
              "    </tr>\n",
              "    <tr>\n",
              "      <th>...</th>\n",
              "      <td>...</td>\n",
              "      <td>...</td>\n",
              "      <td>...</td>\n",
              "      <td>...</td>\n",
              "      <td>...</td>\n",
              "      <td>...</td>\n",
              "      <td>...</td>\n",
              "      <td>...</td>\n",
              "      <td>...</td>\n",
              "      <td>...</td>\n",
              "      <td>...</td>\n",
              "      <td>...</td>\n",
              "      <td>...</td>\n",
              "      <td>...</td>\n",
              "    </tr>\n",
              "    <tr>\n",
              "      <th>43819</th>\n",
              "      <td>43820</td>\n",
              "      <td>2014</td>\n",
              "      <td>12</td>\n",
              "      <td>31</td>\n",
              "      <td>19</td>\n",
              "      <td>8.0</td>\n",
              "      <td>-23</td>\n",
              "      <td>-2.0</td>\n",
              "      <td>1034.0</td>\n",
              "      <td>NW</td>\n",
              "      <td>231.97</td>\n",
              "      <td>0</td>\n",
              "      <td>0</td>\n",
              "      <td>18.340886</td>\n",
              "    </tr>\n",
              "    <tr>\n",
              "      <th>43820</th>\n",
              "      <td>43821</td>\n",
              "      <td>2014</td>\n",
              "      <td>12</td>\n",
              "      <td>31</td>\n",
              "      <td>20</td>\n",
              "      <td>10.0</td>\n",
              "      <td>-22</td>\n",
              "      <td>-3.0</td>\n",
              "      <td>1034.0</td>\n",
              "      <td>NW</td>\n",
              "      <td>237.78</td>\n",
              "      <td>0</td>\n",
              "      <td>0</td>\n",
              "      <td>21.568601</td>\n",
              "    </tr>\n",
              "    <tr>\n",
              "      <th>43821</th>\n",
              "      <td>43822</td>\n",
              "      <td>2014</td>\n",
              "      <td>12</td>\n",
              "      <td>31</td>\n",
              "      <td>21</td>\n",
              "      <td>10.0</td>\n",
              "      <td>-22</td>\n",
              "      <td>-3.0</td>\n",
              "      <td>1034.0</td>\n",
              "      <td>NW</td>\n",
              "      <td>242.70</td>\n",
              "      <td>0</td>\n",
              "      <td>0</td>\n",
              "      <td>21.568601</td>\n",
              "    </tr>\n",
              "    <tr>\n",
              "      <th>43822</th>\n",
              "      <td>43823</td>\n",
              "      <td>2014</td>\n",
              "      <td>12</td>\n",
              "      <td>31</td>\n",
              "      <td>22</td>\n",
              "      <td>8.0</td>\n",
              "      <td>-22</td>\n",
              "      <td>-4.0</td>\n",
              "      <td>1034.0</td>\n",
              "      <td>NW</td>\n",
              "      <td>246.72</td>\n",
              "      <td>0</td>\n",
              "      <td>0</td>\n",
              "      <td>23.240409</td>\n",
              "    </tr>\n",
              "    <tr>\n",
              "      <th>43823</th>\n",
              "      <td>43824</td>\n",
              "      <td>2014</td>\n",
              "      <td>12</td>\n",
              "      <td>31</td>\n",
              "      <td>23</td>\n",
              "      <td>12.0</td>\n",
              "      <td>-21</td>\n",
              "      <td>-3.0</td>\n",
              "      <td>1034.0</td>\n",
              "      <td>NW</td>\n",
              "      <td>249.85</td>\n",
              "      <td>0</td>\n",
              "      <td>0</td>\n",
              "      <td>23.535657</td>\n",
              "    </tr>\n",
              "  </tbody>\n",
              "</table>\n",
              "<p>43765 rows × 14 columns</p>\n",
              "</div>"
            ],
            "text/plain": [
              "          No  year  month  day  hour  ...  cbwd     Iws  Is  Ir        hum\n",
              "24        25  2010      1    2     0  ...    SE    1.79   0   0  38.784785\n",
              "25        26  2010      1    2     1  ...    SE    2.68   0   0  42.130158\n",
              "26        27  2010      1    2     2  ...    SE    3.57   0   0  62.793843\n",
              "27        28  2010      1    2     3  ...    SE    5.36   1   0  85.857955\n",
              "28        29  2010      1    2     4  ...    SE    6.25   2   0  85.857955\n",
              "...      ...   ...    ...  ...   ...  ...   ...     ...  ..  ..        ...\n",
              "43819  43820  2014     12   31    19  ...    NW  231.97   0   0  18.340886\n",
              "43820  43821  2014     12   31    20  ...    NW  237.78   0   0  21.568601\n",
              "43821  43822  2014     12   31    21  ...    NW  242.70   0   0  21.568601\n",
              "43822  43823  2014     12   31    22  ...    NW  246.72   0   0  23.240409\n",
              "43823  43824  2014     12   31    23  ...    NW  249.85   0   0  23.535657\n",
              "\n",
              "[43765 rows x 14 columns]"
            ]
          },
          "metadata": {
            "tags": []
          },
          "execution_count": 17
        }
      ]
    },
    {
      "cell_type": "markdown",
      "metadata": {
        "id": "AVOktoouO0Yp",
        "colab_type": "text"
      },
      "source": [
        "## Add past data columns"
      ]
    },
    {
      "cell_type": "code",
      "metadata": {
        "scrolled": true,
        "id": "bKVe5y5pO0Yq",
        "colab_type": "code",
        "colab": {
          "base_uri": "https://localhost:8080/",
          "height": 208
        },
        "outputId": "7f97114f-3f40-4769-de70-334882ae8635"
      },
      "source": [
        "need_shift = ['pm2.5', 'DEWP', 'TEMP', 'Iws']\n",
        "for var in need_shift:\n",
        "    for i in range(1, 3):\n",
        "        key = var + '_' + str(i)\n",
        "        df[key] = df[var].shift(periods=i)\n",
        "df.dropna(inplace=True)"
      ],
      "execution_count": 18,
      "outputs": [
        {
          "output_type": "stream",
          "text": [
            "/usr/local/lib/python3.6/dist-packages/ipykernel_launcher.py:5: SettingWithCopyWarning: \n",
            "A value is trying to be set on a copy of a slice from a DataFrame.\n",
            "Try using .loc[row_indexer,col_indexer] = value instead\n",
            "\n",
            "See the caveats in the documentation: https://pandas.pydata.org/pandas-docs/stable/user_guide/indexing.html#returning-a-view-versus-a-copy\n",
            "  \"\"\"\n",
            "/usr/local/lib/python3.6/dist-packages/ipykernel_launcher.py:6: SettingWithCopyWarning: \n",
            "A value is trying to be set on a copy of a slice from a DataFrame\n",
            "\n",
            "See the caveats in the documentation: https://pandas.pydata.org/pandas-docs/stable/user_guide/indexing.html#returning-a-view-versus-a-copy\n",
            "  \n"
          ],
          "name": "stderr"
        }
      ]
    },
    {
      "cell_type": "code",
      "metadata": {
        "id": "dm3lNzPmO0Yy",
        "colab_type": "code",
        "colab": {
          "base_uri": "https://localhost:8080/",
          "height": 86
        },
        "outputId": "df57d26f-49c5-47de-c360-28f0a58bc238"
      },
      "source": [
        "df.columns"
      ],
      "execution_count": 19,
      "outputs": [
        {
          "output_type": "execute_result",
          "data": {
            "text/plain": [
              "Index(['No', 'year', 'month', 'day', 'hour', 'pm2.5', 'DEWP', 'TEMP', 'PRES',\n",
              "       'cbwd', 'Iws', 'Is', 'Ir', 'hum', 'pm2.5_1', 'pm2.5_2', 'DEWP_1',\n",
              "       'DEWP_2', 'TEMP_1', 'TEMP_2', 'Iws_1', 'Iws_2'],\n",
              "      dtype='object')"
            ]
          },
          "metadata": {
            "tags": []
          },
          "execution_count": 19
        }
      ]
    },
    {
      "cell_type": "code",
      "metadata": {
        "id": "xHUB_-M5O0Y9",
        "colab_type": "code",
        "colab": {}
      },
      "source": [
        "features_1 = list(df.columns[10:])\n",
        "predicts = list(df.columns[5:8])"
      ],
      "execution_count": 20,
      "outputs": []
    },
    {
      "cell_type": "code",
      "metadata": {
        "id": "BVZGtdKPO0ZG",
        "colab_type": "code",
        "colab": {
          "base_uri": "https://localhost:8080/",
          "height": 34
        },
        "outputId": "54549b3c-2cac-42f4-db31-f09eb3c96522"
      },
      "source": [
        "print(features_1)"
      ],
      "execution_count": 21,
      "outputs": [
        {
          "output_type": "stream",
          "text": [
            "['Iws', 'Is', 'Ir', 'hum', 'pm2.5_1', 'pm2.5_2', 'DEWP_1', 'DEWP_2', 'TEMP_1', 'TEMP_2', 'Iws_1', 'Iws_2']\n"
          ],
          "name": "stdout"
        }
      ]
    },
    {
      "cell_type": "code",
      "metadata": {
        "id": "2x5dE4a5O0ZS",
        "colab_type": "code",
        "colab": {}
      },
      "source": [
        "X = df[features_1]\n",
        "y = df[predicts].values\n",
        "Xtrain, Xtest, ytrain, ytest = train_test_split(X, y, test_size=1/4)"
      ],
      "execution_count": 22,
      "outputs": []
    },
    {
      "cell_type": "code",
      "metadata": {
        "id": "mva8dUNMO0Zb",
        "colab_type": "code",
        "colab": {}
      },
      "source": [
        "def cal_error(model, X, y):\n",
        "    predict = model.predict(X)\n",
        "    data = [0] * 3\n",
        "    for i in range(len(predict)):\n",
        "        for j in range(3):\n",
        "            data[j] += abs(predict[i][j] - y[i][j])\n",
        "    for i in range(3):\n",
        "        data[i] /= len(predict)\n",
        "    return (data[0], data[1], data[2])"
      ],
      "execution_count": 23,
      "outputs": []
    },
    {
      "cell_type": "code",
      "metadata": {
        "id": "1O9ZzqxcO0Zk",
        "colab_type": "code",
        "colab": {}
      },
      "source": [
        "def score_model(model, X, y):\n",
        "    predict = model.predict(X)\n",
        "    print('R^2 score:', r2_score(predict, y))\n",
        "    print('Mean Absolute Error:', mean_absolute_error(predict, y))\n",
        "    print('Error model:', cal_error(model, X, y))"
      ],
      "execution_count": 24,
      "outputs": []
    },
    {
      "cell_type": "code",
      "metadata": {
        "id": "9DVMxvxWO0Zr",
        "colab_type": "code",
        "colab": {}
      },
      "source": [
        "def important_features(model, features):\n",
        "    foo = pd.Series(model.feature_importances_, index=features)\n",
        "    foo.nlargest(100).plot(kind='barh')\n",
        "    plt.style.use('ggplot')\n",
        "    plt.show()"
      ],
      "execution_count": 25,
      "outputs": []
    },
    {
      "cell_type": "markdown",
      "metadata": {
        "id": "yx7Y5G-DO0Z0",
        "colab_type": "text"
      },
      "source": [
        "## Modeling"
      ]
    },
    {
      "cell_type": "code",
      "metadata": {
        "scrolled": false,
        "id": "ZlKdaKhTO0Z2",
        "colab_type": "code",
        "colab": {
          "base_uri": "https://localhost:8080/",
          "height": 89
        },
        "outputId": "b308379b-9282-45ba-8d7d-4df71f63cf3b"
      },
      "source": [
        "random_forest = RandomForestRegressor() \n",
        "random_forest.fit(Xtrain, ytrain)\n",
        "random_forest.score(Xtrain, ytrain)"
      ],
      "execution_count": 26,
      "outputs": [
        {
          "output_type": "stream",
          "text": [
            "/usr/local/lib/python3.6/dist-packages/sklearn/base.py:434: FutureWarning: The default value of multioutput (not exposed in score method) will change from 'variance_weighted' to 'uniform_average' in 0.23 to keep consistent with 'metrics.r2_score'. To specify the default value manually and avoid the warning, please either call 'metrics.r2_score' directly or make a custom scorer with 'metrics.make_scorer' (the built-in scorer 'r2' uses multioutput='uniform_average').\n",
            "  \"multioutput='uniform_average').\", FutureWarning)\n"
          ],
          "name": "stderr"
        },
        {
          "output_type": "execute_result",
          "data": {
            "text/plain": [
              "0.9919501415048898"
            ]
          },
          "metadata": {
            "tags": []
          },
          "execution_count": 26
        }
      ]
    },
    {
      "cell_type": "code",
      "metadata": {
        "scrolled": false,
        "id": "aJOVU0U_O0Z-",
        "colab_type": "code",
        "colab": {
          "base_uri": "https://localhost:8080/",
          "height": 69
        },
        "outputId": "9fc0d6b2-393d-4ef5-d71b-650af59206d6"
      },
      "source": [
        "score_model(random_forest, Xtest, ytest)"
      ],
      "execution_count": 27,
      "outputs": [
        {
          "output_type": "stream",
          "text": [
            "R^2 score: 0.970449579117564\n",
            "Mean Absolute Error: 4.814111446241987\n",
            "Error model: (12.443401882826095, 0.9237226944520671, 1.0752097614478007)\n"
          ],
          "name": "stdout"
        }
      ]
    },
    {
      "cell_type": "code",
      "metadata": {
        "id": "0OwR7sw9O0aG",
        "colab_type": "code",
        "colab": {
          "base_uri": "https://localhost:8080/",
          "height": 592
        },
        "outputId": "caec418a-8f55-45af-fecd-3c4bcdaf051b"
      },
      "source": [
        "important_features(random_forest, features_1)"
      ],
      "execution_count": 28,
      "outputs": [
        {
          "output_type": "display_data",
          "data": {
            "image/png": "[encoded data removed]",
            "text/plain": [
              "<Figure size 1080x720 with 1 Axes>"
            ]
          },
          "metadata": {
            "tags": [],
            "needs_background": "light"
          }
        }
      ]
    },
    {
      "cell_type": "code",
      "metadata": {
        "id": "hfciWb0LO0aN",
        "colab_type": "code",
        "colab": {}
      },
      "source": [
        "remove_list = ['cbwd_NE', 'cbwd_NW', 'cbwd_SE', 'cbwd_cv', 'weekday_Fri', \n",
        "                 'weekday_Mon', 'weekday_Sat', 'weekday_Sun', 'weekday_Thu', \n",
        "                'weekday_Tue', 'weekday_Wed']\n",
        "features_2 = [i for i in features_1 if i not in remove_list]"
      ],
      "execution_count": 29,
      "outputs": []
    },
    {
      "cell_type": "code",
      "metadata": {
        "id": "So9vOTRSO0aW",
        "colab_type": "code",
        "colab": {}
      },
      "source": [
        "X = df[features_2]\n",
        "y = df[predicts].values\n",
        "Xtrain, Xtest, ytrain, ytest = train_test_split(X, y, test_size=1/4)"
      ],
      "execution_count": 30,
      "outputs": []
    },
    {
      "cell_type": "code",
      "metadata": {
        "id": "rPlbCP7BO0ae",
        "colab_type": "code",
        "colab": {
          "base_uri": "https://localhost:8080/",
          "height": 89
        },
        "outputId": "eceb6a93-1bbf-4543-fccc-ed1c09189d12"
      },
      "source": [
        "random_forest_2 = RandomForestRegressor()\n",
        "random_forest_2.fit(Xtrain, ytrain)\n",
        "random_forest_2.score(Xtrain, ytrain)"
      ],
      "execution_count": 31,
      "outputs": [
        {
          "output_type": "stream",
          "text": [
            "/usr/local/lib/python3.6/dist-packages/sklearn/base.py:434: FutureWarning: The default value of multioutput (not exposed in score method) will change from 'variance_weighted' to 'uniform_average' in 0.23 to keep consistent with 'metrics.r2_score'. To specify the default value manually and avoid the warning, please either call 'metrics.r2_score' directly or make a custom scorer with 'metrics.make_scorer' (the built-in scorer 'r2' uses multioutput='uniform_average').\n",
            "  \"multioutput='uniform_average').\", FutureWarning)\n"
          ],
          "name": "stderr"
        },
        {
          "output_type": "execute_result",
          "data": {
            "text/plain": [
              "0.9919551197588751"
            ]
          },
          "metadata": {
            "tags": []
          },
          "execution_count": 31
        }
      ]
    },
    {
      "cell_type": "code",
      "metadata": {
        "id": "yBGcynReO0al",
        "colab_type": "code",
        "colab": {
          "base_uri": "https://localhost:8080/",
          "height": 69
        },
        "outputId": "95cad064-0f07-4d97-f8c1-d050143844a5"
      },
      "source": [
        "score_model(random_forest_2, Xtest, ytest)"
      ],
      "execution_count": 32,
      "outputs": [
        {
          "output_type": "stream",
          "text": [
            "R^2 score: 0.9704446064547184\n",
            "Mean Absolute Error: 4.794235647767313\n",
            "Error model: (12.393937482862606, 0.9212412028151045, 1.0675282576242273)\n"
          ],
          "name": "stdout"
        }
      ]
    },
    {
      "cell_type": "code",
      "metadata": {
        "id": "tze4ZegCO0as",
        "colab_type": "code",
        "colab": {
          "base_uri": "https://localhost:8080/",
          "height": 592
        },
        "outputId": "d1cd6f41-ffed-4ac2-ea67-11dc6fdb34ec"
      },
      "source": [
        "important_features(random_forest_2, features_2)"
      ],
      "execution_count": 33,
      "outputs": [
        {
          "output_type": "display_data",
          "data": {
            "image/png": "[encoded data removed]",
            "text/plain": [
              "<Figure size 1080x720 with 1 Axes>"
            ]
          },
          "metadata": {
            "tags": []
          }
        }
      ]
    },
    {
      "cell_type": "code",
      "metadata": {
        "id": "URMgvGfbO0a7",
        "colab_type": "code",
        "colab": {}
      },
      "source": [
        "remove_list = ['Iws_2', 'Iws_1', 'Is', 'Ir', 'Iws']\n",
        "features_3 = [i for i in features_2 if i not in remove_list]"
      ],
      "execution_count": 34,
      "outputs": []
    },
    {
      "cell_type": "code",
      "metadata": {
        "id": "zdlUqpJgO0bE",
        "colab_type": "code",
        "colab": {}
      },
      "source": [
        "X = df[features_3]\n",
        "y = df[predicts].values\n",
        "Xtrain, Xtest, ytrain, ytest = train_test_split(X, y, test_size=1/4)"
      ],
      "execution_count": 35,
      "outputs": []
    },
    {
      "cell_type": "code",
      "metadata": {
        "id": "0IGYTgdcO0bJ",
        "colab_type": "code",
        "colab": {
          "base_uri": "https://localhost:8080/",
          "height": 89
        },
        "outputId": "381dea2e-b237-4dd0-d86a-0638f7fd6d74"
      },
      "source": [
        "random_forest_3 = RandomForestRegressor()\n",
        "random_forest_3.fit(Xtrain, ytrain)\n",
        "random_forest_3.score(Xtrain, ytrain)"
      ],
      "execution_count": 36,
      "outputs": [
        {
          "output_type": "stream",
          "text": [
            "/usr/local/lib/python3.6/dist-packages/sklearn/base.py:434: FutureWarning: The default value of multioutput (not exposed in score method) will change from 'variance_weighted' to 'uniform_average' in 0.23 to keep consistent with 'metrics.r2_score'. To specify the default value manually and avoid the warning, please either call 'metrics.r2_score' directly or make a custom scorer with 'metrics.make_scorer' (the built-in scorer 'r2' uses multioutput='uniform_average').\n",
            "  \"multioutput='uniform_average').\", FutureWarning)\n"
          ],
          "name": "stderr"
        },
        {
          "output_type": "execute_result",
          "data": {
            "text/plain": [
              "0.9918430847557551"
            ]
          },
          "metadata": {
            "tags": []
          },
          "execution_count": 36
        }
      ]
    },
    {
      "cell_type": "code",
      "metadata": {
        "id": "_j6huKu6O0bQ",
        "colab_type": "code",
        "colab": {
          "base_uri": "https://localhost:8080/",
          "height": 69
        },
        "outputId": "555d8e44-910e-4dfb-b6d9-bdef06afcbd7"
      },
      "source": [
        "score_model(random_forest_3, Xtest, ytest)"
      ],
      "execution_count": 37,
      "outputs": [
        {
          "output_type": "stream",
          "text": [
            "R^2 score: 0.9702283742319979\n",
            "Mean Absolute Error: 4.923499791812667\n",
            "Error model: (12.980481704902045, 0.8304588246047052, 0.9595588459312493)\n"
          ],
          "name": "stdout"
        }
      ]
    },
    {
      "cell_type": "code",
      "metadata": {
        "id": "p3iL-0n1O0bX",
        "colab_type": "code",
        "colab": {
          "base_uri": "https://localhost:8080/",
          "height": 34
        },
        "outputId": "752f11ea-28b7-4cdc-a9f4-7e1fa1d875fd"
      },
      "source": [
        "features_3"
      ],
      "execution_count": 38,
      "outputs": [
        {
          "output_type": "execute_result",
          "data": {
            "text/plain": [
              "['hum', 'pm2.5_1', 'pm2.5_2', 'DEWP_1', 'DEWP_2', 'TEMP_1', 'TEMP_2']"
            ]
          },
          "metadata": {
            "tags": []
          },
          "execution_count": 38
        }
      ]
    },
    {
      "cell_type": "code",
      "metadata": {
        "id": "fFPschUxO0bc",
        "colab_type": "code",
        "colab": {
          "base_uri": "https://localhost:8080/",
          "height": 592
        },
        "outputId": "d4ce14bc-e02c-421c-eb34-0444103e8f70"
      },
      "source": [
        "important_features(random_forest_3, features_3)"
      ],
      "execution_count": 39,
      "outputs": [
        {
          "output_type": "display_data",
          "data": {
            "image/png": "[encoded data removed]",
            "text/plain": [
              "<Figure size 1080x720 with 1 Axes>"
            ]
          },
          "metadata": {
            "tags": []
          }
        }
      ]
    },
    {
      "cell_type": "code",
      "metadata": {
        "id": "Ef0Cz428O0bj",
        "colab_type": "code",
        "colab": {}
      },
      "source": [
        "features_4 = ['pm2.5_1', 'pm2.5_2', 'TEMP_1', 'DEWP_1', 'Iws', 'hum']\n",
        "X = df[features_4]\n",
        "y = df[predicts].values\n",
        "Xtrain, Xtest, ytrain, ytest = train_test_split(X, y, test_size=1/4)"
      ],
      "execution_count": 40,
      "outputs": []
    },
    {
      "cell_type": "code",
      "metadata": {
        "id": "DtFlOi22O0bp",
        "colab_type": "code",
        "colab": {
          "base_uri": "https://localhost:8080/",
          "height": 89
        },
        "outputId": "daf6c07e-1aee-4e79-acb6-e7833052e798"
      },
      "source": [
        "random_forest_4 = RandomForestRegressor()\n",
        "random_forest_4.fit(Xtrain, ytrain)\n",
        "random_forest_4.score(Xtrain, ytrain)"
      ],
      "execution_count": 41,
      "outputs": [
        {
          "output_type": "stream",
          "text": [
            "/usr/local/lib/python3.6/dist-packages/sklearn/base.py:434: FutureWarning: The default value of multioutput (not exposed in score method) will change from 'variance_weighted' to 'uniform_average' in 0.23 to keep consistent with 'metrics.r2_score'. To specify the default value manually and avoid the warning, please either call 'metrics.r2_score' directly or make a custom scorer with 'metrics.make_scorer' (the built-in scorer 'r2' uses multioutput='uniform_average').\n",
            "  \"multioutput='uniform_average').\", FutureWarning)\n"
          ],
          "name": "stderr"
        },
        {
          "output_type": "execute_result",
          "data": {
            "text/plain": [
              "0.9916458296784774"
            ]
          },
          "metadata": {
            "tags": []
          },
          "execution_count": 41
        }
      ]
    },
    {
      "cell_type": "code",
      "metadata": {
        "id": "VpMlz-SNO0bv",
        "colab_type": "code",
        "colab": {
          "base_uri": "https://localhost:8080/",
          "height": 69
        },
        "outputId": "378aa04a-d790-4759-a06f-0792c6004322"
      },
      "source": [
        "score_model(random_forest_4, Xtest, ytest)"
      ],
      "execution_count": 42,
      "outputs": [
        {
          "output_type": "stream",
          "text": [
            "R^2 score: 0.9707628165940679\n",
            "Mean Absolute Error: 4.821990281205263\n",
            "Error model: (12.570735764555362, 0.8764160192547908, 1.0188190598056373)\n"
          ],
          "name": "stdout"
        }
      ]
    },
    {
      "cell_type": "code",
      "metadata": {
        "id": "CKydnIeCO0b2",
        "colab_type": "code",
        "colab": {}
      },
      "source": [
        "features = features_1 + ['PRES']"
      ],
      "execution_count": 43,
      "outputs": []
    },
    {
      "cell_type": "code",
      "metadata": {
        "id": "RddxkAPEO0b8",
        "colab_type": "code",
        "colab": {}
      },
      "source": [
        "best = 0\n",
        "best_features = []"
      ],
      "execution_count": 48,
      "outputs": []
    },
    {
      "cell_type": "code",
      "metadata": {
        "id": "SaXr1X5KO0cD",
        "colab_type": "code",
        "colab": {
          "base_uri": "https://localhost:8080/",
          "height": 539
        },
        "outputId": "30f52c67-dda0-42ba-fc79-a0fb383a8869"
      },
      "source": [
        "y = df[predicts]\n",
        "for mask in range(1, 2 ** len(features)):\n",
        "    lst = []\n",
        "    for i in range(len(features)):\n",
        "        if (mask & i):\n",
        "            lst.append(features[i])\n",
        "    if not lst:\n",
        "      continue\n",
        "    Xtrain, Xtest, ytrain, ytest = train_test_split(df[lst], y, test_size=1/4)\n",
        "    random_forest = RandomForestRegressor()\n",
        "    random_forest.fit(Xtrain, ytrain)\n",
        "    predict = random_forest.predict(Xtest)\n",
        "    score = r2_score(predict, ytest)\n",
        "    if (score > best):\n",
        "      best = score\n",
        "      best_features = lst\n",
        "      print(best, best_features)"
      ],
      "execution_count": 50,
      "outputs": [
        {
          "output_type": "stream",
          "text": [
            "0.9420468414110129 ['Is', 'hum', 'pm2.5_2', 'DEWP_2', 'TEMP_2', 'Iws_2']\n",
            "0.9466803592057437 ['Is', 'Ir', 'hum', 'pm2.5_2', 'DEWP_1', 'DEWP_2', 'TEMP_2', 'Iws_1', 'Iws_2']\n",
            "0.9662736151935647 ['Is', 'hum', 'pm2.5_1', 'pm2.5_2', 'DEWP_1', 'DEWP_2', 'TEMP_2', 'Iws_2', 'PRES']\n",
            "0.9663414735138854 ['Ir', 'hum', 'pm2.5_1', 'pm2.5_2', 'DEWP_1', 'DEWP_2', 'Iws_1', 'Iws_2', 'PRES']\n",
            "0.9692293428406525 ['Is', 'Ir', 'hum', 'pm2.5_1', 'pm2.5_2', 'DEWP_1', 'DEWP_2', 'TEMP_2', 'Iws_1', 'Iws_2', 'PRES']\n",
            "0.970019580571435 ['Is', 'hum', 'pm2.5_1', 'pm2.5_2', 'DEWP_1', 'DEWP_2', 'TEMP_1', 'TEMP_2', 'Iws_1', 'Iws_2', 'PRES']\n",
            "0.9706548618428354 ['Ir', 'hum', 'pm2.5_1', 'pm2.5_2', 'DEWP_1', 'DEWP_2', 'TEMP_1', 'TEMP_2', 'Iws_1', 'Iws_2', 'PRES']\n",
            "0.9709944316859005 ['Is', 'hum', 'pm2.5_1', 'pm2.5_2', 'DEWP_1', 'DEWP_2', 'TEMP_1', 'TEMP_2', 'Iws_1', 'Iws_2', 'PRES']\n",
            "0.9727184860037003 ['Is', 'Ir', 'hum', 'pm2.5_1', 'pm2.5_2', 'DEWP_1', 'DEWP_2', 'TEMP_1', 'TEMP_2', 'Iws_1', 'Iws_2', 'PRES']\n"
          ],
          "name": "stdout"
        },
        {
          "output_type": "error",
          "ename": "KeyboardInterrupt",
          "evalue": "ignored",
          "traceback": [
            "\u001b[0;31m---------------------------------------------------------------------------\u001b[0m",
            "\u001b[0;31mKeyboardInterrupt\u001b[0m                         Traceback (most recent call last)",
            "\u001b[0;32m<ipython-input-50-bd31a06184f5>\u001b[0m in \u001b[0;36m<module>\u001b[0;34m()\u001b[0m\n\u001b[1;32m      9\u001b[0m     \u001b[0mXtrain\u001b[0m\u001b[0;34m,\u001b[0m \u001b[0mXtest\u001b[0m\u001b[0;34m,\u001b[0m \u001b[0mytrain\u001b[0m\u001b[0;34m,\u001b[0m \u001b[0mytest\u001b[0m \u001b[0;34m=\u001b[0m \u001b[0mtrain_test_split\u001b[0m\u001b[0;34m(\u001b[0m\u001b[0mdf\u001b[0m\u001b[0;34m[\u001b[0m\u001b[0mlst\u001b[0m\u001b[0;34m]\u001b[0m\u001b[0;34m,\u001b[0m \u001b[0my\u001b[0m\u001b[0;34m,\u001b[0m \u001b[0mtest_size\u001b[0m\u001b[0;34m=\u001b[0m\u001b[0;36m1\u001b[0m\u001b[0;34m/\u001b[0m\u001b[0;36m4\u001b[0m\u001b[0;34m)\u001b[0m\u001b[0;34m\u001b[0m\u001b[0;34m\u001b[0m\u001b[0m\n\u001b[1;32m     10\u001b[0m     \u001b[0mrandom_forest\u001b[0m \u001b[0;34m=\u001b[0m \u001b[0mRandomForestRegressor\u001b[0m\u001b[0;34m(\u001b[0m\u001b[0;34m)\u001b[0m\u001b[0;34m\u001b[0m\u001b[0;34m\u001b[0m\u001b[0m\n\u001b[0;32m---> 11\u001b[0;31m     \u001b[0mrandom_forest\u001b[0m\u001b[0;34m.\u001b[0m\u001b[0mfit\u001b[0m\u001b[0;34m(\u001b[0m\u001b[0mXtrain\u001b[0m\u001b[0;34m,\u001b[0m \u001b[0mytrain\u001b[0m\u001b[0;34m)\u001b[0m\u001b[0;34m\u001b[0m\u001b[0;34m\u001b[0m\u001b[0m\n\u001b[0m\u001b[1;32m     12\u001b[0m     \u001b[0mpredict\u001b[0m \u001b[0;34m=\u001b[0m \u001b[0mrandom_forest\u001b[0m\u001b[0;34m.\u001b[0m\u001b[0mpredict\u001b[0m\u001b[0;34m(\u001b[0m\u001b[0mXtest\u001b[0m\u001b[0;34m)\u001b[0m\u001b[0;34m\u001b[0m\u001b[0;34m\u001b[0m\u001b[0m\n\u001b[1;32m     13\u001b[0m     \u001b[0mscore\u001b[0m \u001b[0;34m=\u001b[0m \u001b[0mr2_score\u001b[0m\u001b[0;34m(\u001b[0m\u001b[0mpredict\u001b[0m\u001b[0;34m,\u001b[0m \u001b[0mytest\u001b[0m\u001b[0;34m)\u001b[0m\u001b[0;34m\u001b[0m\u001b[0;34m\u001b[0m\u001b[0m\n",
            "\u001b[0;32m/usr/local/lib/python3.6/dist-packages/sklearn/ensemble/_forest.py\u001b[0m in \u001b[0;36mfit\u001b[0;34m(self, X, y, sample_weight)\u001b[0m\n\u001b[1;32m    381\u001b[0m                     \u001b[0mverbose\u001b[0m\u001b[0;34m=\u001b[0m\u001b[0mself\u001b[0m\u001b[0;34m.\u001b[0m\u001b[0mverbose\u001b[0m\u001b[0;34m,\u001b[0m \u001b[0mclass_weight\u001b[0m\u001b[0;34m=\u001b[0m\u001b[0mself\u001b[0m\u001b[0;34m.\u001b[0m\u001b[0mclass_weight\u001b[0m\u001b[0;34m,\u001b[0m\u001b[0;34m\u001b[0m\u001b[0;34m\u001b[0m\u001b[0m\n\u001b[1;32m    382\u001b[0m                     n_samples_bootstrap=n_samples_bootstrap)\n\u001b[0;32m--> 383\u001b[0;31m                 for i, t in enumerate(trees))\n\u001b[0m\u001b[1;32m    384\u001b[0m \u001b[0;34m\u001b[0m\u001b[0m\n\u001b[1;32m    385\u001b[0m             \u001b[0;31m# Collect newly grown trees\u001b[0m\u001b[0;34m\u001b[0m\u001b[0;34m\u001b[0m\u001b[0;34m\u001b[0m\u001b[0m\n",
            "\u001b[0;32m/usr/local/lib/python3.6/dist-packages/joblib/parallel.py\u001b[0m in \u001b[0;36m__call__\u001b[0;34m(self, iterable)\u001b[0m\n\u001b[1;32m   1030\u001b[0m                 \u001b[0mself\u001b[0m\u001b[0;34m.\u001b[0m\u001b[0m_iterating\u001b[0m \u001b[0;34m=\u001b[0m \u001b[0mself\u001b[0m\u001b[0;34m.\u001b[0m\u001b[0m_original_iterator\u001b[0m \u001b[0;32mis\u001b[0m \u001b[0;32mnot\u001b[0m \u001b[0;32mNone\u001b[0m\u001b[0;34m\u001b[0m\u001b[0;34m\u001b[0m\u001b[0m\n\u001b[1;32m   1031\u001b[0m \u001b[0;34m\u001b[0m\u001b[0m\n\u001b[0;32m-> 1032\u001b[0;31m             \u001b[0;32mwhile\u001b[0m \u001b[0mself\u001b[0m\u001b[0;34m.\u001b[0m\u001b[0mdispatch_one_batch\u001b[0m\u001b[0;34m(\u001b[0m\u001b[0miterator\u001b[0m\u001b[0;34m)\u001b[0m\u001b[0;34m:\u001b[0m\u001b[0;34m\u001b[0m\u001b[0;34m\u001b[0m\u001b[0m\n\u001b[0m\u001b[1;32m   1033\u001b[0m                 \u001b[0;32mpass\u001b[0m\u001b[0;34m\u001b[0m\u001b[0;34m\u001b[0m\u001b[0m\n\u001b[1;32m   1034\u001b[0m \u001b[0;34m\u001b[0m\u001b[0m\n",
            "\u001b[0;32m/usr/local/lib/python3.6/dist-packages/joblib/parallel.py\u001b[0m in \u001b[0;36mdispatch_one_batch\u001b[0;34m(self, iterator)\u001b[0m\n\u001b[1;32m    845\u001b[0m                 \u001b[0;32mreturn\u001b[0m \u001b[0;32mFalse\u001b[0m\u001b[0;34m\u001b[0m\u001b[0;34m\u001b[0m\u001b[0m\n\u001b[1;32m    846\u001b[0m             \u001b[0;32melse\u001b[0m\u001b[0;34m:\u001b[0m\u001b[0;34m\u001b[0m\u001b[0;34m\u001b[0m\u001b[0m\n\u001b[0;32m--> 847\u001b[0;31m                 \u001b[0mself\u001b[0m\u001b[0;34m.\u001b[0m\u001b[0m_dispatch\u001b[0m\u001b[0;34m(\u001b[0m\u001b[0mtasks\u001b[0m\u001b[0;34m)\u001b[0m\u001b[0;34m\u001b[0m\u001b[0;34m\u001b[0m\u001b[0m\n\u001b[0m\u001b[1;32m    848\u001b[0m                 \u001b[0;32mreturn\u001b[0m \u001b[0;32mTrue\u001b[0m\u001b[0;34m\u001b[0m\u001b[0;34m\u001b[0m\u001b[0m\n\u001b[1;32m    849\u001b[0m \u001b[0;34m\u001b[0m\u001b[0m\n",
            "\u001b[0;32m/usr/local/lib/python3.6/dist-packages/joblib/parallel.py\u001b[0m in \u001b[0;36m_dispatch\u001b[0;34m(self, batch)\u001b[0m\n\u001b[1;32m    763\u001b[0m         \u001b[0;32mwith\u001b[0m \u001b[0mself\u001b[0m\u001b[0;34m.\u001b[0m\u001b[0m_lock\u001b[0m\u001b[0;34m:\u001b[0m\u001b[0;34m\u001b[0m\u001b[0;34m\u001b[0m\u001b[0m\n\u001b[1;32m    764\u001b[0m             \u001b[0mjob_idx\u001b[0m \u001b[0;34m=\u001b[0m \u001b[0mlen\u001b[0m\u001b[0;34m(\u001b[0m\u001b[0mself\u001b[0m\u001b[0;34m.\u001b[0m\u001b[0m_jobs\u001b[0m\u001b[0;34m)\u001b[0m\u001b[0;34m\u001b[0m\u001b[0;34m\u001b[0m\u001b[0m\n\u001b[0;32m--> 765\u001b[0;31m             \u001b[0mjob\u001b[0m \u001b[0;34m=\u001b[0m \u001b[0mself\u001b[0m\u001b[0;34m.\u001b[0m\u001b[0m_backend\u001b[0m\u001b[0;34m.\u001b[0m\u001b[0mapply_async\u001b[0m\u001b[0;34m(\u001b[0m\u001b[0mbatch\u001b[0m\u001b[0;34m,\u001b[0m \u001b[0mcallback\u001b[0m\u001b[0;34m=\u001b[0m\u001b[0mcb\u001b[0m\u001b[0;34m)\u001b[0m\u001b[0;34m\u001b[0m\u001b[0;34m\u001b[0m\u001b[0m\n\u001b[0m\u001b[1;32m    766\u001b[0m             \u001b[0;31m# A job can complete so quickly than its callback is\u001b[0m\u001b[0;34m\u001b[0m\u001b[0;34m\u001b[0m\u001b[0;34m\u001b[0m\u001b[0m\n\u001b[1;32m    767\u001b[0m             \u001b[0;31m# called before we get here, causing self._jobs to\u001b[0m\u001b[0;34m\u001b[0m\u001b[0;34m\u001b[0m\u001b[0;34m\u001b[0m\u001b[0m\n",
            "\u001b[0;32m/usr/local/lib/python3.6/dist-packages/joblib/_parallel_backends.py\u001b[0m in \u001b[0;36mapply_async\u001b[0;34m(self, func, callback)\u001b[0m\n\u001b[1;32m    206\u001b[0m     \u001b[0;32mdef\u001b[0m \u001b[0mapply_async\u001b[0m\u001b[0;34m(\u001b[0m\u001b[0mself\u001b[0m\u001b[0;34m,\u001b[0m \u001b[0mfunc\u001b[0m\u001b[0;34m,\u001b[0m \u001b[0mcallback\u001b[0m\u001b[0;34m=\u001b[0m\u001b[0;32mNone\u001b[0m\u001b[0;34m)\u001b[0m\u001b[0;34m:\u001b[0m\u001b[0;34m\u001b[0m\u001b[0;34m\u001b[0m\u001b[0m\n\u001b[1;32m    207\u001b[0m         \u001b[0;34m\"\"\"Schedule a func to be run\"\"\"\u001b[0m\u001b[0;34m\u001b[0m\u001b[0;34m\u001b[0m\u001b[0m\n\u001b[0;32m--> 208\u001b[0;31m         \u001b[0mresult\u001b[0m \u001b[0;34m=\u001b[0m \u001b[0mImmediateResult\u001b[0m\u001b[0;34m(\u001b[0m\u001b[0mfunc\u001b[0m\u001b[0;34m)\u001b[0m\u001b[0;34m\u001b[0m\u001b[0;34m\u001b[0m\u001b[0m\n\u001b[0m\u001b[1;32m    209\u001b[0m         \u001b[0;32mif\u001b[0m \u001b[0mcallback\u001b[0m\u001b[0;34m:\u001b[0m\u001b[0;34m\u001b[0m\u001b[0;34m\u001b[0m\u001b[0m\n\u001b[1;32m    210\u001b[0m             \u001b[0mcallback\u001b[0m\u001b[0;34m(\u001b[0m\u001b[0mresult\u001b[0m\u001b[0;34m)\u001b[0m\u001b[0;34m\u001b[0m\u001b[0;34m\u001b[0m\u001b[0m\n",
            "\u001b[0;32m/usr/local/lib/python3.6/dist-packages/joblib/_parallel_backends.py\u001b[0m in \u001b[0;36m__init__\u001b[0;34m(self, batch)\u001b[0m\n\u001b[1;32m    570\u001b[0m         \u001b[0;31m# Don't delay the application, to avoid keeping the input\u001b[0m\u001b[0;34m\u001b[0m\u001b[0;34m\u001b[0m\u001b[0;34m\u001b[0m\u001b[0m\n\u001b[1;32m    571\u001b[0m         \u001b[0;31m# arguments in memory\u001b[0m\u001b[0;34m\u001b[0m\u001b[0;34m\u001b[0m\u001b[0;34m\u001b[0m\u001b[0m\n\u001b[0;32m--> 572\u001b[0;31m         \u001b[0mself\u001b[0m\u001b[0;34m.\u001b[0m\u001b[0mresults\u001b[0m \u001b[0;34m=\u001b[0m \u001b[0mbatch\u001b[0m\u001b[0;34m(\u001b[0m\u001b[0;34m)\u001b[0m\u001b[0;34m\u001b[0m\u001b[0;34m\u001b[0m\u001b[0m\n\u001b[0m\u001b[1;32m    573\u001b[0m \u001b[0;34m\u001b[0m\u001b[0m\n\u001b[1;32m    574\u001b[0m     \u001b[0;32mdef\u001b[0m \u001b[0mget\u001b[0m\u001b[0;34m(\u001b[0m\u001b[0mself\u001b[0m\u001b[0;34m)\u001b[0m\u001b[0;34m:\u001b[0m\u001b[0;34m\u001b[0m\u001b[0;34m\u001b[0m\u001b[0m\n",
            "\u001b[0;32m/usr/local/lib/python3.6/dist-packages/joblib/parallel.py\u001b[0m in \u001b[0;36m__call__\u001b[0;34m(self)\u001b[0m\n\u001b[1;32m    251\u001b[0m         \u001b[0;32mwith\u001b[0m \u001b[0mparallel_backend\u001b[0m\u001b[0;34m(\u001b[0m\u001b[0mself\u001b[0m\u001b[0;34m.\u001b[0m\u001b[0m_backend\u001b[0m\u001b[0;34m,\u001b[0m \u001b[0mn_jobs\u001b[0m\u001b[0;34m=\u001b[0m\u001b[0mself\u001b[0m\u001b[0;34m.\u001b[0m\u001b[0m_n_jobs\u001b[0m\u001b[0;34m)\u001b[0m\u001b[0;34m:\u001b[0m\u001b[0;34m\u001b[0m\u001b[0;34m\u001b[0m\u001b[0m\n\u001b[1;32m    252\u001b[0m             return [func(*args, **kwargs)\n\u001b[0;32m--> 253\u001b[0;31m                     for func, args, kwargs in self.items]\n\u001b[0m\u001b[1;32m    254\u001b[0m \u001b[0;34m\u001b[0m\u001b[0m\n\u001b[1;32m    255\u001b[0m     \u001b[0;32mdef\u001b[0m \u001b[0m__reduce__\u001b[0m\u001b[0;34m(\u001b[0m\u001b[0mself\u001b[0m\u001b[0;34m)\u001b[0m\u001b[0;34m:\u001b[0m\u001b[0;34m\u001b[0m\u001b[0;34m\u001b[0m\u001b[0m\n",
            "\u001b[0;32m/usr/local/lib/python3.6/dist-packages/joblib/parallel.py\u001b[0m in \u001b[0;36m<listcomp>\u001b[0;34m(.0)\u001b[0m\n\u001b[1;32m    251\u001b[0m         \u001b[0;32mwith\u001b[0m \u001b[0mparallel_backend\u001b[0m\u001b[0;34m(\u001b[0m\u001b[0mself\u001b[0m\u001b[0;34m.\u001b[0m\u001b[0m_backend\u001b[0m\u001b[0;34m,\u001b[0m \u001b[0mn_jobs\u001b[0m\u001b[0;34m=\u001b[0m\u001b[0mself\u001b[0m\u001b[0;34m.\u001b[0m\u001b[0m_n_jobs\u001b[0m\u001b[0;34m)\u001b[0m\u001b[0;34m:\u001b[0m\u001b[0;34m\u001b[0m\u001b[0;34m\u001b[0m\u001b[0m\n\u001b[1;32m    252\u001b[0m             return [func(*args, **kwargs)\n\u001b[0;32m--> 253\u001b[0;31m                     for func, args, kwargs in self.items]\n\u001b[0m\u001b[1;32m    254\u001b[0m \u001b[0;34m\u001b[0m\u001b[0m\n\u001b[1;32m    255\u001b[0m     \u001b[0;32mdef\u001b[0m \u001b[0m__reduce__\u001b[0m\u001b[0;34m(\u001b[0m\u001b[0mself\u001b[0m\u001b[0;34m)\u001b[0m\u001b[0;34m:\u001b[0m\u001b[0;34m\u001b[0m\u001b[0;34m\u001b[0m\u001b[0m\n",
            "\u001b[0;32m/usr/local/lib/python3.6/dist-packages/sklearn/ensemble/_forest.py\u001b[0m in \u001b[0;36m_parallel_build_trees\u001b[0;34m(tree, forest, X, y, sample_weight, tree_idx, n_trees, verbose, class_weight, n_samples_bootstrap)\u001b[0m\n\u001b[1;32m    163\u001b[0m             \u001b[0mcurr_sample_weight\u001b[0m \u001b[0;34m*=\u001b[0m \u001b[0mcompute_sample_weight\u001b[0m\u001b[0;34m(\u001b[0m\u001b[0;34m'balanced'\u001b[0m\u001b[0;34m,\u001b[0m \u001b[0my\u001b[0m\u001b[0;34m,\u001b[0m \u001b[0mindices\u001b[0m\u001b[0;34m)\u001b[0m\u001b[0;34m\u001b[0m\u001b[0;34m\u001b[0m\u001b[0m\n\u001b[1;32m    164\u001b[0m \u001b[0;34m\u001b[0m\u001b[0m\n\u001b[0;32m--> 165\u001b[0;31m         \u001b[0mtree\u001b[0m\u001b[0;34m.\u001b[0m\u001b[0mfit\u001b[0m\u001b[0;34m(\u001b[0m\u001b[0mX\u001b[0m\u001b[0;34m,\u001b[0m \u001b[0my\u001b[0m\u001b[0;34m,\u001b[0m \u001b[0msample_weight\u001b[0m\u001b[0;34m=\u001b[0m\u001b[0mcurr_sample_weight\u001b[0m\u001b[0;34m,\u001b[0m \u001b[0mcheck_input\u001b[0m\u001b[0;34m=\u001b[0m\u001b[0;32mFalse\u001b[0m\u001b[0;34m)\u001b[0m\u001b[0;34m\u001b[0m\u001b[0;34m\u001b[0m\u001b[0m\n\u001b[0m\u001b[1;32m    166\u001b[0m     \u001b[0;32melse\u001b[0m\u001b[0;34m:\u001b[0m\u001b[0;34m\u001b[0m\u001b[0;34m\u001b[0m\u001b[0m\n\u001b[1;32m    167\u001b[0m         \u001b[0mtree\u001b[0m\u001b[0;34m.\u001b[0m\u001b[0mfit\u001b[0m\u001b[0;34m(\u001b[0m\u001b[0mX\u001b[0m\u001b[0;34m,\u001b[0m \u001b[0my\u001b[0m\u001b[0;34m,\u001b[0m \u001b[0msample_weight\u001b[0m\u001b[0;34m=\u001b[0m\u001b[0msample_weight\u001b[0m\u001b[0;34m,\u001b[0m \u001b[0mcheck_input\u001b[0m\u001b[0;34m=\u001b[0m\u001b[0;32mFalse\u001b[0m\u001b[0;34m)\u001b[0m\u001b[0;34m\u001b[0m\u001b[0;34m\u001b[0m\u001b[0m\n",
            "\u001b[0;32m/usr/local/lib/python3.6/dist-packages/sklearn/tree/_classes.py\u001b[0m in \u001b[0;36mfit\u001b[0;34m(self, X, y, sample_weight, check_input, X_idx_sorted)\u001b[0m\n\u001b[1;32m   1223\u001b[0m             \u001b[0msample_weight\u001b[0m\u001b[0;34m=\u001b[0m\u001b[0msample_weight\u001b[0m\u001b[0;34m,\u001b[0m\u001b[0;34m\u001b[0m\u001b[0;34m\u001b[0m\u001b[0m\n\u001b[1;32m   1224\u001b[0m             \u001b[0mcheck_input\u001b[0m\u001b[0;34m=\u001b[0m\u001b[0mcheck_input\u001b[0m\u001b[0;34m,\u001b[0m\u001b[0;34m\u001b[0m\u001b[0;34m\u001b[0m\u001b[0m\n\u001b[0;32m-> 1225\u001b[0;31m             X_idx_sorted=X_idx_sorted)\n\u001b[0m\u001b[1;32m   1226\u001b[0m         \u001b[0;32mreturn\u001b[0m \u001b[0mself\u001b[0m\u001b[0;34m\u001b[0m\u001b[0;34m\u001b[0m\u001b[0m\n\u001b[1;32m   1227\u001b[0m \u001b[0;34m\u001b[0m\u001b[0m\n",
            "\u001b[0;32m/usr/local/lib/python3.6/dist-packages/sklearn/tree/_classes.py\u001b[0m in \u001b[0;36mfit\u001b[0;34m(self, X, y, sample_weight, check_input, X_idx_sorted)\u001b[0m\n\u001b[1;32m    365\u001b[0m                                            min_impurity_split)\n\u001b[1;32m    366\u001b[0m \u001b[0;34m\u001b[0m\u001b[0m\n\u001b[0;32m--> 367\u001b[0;31m         \u001b[0mbuilder\u001b[0m\u001b[0;34m.\u001b[0m\u001b[0mbuild\u001b[0m\u001b[0;34m(\u001b[0m\u001b[0mself\u001b[0m\u001b[0;34m.\u001b[0m\u001b[0mtree_\u001b[0m\u001b[0;34m,\u001b[0m \u001b[0mX\u001b[0m\u001b[0;34m,\u001b[0m \u001b[0my\u001b[0m\u001b[0;34m,\u001b[0m \u001b[0msample_weight\u001b[0m\u001b[0;34m,\u001b[0m \u001b[0mX_idx_sorted\u001b[0m\u001b[0;34m)\u001b[0m\u001b[0;34m\u001b[0m\u001b[0;34m\u001b[0m\u001b[0m\n\u001b[0m\u001b[1;32m    368\u001b[0m \u001b[0;34m\u001b[0m\u001b[0m\n\u001b[1;32m    369\u001b[0m         \u001b[0;32mif\u001b[0m \u001b[0mself\u001b[0m\u001b[0;34m.\u001b[0m\u001b[0mn_outputs_\u001b[0m \u001b[0;34m==\u001b[0m \u001b[0;36m1\u001b[0m \u001b[0;32mand\u001b[0m \u001b[0mis_classifier\u001b[0m\u001b[0;34m(\u001b[0m\u001b[0mself\u001b[0m\u001b[0;34m)\u001b[0m\u001b[0;34m:\u001b[0m\u001b[0;34m\u001b[0m\u001b[0;34m\u001b[0m\u001b[0m\n",
            "\u001b[0;31mKeyboardInterrupt\u001b[0m: "
          ]
        }
      ]
    },
    {
      "cell_type": "code",
      "metadata": {
        "id": "ZeMcaWqbYDnF",
        "colab_type": "code",
        "colab": {}
      },
      "source": [
        "final_features = ['Is', 'Ir', 'hum', 'pm2.5_1', 'pm2.5_2', 'DEWP_1', 'DEWP_2', 'TEMP_1', 'TEMP_2', 'Iws_1', 'Iws_2', 'PRES']"
      ],
      "execution_count": 51,
      "outputs": []
    },
    {
      "cell_type": "code",
      "metadata": {
        "id": "AJOXRdijYMwq",
        "colab_type": "code",
        "colab": {}
      },
      "source": [
        "X = df[final_features]\n",
        "y = df[predicts].values\n",
        "Xtrain, Xtest, ytrain, ytest = train_test_split(X, y, test_size=1/3)"
      ],
      "execution_count": 56,
      "outputs": []
    },
    {
      "cell_type": "code",
      "metadata": {
        "id": "BpFBSP7pYRKZ",
        "colab_type": "code",
        "colab": {
          "base_uri": "https://localhost:8080/",
          "height": 89
        },
        "outputId": "a4dfbb79-761a-4c15-ab7b-0c35296e5e8a"
      },
      "source": [
        "final_model = RandomForestRegressor()\n",
        "final_model.fit(Xtrain, ytrain)\n",
        "final_model.score(Xtrain, ytrain)"
      ],
      "execution_count": 57,
      "outputs": [
        {
          "output_type": "stream",
          "text": [
            "/usr/local/lib/python3.6/dist-packages/sklearn/base.py:434: FutureWarning: The default value of multioutput (not exposed in score method) will change from 'variance_weighted' to 'uniform_average' in 0.23 to keep consistent with 'metrics.r2_score'. To specify the default value manually and avoid the warning, please either call 'metrics.r2_score' directly or make a custom scorer with 'metrics.make_scorer' (the built-in scorer 'r2' uses multioutput='uniform_average').\n",
            "  \"multioutput='uniform_average').\", FutureWarning)\n"
          ],
          "name": "stderr"
        },
        {
          "output_type": "execute_result",
          "data": {
            "text/plain": [
              "0.9915815611378642"
            ]
          },
          "metadata": {
            "tags": []
          },
          "execution_count": 57
        }
      ]
    },
    {
      "cell_type": "code",
      "metadata": {
        "id": "Ap1ozVRgYfoO",
        "colab_type": "code",
        "colab": {
          "base_uri": "https://localhost:8080/",
          "height": 69
        },
        "outputId": "91c2adb1-d6a7-4d44-f337-60e5c72cd7ee"
      },
      "source": [
        "score_model(final_model, Xtest, ytest)"
      ],
      "execution_count": 58,
      "outputs": [
        {
          "output_type": "stream",
          "text": [
            "R^2 score: 0.9708354894314309\n",
            "Mean Absolute Error: 4.808856442128982\n",
            "Error model: (12.4150520976144, 0.9393892240197477, 1.0721280047528)\n"
          ],
          "name": "stdout"
        }
      ]
    },
    {
      "cell_type": "code",
      "metadata": {
        "id": "GD6EqlaoYmBV",
        "colab_type": "code",
        "colab": {
          "base_uri": "https://localhost:8080/",
          "height": 592
        },
        "outputId": "35ffad9a-905c-49ca-b28e-df41bb611f44"
      },
      "source": [
        "important_features(final_model, final_features)"
      ],
      "execution_count": 59,
      "outputs": [
        {
          "output_type": "display_data",
          "data": {
            "image/png": "[encoded data removed]",
            "text/plain": [
              "<Figure size 1080x720 with 1 Axes>"
            ]
          },
          "metadata": {
            "tags": []
          }
        }
      ]
    },
    {
      "cell_type": "markdown",
      "metadata": {
        "id": "ojSihbDTO0cK",
        "colab_type": "text"
      },
      "source": [
        "## Predict for next 6 hours"
      ]
    },
    {
      "cell_type": "code",
      "metadata": {
        "id": "4tN2HmKlO0cM",
        "colab_type": "code",
        "colab": {}
      },
      "source": [
        "for i in range(6):\n",
        "    tail = pd.concat([df.tail(1)], ignore_index=True)\n",
        "    tail.loc[:, ['day', 'month', 'year', 'hour']] = [1, 1, 2015, i]\n",
        "    df = pd.concat([df, tail], ignore_index=True)\n",
        "    df.loc[len(df) - 1:, predicts] = random_forest_3.predict(tail[features_3])\n",
        "    for var in need_shift:\n",
        "        for i in range(1, 3):\n",
        "            key = var + '_' + str(i)\n",
        "            df[key] = df[var].shift(periods=i)"
      ],
      "execution_count": 60,
      "outputs": []
    },
    {
      "cell_type": "code",
      "metadata": {
        "scrolled": true,
        "id": "Yk0OkgQoO0cS",
        "colab_type": "code",
        "colab": {
          "base_uri": "https://localhost:8080/",
          "height": 238
        },
        "outputId": "330ef4dd-698e-49f0-b7f5-0286ec3ca67b"
      },
      "source": [
        "df.tail(6)[['day', 'month', 'year', 'hour'] + predicts]"
      ],
      "execution_count": 61,
      "outputs": [
        {
          "output_type": "execute_result",
          "data": {
            "text/html": [
              "<div>\n",
              "<style scoped>\n",
              "    .dataframe tbody tr th:only-of-type {\n",
              "        vertical-align: middle;\n",
              "    }\n",
              "\n",
              "    .dataframe tbody tr th {\n",
              "        vertical-align: top;\n",
              "    }\n",
              "\n",
              "    .dataframe thead th {\n",
              "        text-align: right;\n",
              "    }\n",
              "</style>\n",
              "<table border=\"1\" class=\"dataframe\">\n",
              "  <thead>\n",
              "    <tr style=\"text-align: right;\">\n",
              "      <th></th>\n",
              "      <th>day</th>\n",
              "      <th>month</th>\n",
              "      <th>year</th>\n",
              "      <th>hour</th>\n",
              "      <th>pm2.5</th>\n",
              "      <th>DEWP</th>\n",
              "      <th>TEMP</th>\n",
              "    </tr>\n",
              "  </thead>\n",
              "  <tbody>\n",
              "    <tr>\n",
              "      <th>43763</th>\n",
              "      <td>1</td>\n",
              "      <td>1</td>\n",
              "      <td>2015</td>\n",
              "      <td>0</td>\n",
              "      <td>10.580000</td>\n",
              "      <td>-21.25</td>\n",
              "      <td>-3.29</td>\n",
              "    </tr>\n",
              "    <tr>\n",
              "      <th>43764</th>\n",
              "      <td>1</td>\n",
              "      <td>1</td>\n",
              "      <td>2015</td>\n",
              "      <td>1</td>\n",
              "      <td>13.880000</td>\n",
              "      <td>-21.27</td>\n",
              "      <td>-3.47</td>\n",
              "    </tr>\n",
              "    <tr>\n",
              "      <th>43765</th>\n",
              "      <td>1</td>\n",
              "      <td>1</td>\n",
              "      <td>2015</td>\n",
              "      <td>2</td>\n",
              "      <td>11.963333</td>\n",
              "      <td>-21.35</td>\n",
              "      <td>-3.42</td>\n",
              "    </tr>\n",
              "    <tr>\n",
              "      <th>43766</th>\n",
              "      <td>1</td>\n",
              "      <td>1</td>\n",
              "      <td>2015</td>\n",
              "      <td>3</td>\n",
              "      <td>13.680000</td>\n",
              "      <td>-21.12</td>\n",
              "      <td>-3.44</td>\n",
              "    </tr>\n",
              "    <tr>\n",
              "      <th>43767</th>\n",
              "      <td>1</td>\n",
              "      <td>1</td>\n",
              "      <td>2015</td>\n",
              "      <td>4</td>\n",
              "      <td>12.600000</td>\n",
              "      <td>-21.30</td>\n",
              "      <td>-3.41</td>\n",
              "    </tr>\n",
              "    <tr>\n",
              "      <th>43768</th>\n",
              "      <td>1</td>\n",
              "      <td>1</td>\n",
              "      <td>2015</td>\n",
              "      <td>5</td>\n",
              "      <td>13.810000</td>\n",
              "      <td>-21.10</td>\n",
              "      <td>-3.33</td>\n",
              "    </tr>\n",
              "  </tbody>\n",
              "</table>\n",
              "</div>"
            ],
            "text/plain": [
              "       day  month  year  hour      pm2.5   DEWP  TEMP\n",
              "43763    1      1  2015     0  10.580000 -21.25 -3.29\n",
              "43764    1      1  2015     1  13.880000 -21.27 -3.47\n",
              "43765    1      1  2015     2  11.963333 -21.35 -3.42\n",
              "43766    1      1  2015     3  13.680000 -21.12 -3.44\n",
              "43767    1      1  2015     4  12.600000 -21.30 -3.41\n",
              "43768    1      1  2015     5  13.810000 -21.10 -3.33"
            ]
          },
          "metadata": {
            "tags": []
          },
          "execution_count": 61
        }
      ]
    },
    {
      "cell_type": "markdown",
      "metadata": {
        "id": "z3LAWLjNO0cZ",
        "colab_type": "text"
      },
      "source": [
        "- season\n",
        "- trend\n",
        "- statistical models for time serries\n",
        "- how data transform by times (up or down, low or high)\n",
        "- past data for weekdays or for pm2.5 last year\n",
        "- k fold cross validation for time series"
      ]
    }
  ]
}